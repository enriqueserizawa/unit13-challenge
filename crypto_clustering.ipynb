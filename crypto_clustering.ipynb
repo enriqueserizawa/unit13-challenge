{
 "cells": [
  {
   "cell_type": "markdown",
   "metadata": {},
   "source": [
    "# Clustering Crypto"
   ]
  },
  {
   "cell_type": "code",
   "execution_count": 461,
   "metadata": {},
   "outputs": [],
   "source": [
    "import requests\n",
    "import pandas as pd\n",
    "import matplotlib.pyplot as plt\n",
    "import hvplot.pandas\n",
    "import plotly.express as px\n",
    "from sklearn.preprocessing import StandardScaler, MinMaxScaler\n",
    "from sklearn.decomposition import PCA\n",
    "from sklearn.cluster import KMeans\n",
    "from pandas.io.json import json_normalize\n"
   ]
  },
  {
   "cell_type": "markdown",
   "metadata": {},
   "source": [
    "### Fetching Cryptocurrency Data"
   ]
  },
  {
   "cell_type": "code",
   "execution_count": 462,
   "metadata": {},
   "outputs": [],
   "source": [
    "api_key = \"320d3649d072d10f295c182cd1f3b068e4726ba8a78289d1e1881718b8d30d0d\"\n",
    "\n",
    "url = \"https://min-api.cryptocompare.com/data/all/coinlist\"\n",
    "\n",
    "import requests\n"
   ]
  },
  {
   "cell_type": "code",
   "execution_count": 463,
   "metadata": {},
   "outputs": [
    {
     "data": {
      "text/html": [
       "<div>\n",
       "<style scoped>\n",
       "    .dataframe tbody tr th:only-of-type {\n",
       "        vertical-align: middle;\n",
       "    }\n",
       "\n",
       "    .dataframe tbody tr th {\n",
       "        vertical-align: top;\n",
       "    }\n",
       "\n",
       "    .dataframe thead th {\n",
       "        text-align: right;\n",
       "    }\n",
       "</style>\n",
       "<table border=\"1\" class=\"dataframe\">\n",
       "  <thead>\n",
       "    <tr style=\"text-align: right;\">\n",
       "      <th></th>\n",
       "      <th>Response</th>\n",
       "      <th>Message</th>\n",
       "      <th>Data</th>\n",
       "      <th>BaseImageUrl</th>\n",
       "      <th>BaseLinkUrl</th>\n",
       "      <th>RateLimit</th>\n",
       "      <th>HasWarning</th>\n",
       "      <th>Type</th>\n",
       "    </tr>\n",
       "  </thead>\n",
       "  <tbody>\n",
       "    <tr>\n",
       "      <th>007</th>\n",
       "      <td>Success</td>\n",
       "      <td>Coin list succesfully returned!</td>\n",
       "      <td>{'Id': '5294', 'Url': '/coins/007/overview', '...</td>\n",
       "      <td>https://www.cryptocompare.com</td>\n",
       "      <td>https://www.cryptocompare.com</td>\n",
       "      <td>NaN</td>\n",
       "      <td>False</td>\n",
       "      <td>100</td>\n",
       "    </tr>\n",
       "    <tr>\n",
       "      <th>0XBTC</th>\n",
       "      <td>Success</td>\n",
       "      <td>Coin list succesfully returned!</td>\n",
       "      <td>{'Id': '877383', 'Url': '/coins/0xbtc/overview...</td>\n",
       "      <td>https://www.cryptocompare.com</td>\n",
       "      <td>https://www.cryptocompare.com</td>\n",
       "      <td>NaN</td>\n",
       "      <td>False</td>\n",
       "      <td>100</td>\n",
       "    </tr>\n",
       "    <tr>\n",
       "      <th>0xDIARY</th>\n",
       "      <td>Success</td>\n",
       "      <td>Coin list succesfully returned!</td>\n",
       "      <td>{'Id': '913090', 'Url': '/coins/0xdiary/overvi...</td>\n",
       "      <td>https://www.cryptocompare.com</td>\n",
       "      <td>https://www.cryptocompare.com</td>\n",
       "      <td>NaN</td>\n",
       "      <td>False</td>\n",
       "      <td>100</td>\n",
       "    </tr>\n",
       "    <tr>\n",
       "      <th>1337</th>\n",
       "      <td>Success</td>\n",
       "      <td>Coin list succesfully returned!</td>\n",
       "      <td>{'Id': '20824', 'Url': '/coins/1337/overview',...</td>\n",
       "      <td>https://www.cryptocompare.com</td>\n",
       "      <td>https://www.cryptocompare.com</td>\n",
       "      <td>NaN</td>\n",
       "      <td>False</td>\n",
       "      <td>100</td>\n",
       "    </tr>\n",
       "    <tr>\n",
       "      <th>1CR</th>\n",
       "      <td>Success</td>\n",
       "      <td>Coin list succesfully returned!</td>\n",
       "      <td>{'Id': '5406', 'Url': '/coins/1cr/overview', '...</td>\n",
       "      <td>https://www.cryptocompare.com</td>\n",
       "      <td>https://www.cryptocompare.com</td>\n",
       "      <td>NaN</td>\n",
       "      <td>False</td>\n",
       "      <td>100</td>\n",
       "    </tr>\n",
       "  </tbody>\n",
       "</table>\n",
       "</div>"
      ],
      "text/plain": [
       "        Response                          Message  \\\n",
       "007      Success  Coin list succesfully returned!   \n",
       "0XBTC    Success  Coin list succesfully returned!   \n",
       "0xDIARY  Success  Coin list succesfully returned!   \n",
       "1337     Success  Coin list succesfully returned!   \n",
       "1CR      Success  Coin list succesfully returned!   \n",
       "\n",
       "                                                      Data  \\\n",
       "007      {'Id': '5294', 'Url': '/coins/007/overview', '...   \n",
       "0XBTC    {'Id': '877383', 'Url': '/coins/0xbtc/overview...   \n",
       "0xDIARY  {'Id': '913090', 'Url': '/coins/0xdiary/overvi...   \n",
       "1337     {'Id': '20824', 'Url': '/coins/1337/overview',...   \n",
       "1CR      {'Id': '5406', 'Url': '/coins/1cr/overview', '...   \n",
       "\n",
       "                          BaseImageUrl                    BaseLinkUrl  \\\n",
       "007      https://www.cryptocompare.com  https://www.cryptocompare.com   \n",
       "0XBTC    https://www.cryptocompare.com  https://www.cryptocompare.com   \n",
       "0xDIARY  https://www.cryptocompare.com  https://www.cryptocompare.com   \n",
       "1337     https://www.cryptocompare.com  https://www.cryptocompare.com   \n",
       "1CR      https://www.cryptocompare.com  https://www.cryptocompare.com   \n",
       "\n",
       "         RateLimit  HasWarning  Type  \n",
       "007            NaN       False   100  \n",
       "0XBTC          NaN       False   100  \n",
       "0xDIARY        NaN       False   100  \n",
       "1337           NaN       False   100  \n",
       "1CR            NaN       False   100  "
      ]
     },
     "execution_count": 463,
     "metadata": {},
     "output_type": "execute_result"
    }
   ],
   "source": [
    "# Creating a DataFrame\n",
    "res = requests.get(url)\n",
    "res = res.json()\n",
    "df_res = pd.DataFrame.from_dict(res)\n",
    "df_res.head()"
   ]
  },
  {
   "cell_type": "code",
   "execution_count": 464,
   "metadata": {},
   "outputs": [
    {
     "data": {
      "text/html": [
       "<div>\n",
       "<style scoped>\n",
       "    .dataframe tbody tr th:only-of-type {\n",
       "        vertical-align: middle;\n",
       "    }\n",
       "\n",
       "    .dataframe tbody tr th {\n",
       "        vertical-align: top;\n",
       "    }\n",
       "\n",
       "    .dataframe thead th {\n",
       "        text-align: right;\n",
       "    }\n",
       "</style>\n",
       "<table border=\"1\" class=\"dataframe\">\n",
       "  <thead>\n",
       "    <tr style=\"text-align: right;\">\n",
       "      <th></th>\n",
       "      <th>Algorithm</th>\n",
       "      <th>BlockNumber</th>\n",
       "      <th>BlockReward</th>\n",
       "      <th>BlockTime</th>\n",
       "      <th>BuiltOn</th>\n",
       "      <th>CoinName</th>\n",
       "      <th>ContentCreatedOn</th>\n",
       "      <th>FullName</th>\n",
       "      <th>FullyPremined</th>\n",
       "      <th>Id</th>\n",
       "      <th>...</th>\n",
       "      <th>Taxonomy.CollateralType</th>\n",
       "      <th>Taxonomy.CollateralizedAsset</th>\n",
       "      <th>Taxonomy.CollateralizedAssetType</th>\n",
       "      <th>Taxonomy.FCA</th>\n",
       "      <th>Taxonomy.FINMA</th>\n",
       "      <th>Taxonomy.Industry</th>\n",
       "      <th>TotalCoinSupply</th>\n",
       "      <th>TotalCoinsFreeFloat</th>\n",
       "      <th>TotalCoinsMined</th>\n",
       "      <th>Url</th>\n",
       "    </tr>\n",
       "  </thead>\n",
       "  <tbody>\n",
       "    <tr>\n",
       "      <th>0</th>\n",
       "      <td>Scrypt</td>\n",
       "      <td>NaN</td>\n",
       "      <td>NaN</td>\n",
       "      <td>NaN</td>\n",
       "      <td>N/A</td>\n",
       "      <td>007 coin</td>\n",
       "      <td>1430209551</td>\n",
       "      <td>007 coin (007)</td>\n",
       "      <td>0</td>\n",
       "      <td>5294</td>\n",
       "      <td>...</td>\n",
       "      <td></td>\n",
       "      <td></td>\n",
       "      <td></td>\n",
       "      <td></td>\n",
       "      <td></td>\n",
       "      <td></td>\n",
       "      <td>989800</td>\n",
       "      <td>N/A</td>\n",
       "      <td>NaN</td>\n",
       "      <td>/coins/007/overview</td>\n",
       "    </tr>\n",
       "    <tr>\n",
       "      <th>1</th>\n",
       "      <td>N/A</td>\n",
       "      <td>0.0</td>\n",
       "      <td>0.0</td>\n",
       "      <td>0.0</td>\n",
       "      <td>7605</td>\n",
       "      <td>0xBitcoin</td>\n",
       "      <td>1525792954</td>\n",
       "      <td>0xBitcoin (0xBTC)</td>\n",
       "      <td>0</td>\n",
       "      <td>877383</td>\n",
       "      <td>...</td>\n",
       "      <td></td>\n",
       "      <td></td>\n",
       "      <td></td>\n",
       "      <td></td>\n",
       "      <td></td>\n",
       "      <td></td>\n",
       "      <td>21000000</td>\n",
       "      <td>N/A</td>\n",
       "      <td>2.099998e+07</td>\n",
       "      <td>/coins/0xbtc/overview</td>\n",
       "    </tr>\n",
       "    <tr>\n",
       "      <th>2</th>\n",
       "      <td>N/A</td>\n",
       "      <td>NaN</td>\n",
       "      <td>NaN</td>\n",
       "      <td>NaN</td>\n",
       "      <td>7605</td>\n",
       "      <td>The 0xDiary Token</td>\n",
       "      <td>1530540488</td>\n",
       "      <td>The 0xDiary Token (0xDIARY)</td>\n",
       "      <td>0</td>\n",
       "      <td>913090</td>\n",
       "      <td>...</td>\n",
       "      <td></td>\n",
       "      <td></td>\n",
       "      <td></td>\n",
       "      <td></td>\n",
       "      <td></td>\n",
       "      <td></td>\n",
       "      <td>1000000</td>\n",
       "      <td>N/A</td>\n",
       "      <td>NaN</td>\n",
       "      <td>/coins/0xdiary/overview</td>\n",
       "    </tr>\n",
       "    <tr>\n",
       "      <th>3</th>\n",
       "      <td>X13</td>\n",
       "      <td>2259647.0</td>\n",
       "      <td>0.0</td>\n",
       "      <td>60.0</td>\n",
       "      <td>N/A</td>\n",
       "      <td>EliteCoin</td>\n",
       "      <td>1465838687</td>\n",
       "      <td>EliteCoin (1337)</td>\n",
       "      <td>0</td>\n",
       "      <td>20824</td>\n",
       "      <td>...</td>\n",
       "      <td></td>\n",
       "      <td></td>\n",
       "      <td></td>\n",
       "      <td></td>\n",
       "      <td></td>\n",
       "      <td></td>\n",
       "      <td>314159265359</td>\n",
       "      <td>N/A</td>\n",
       "      <td>2.931196e+10</td>\n",
       "      <td>/coins/1337/overview</td>\n",
       "    </tr>\n",
       "    <tr>\n",
       "      <th>4</th>\n",
       "      <td>Scrypt</td>\n",
       "      <td>0.0</td>\n",
       "      <td>0.0</td>\n",
       "      <td>0.0</td>\n",
       "      <td>N/A</td>\n",
       "      <td>1Credit</td>\n",
       "      <td>1430211162</td>\n",
       "      <td>1Credit (1CR)</td>\n",
       "      <td>0</td>\n",
       "      <td>5406</td>\n",
       "      <td>...</td>\n",
       "      <td></td>\n",
       "      <td></td>\n",
       "      <td></td>\n",
       "      <td></td>\n",
       "      <td></td>\n",
       "      <td></td>\n",
       "      <td>92000000000</td>\n",
       "      <td>N/A</td>\n",
       "      <td>8.821300e+04</td>\n",
       "      <td>/coins/1cr/overview</td>\n",
       "    </tr>\n",
       "  </tbody>\n",
       "</table>\n",
       "<p>5 rows × 32 columns</p>\n",
       "</div>"
      ],
      "text/plain": [
       "  Algorithm  BlockNumber  BlockReward  BlockTime BuiltOn           CoinName  \\\n",
       "0    Scrypt          NaN          NaN        NaN     N/A           007 coin   \n",
       "1       N/A          0.0          0.0        0.0    7605          0xBitcoin   \n",
       "2       N/A          NaN          NaN        NaN    7605  The 0xDiary Token   \n",
       "3       X13    2259647.0          0.0       60.0     N/A          EliteCoin   \n",
       "4    Scrypt          0.0          0.0        0.0     N/A            1Credit   \n",
       "\n",
       "   ContentCreatedOn                     FullName FullyPremined      Id  ...  \\\n",
       "0        1430209551               007 coin (007)             0    5294  ...   \n",
       "1        1525792954            0xBitcoin (0xBTC)             0  877383  ...   \n",
       "2        1530540488  The 0xDiary Token (0xDIARY)             0  913090  ...   \n",
       "3        1465838687             EliteCoin (1337)             0   20824  ...   \n",
       "4        1430211162                1Credit (1CR)             0    5406  ...   \n",
       "\n",
       "  Taxonomy.CollateralType  Taxonomy.CollateralizedAsset  \\\n",
       "0                                                         \n",
       "1                                                         \n",
       "2                                                         \n",
       "3                                                         \n",
       "4                                                         \n",
       "\n",
       "  Taxonomy.CollateralizedAssetType  Taxonomy.FCA Taxonomy.FINMA  \\\n",
       "0                                                                 \n",
       "1                                                                 \n",
       "2                                                                 \n",
       "3                                                                 \n",
       "4                                                                 \n",
       "\n",
       "  Taxonomy.Industry TotalCoinSupply TotalCoinsFreeFloat  TotalCoinsMined  \\\n",
       "0                            989800                 N/A              NaN   \n",
       "1                          21000000                 N/A     2.099998e+07   \n",
       "2                           1000000                 N/A              NaN   \n",
       "3                      314159265359                 N/A     2.931196e+10   \n",
       "4                       92000000000                 N/A     8.821300e+04   \n",
       "\n",
       "                       Url  \n",
       "0      /coins/007/overview  \n",
       "1    /coins/0xbtc/overview  \n",
       "2  /coins/0xdiary/overview  \n",
       "3     /coins/1337/overview  \n",
       "4      /coins/1cr/overview  \n",
       "\n",
       "[5 rows x 32 columns]"
      ]
     },
     "execution_count": 464,
     "metadata": {},
     "output_type": "execute_result"
    }
   ],
   "source": [
    "df = json_normalize(df_res['Data'])\n",
    "df.head()"
   ]
  },
  {
   "cell_type": "code",
   "execution_count": 465,
   "metadata": {},
   "outputs": [
    {
     "data": {
      "text/plain": [
       "Index(['Algorithm', 'BlockNumber', 'BlockReward', 'BlockTime', 'BuiltOn',\n",
       "       'CoinName', 'ContentCreatedOn', 'FullName', 'FullyPremined', 'Id',\n",
       "       'ImageUrl', 'IsTrading', 'Name', 'NetHashesPerSecond', 'PreMinedValue',\n",
       "       'ProofType', 'SmartContractAddress', 'SortOrder', 'Sponsored', 'Symbol',\n",
       "       'Taxonomy.Access', 'Taxonomy.CollateralInfo', 'Taxonomy.CollateralType',\n",
       "       'Taxonomy.CollateralizedAsset', 'Taxonomy.CollateralizedAssetType',\n",
       "       'Taxonomy.FCA', 'Taxonomy.FINMA', 'Taxonomy.Industry',\n",
       "       'TotalCoinSupply', 'TotalCoinsFreeFloat', 'TotalCoinsMined', 'Url'],\n",
       "      dtype='object')"
      ]
     },
     "execution_count": 465,
     "metadata": {},
     "output_type": "execute_result"
    }
   ],
   "source": [
    "df.columns"
   ]
  },
  {
   "cell_type": "code",
   "execution_count": 466,
   "metadata": {},
   "outputs": [],
   "source": [
    "df_c = df.drop(columns=['Taxonomy.Access', 'Taxonomy.CollateralInfo', 'Taxonomy.CollateralType',\n",
    "       'Taxonomy.CollateralizedAsset', 'Taxonomy.CollateralizedAssetType',\n",
    "       'Taxonomy.FCA', 'Taxonomy.FINMA', 'Taxonomy.Industry'])\n",
    "\n",
    "# Get names of indexes for which column Algorithm has value \"N/A\"\n",
    "NoAlgorithm = df_c[ df_c['Algorithm'] == \"N/A\" ].index\n",
    "# Delete these row indexes from dataFrame\n",
    "df_c.drop(NoAlgorithm, inplace=True)\n",
    "\n",
    "# Get names of indexes for which column IsTrading has value \"False\"\n",
    "NoTrading = df_c[ df_c['IsTrading'] == False ].index \n",
    "# Delete these row indexes from dataFrame\n",
    "df_c.drop(NoTrading, inplace=True)\n",
    "\n",
    "# Get names of indexes for which column TotalCoinsMined has value \"NaN\", zero or less.\n",
    "# Delete these row indexes from dataFrame\n",
    "df_c = df_c[pd.notnull(df_c[\"TotalCoinsMined\"])]\n",
    "NoCoinMined = df_c[ df_c[\"TotalCoinsMined\"] <= 0 ].index \n",
    "df_c.drop(NoCoinMined, inplace=True)\n",
    "\n",
    "# Get names of indexes for which column has value \"N/A\"\n",
    "NA_TotalCoinSupply = df_c[ df_c[\"TotalCoinSupply\"] == \"N/A\" ].index\n",
    "# Delete these row indexes from dataFrame\n",
    "df_c.drop(NA_TotalCoinSupply, inplace=True)\n",
    "\n",
    "# Get names of indexes for which column has value \"N/A\"\n",
    "NA_ProofType = df_c[ df_c[\"ProofType\"] == \"N/A\" ].index\n",
    "# Delete these row indexes from dataFrame\n",
    "df_c.drop(NA_ProofType, inplace=True)\n"
   ]
  },
  {
   "cell_type": "code",
   "execution_count": 467,
   "metadata": {},
   "outputs": [],
   "source": [
    "#Drop unnecesary columns\n",
    "df_c.drop(columns=['IsTrading', 'PreMinedValue', 'TotalCoinsFreeFloat'], inplace=True)\n",
    "coins_names = df_c.set_index('CoinName')\n",
    "X = coins_names.drop(columns=['Url', 'Symbol', 'SmartContractAddress', 'Name', 'ImageUrl', 'Id', 'FullName', 'BuiltOn'])"
   ]
  },
  {
   "cell_type": "code",
   "execution_count": 468,
   "metadata": {},
   "outputs": [],
   "source": [
    "X = pd.get_dummies(X, columns=[\"Algorithm\", \"ProofType\", \"Sponsored\"])\n",
    "X[\"TotalCoinSupply\"] = pd.to_numeric(X[\"TotalCoinSupply\"])"
   ]
  },
  {
   "cell_type": "code",
   "execution_count": 469,
   "metadata": {},
   "outputs": [
    {
     "data": {
      "text/html": [
       "<div>\n",
       "<style scoped>\n",
       "    .dataframe tbody tr th:only-of-type {\n",
       "        vertical-align: middle;\n",
       "    }\n",
       "\n",
       "    .dataframe tbody tr th {\n",
       "        vertical-align: top;\n",
       "    }\n",
       "\n",
       "    .dataframe thead th {\n",
       "        text-align: right;\n",
       "    }\n",
       "</style>\n",
       "<table border=\"1\" class=\"dataframe\">\n",
       "  <thead>\n",
       "    <tr style=\"text-align: right;\">\n",
       "      <th></th>\n",
       "      <th>BlockNumber</th>\n",
       "      <th>BlockReward</th>\n",
       "      <th>BlockTime</th>\n",
       "      <th>ContentCreatedOn</th>\n",
       "      <th>FullyPremined</th>\n",
       "      <th>NetHashesPerSecond</th>\n",
       "      <th>SortOrder</th>\n",
       "      <th>TotalCoinSupply</th>\n",
       "      <th>TotalCoinsMined</th>\n",
       "      <th>Algorithm_1GB AES Pattern Search</th>\n",
       "      <th>...</th>\n",
       "      <th>ProofType_PoW/PoS</th>\n",
       "      <th>ProofType_PoW/PoW</th>\n",
       "      <th>ProofType_PoW/nPoS</th>\n",
       "      <th>ProofType_Pos</th>\n",
       "      <th>ProofType_Proof of Authority</th>\n",
       "      <th>ProofType_Proof of Trust</th>\n",
       "      <th>ProofType_TPoS</th>\n",
       "      <th>ProofType_Zero-Knowledge Proof</th>\n",
       "      <th>ProofType_dPoW/PoW</th>\n",
       "      <th>Sponsored_False</th>\n",
       "    </tr>\n",
       "    <tr>\n",
       "      <th>CoinName</th>\n",
       "      <th></th>\n",
       "      <th></th>\n",
       "      <th></th>\n",
       "      <th></th>\n",
       "      <th></th>\n",
       "      <th></th>\n",
       "      <th></th>\n",
       "      <th></th>\n",
       "      <th></th>\n",
       "      <th></th>\n",
       "      <th></th>\n",
       "      <th></th>\n",
       "      <th></th>\n",
       "      <th></th>\n",
       "      <th></th>\n",
       "      <th></th>\n",
       "      <th></th>\n",
       "      <th></th>\n",
       "      <th></th>\n",
       "      <th></th>\n",
       "      <th></th>\n",
       "    </tr>\n",
       "  </thead>\n",
       "  <tbody>\n",
       "    <tr>\n",
       "      <th>EliteCoin</th>\n",
       "      <td>2259647.0</td>\n",
       "      <td>0.0</td>\n",
       "      <td>60.0</td>\n",
       "      <td>1465838687</td>\n",
       "      <td>0</td>\n",
       "      <td>0.0</td>\n",
       "      <td>577</td>\n",
       "      <td>3.141593e+11</td>\n",
       "      <td>2.931196e+10</td>\n",
       "      <td>0</td>\n",
       "      <td>...</td>\n",
       "      <td>0</td>\n",
       "      <td>0</td>\n",
       "      <td>0</td>\n",
       "      <td>0</td>\n",
       "      <td>0</td>\n",
       "      <td>0</td>\n",
       "      <td>0</td>\n",
       "      <td>0</td>\n",
       "      <td>0</td>\n",
       "      <td>1</td>\n",
       "    </tr>\n",
       "    <tr>\n",
       "      <th>1Credit</th>\n",
       "      <td>0.0</td>\n",
       "      <td>0.0</td>\n",
       "      <td>0.0</td>\n",
       "      <td>1430211162</td>\n",
       "      <td>0</td>\n",
       "      <td>0.0</td>\n",
       "      <td>374</td>\n",
       "      <td>9.200000e+10</td>\n",
       "      <td>8.821300e+04</td>\n",
       "      <td>0</td>\n",
       "      <td>...</td>\n",
       "      <td>0</td>\n",
       "      <td>0</td>\n",
       "      <td>0</td>\n",
       "      <td>0</td>\n",
       "      <td>0</td>\n",
       "      <td>0</td>\n",
       "      <td>0</td>\n",
       "      <td>0</td>\n",
       "      <td>0</td>\n",
       "      <td>1</td>\n",
       "    </tr>\n",
       "    <tr>\n",
       "      <th>42 Coin</th>\n",
       "      <td>147668.0</td>\n",
       "      <td>0.0</td>\n",
       "      <td>0.0</td>\n",
       "      <td>1427211129</td>\n",
       "      <td>0</td>\n",
       "      <td>0.0</td>\n",
       "      <td>34</td>\n",
       "      <td>4.200000e+01</td>\n",
       "      <td>4.199995e+01</td>\n",
       "      <td>0</td>\n",
       "      <td>...</td>\n",
       "      <td>0</td>\n",
       "      <td>0</td>\n",
       "      <td>0</td>\n",
       "      <td>0</td>\n",
       "      <td>0</td>\n",
       "      <td>0</td>\n",
       "      <td>0</td>\n",
       "      <td>0</td>\n",
       "      <td>0</td>\n",
       "      <td>1</td>\n",
       "    </tr>\n",
       "    <tr>\n",
       "      <th>8BIT Coin</th>\n",
       "      <td>0.0</td>\n",
       "      <td>0.0</td>\n",
       "      <td>0.0</td>\n",
       "      <td>1430210081</td>\n",
       "      <td>0</td>\n",
       "      <td>0.0</td>\n",
       "      <td>295</td>\n",
       "      <td>0.000000e+00</td>\n",
       "      <td>1.467841e+06</td>\n",
       "      <td>0</td>\n",
       "      <td>...</td>\n",
       "      <td>0</td>\n",
       "      <td>0</td>\n",
       "      <td>0</td>\n",
       "      <td>0</td>\n",
       "      <td>0</td>\n",
       "      <td>0</td>\n",
       "      <td>0</td>\n",
       "      <td>0</td>\n",
       "      <td>0</td>\n",
       "      <td>1</td>\n",
       "    </tr>\n",
       "    <tr>\n",
       "      <th>Acute Angle Cloud</th>\n",
       "      <td>0.0</td>\n",
       "      <td>0.0</td>\n",
       "      <td>0.0</td>\n",
       "      <td>1535106240</td>\n",
       "      <td>0</td>\n",
       "      <td>0.0</td>\n",
       "      <td>3271</td>\n",
       "      <td>1.000000e+09</td>\n",
       "      <td>1.000000e+09</td>\n",
       "      <td>0</td>\n",
       "      <td>...</td>\n",
       "      <td>0</td>\n",
       "      <td>0</td>\n",
       "      <td>0</td>\n",
       "      <td>0</td>\n",
       "      <td>0</td>\n",
       "      <td>0</td>\n",
       "      <td>0</td>\n",
       "      <td>0</td>\n",
       "      <td>0</td>\n",
       "      <td>1</td>\n",
       "    </tr>\n",
       "  </tbody>\n",
       "</table>\n",
       "<p>5 rows × 106 columns</p>\n",
       "</div>"
      ],
      "text/plain": [
       "                   BlockNumber  BlockReward  BlockTime  ContentCreatedOn  \\\n",
       "CoinName                                                                   \n",
       "EliteCoin            2259647.0          0.0       60.0        1465838687   \n",
       "1Credit                    0.0          0.0        0.0        1430211162   \n",
       "42 Coin               147668.0          0.0        0.0        1427211129   \n",
       "8BIT Coin                  0.0          0.0        0.0        1430210081   \n",
       "Acute Angle Cloud          0.0          0.0        0.0        1535106240   \n",
       "\n",
       "                  FullyPremined  NetHashesPerSecond SortOrder  \\\n",
       "CoinName                                                        \n",
       "EliteCoin                     0                 0.0       577   \n",
       "1Credit                       0                 0.0       374   \n",
       "42 Coin                       0                 0.0        34   \n",
       "8BIT Coin                     0                 0.0       295   \n",
       "Acute Angle Cloud             0                 0.0      3271   \n",
       "\n",
       "                   TotalCoinSupply  TotalCoinsMined  \\\n",
       "CoinName                                              \n",
       "EliteCoin             3.141593e+11     2.931196e+10   \n",
       "1Credit               9.200000e+10     8.821300e+04   \n",
       "42 Coin               4.200000e+01     4.199995e+01   \n",
       "8BIT Coin             0.000000e+00     1.467841e+06   \n",
       "Acute Angle Cloud     1.000000e+09     1.000000e+09   \n",
       "\n",
       "                   Algorithm_1GB AES Pattern Search  ...  ProofType_PoW/PoS   \\\n",
       "CoinName                                             ...                       \n",
       "EliteCoin                                         0  ...                   0   \n",
       "1Credit                                           0  ...                   0   \n",
       "42 Coin                                           0  ...                   0   \n",
       "8BIT Coin                                         0  ...                   0   \n",
       "Acute Angle Cloud                                 0  ...                   0   \n",
       "\n",
       "                   ProofType_PoW/PoW  ProofType_PoW/nPoS  ProofType_Pos  \\\n",
       "CoinName                                                                  \n",
       "EliteCoin                          0                   0              0   \n",
       "1Credit                            0                   0              0   \n",
       "42 Coin                            0                   0              0   \n",
       "8BIT Coin                          0                   0              0   \n",
       "Acute Angle Cloud                  0                   0              0   \n",
       "\n",
       "                   ProofType_Proof of Authority  ProofType_Proof of Trust  \\\n",
       "CoinName                                                                    \n",
       "EliteCoin                                     0                         0   \n",
       "1Credit                                       0                         0   \n",
       "42 Coin                                       0                         0   \n",
       "8BIT Coin                                     0                         0   \n",
       "Acute Angle Cloud                             0                         0   \n",
       "\n",
       "                   ProofType_TPoS  ProofType_Zero-Knowledge Proof  \\\n",
       "CoinName                                                            \n",
       "EliteCoin                       0                               0   \n",
       "1Credit                         0                               0   \n",
       "42 Coin                         0                               0   \n",
       "8BIT Coin                       0                               0   \n",
       "Acute Angle Cloud               0                               0   \n",
       "\n",
       "                   ProofType_dPoW/PoW  Sponsored_False  \n",
       "CoinName                                                \n",
       "EliteCoin                           0                1  \n",
       "1Credit                             0                1  \n",
       "42 Coin                             0                1  \n",
       "8BIT Coin                           0                1  \n",
       "Acute Angle Cloud                   0                1  \n",
       "\n",
       "[5 rows x 106 columns]"
      ]
     },
     "execution_count": 469,
     "metadata": {},
     "output_type": "execute_result"
    }
   ],
   "source": [
    "X.head()"
   ]
  },
  {
   "cell_type": "code",
   "execution_count": 470,
   "metadata": {},
   "outputs": [],
   "source": [
    "# Fit the Standard Scaler with the training data\n",
    "X_scaled = StandardScaler().fit_transform(X)"
   ]
  },
  {
   "cell_type": "code",
   "execution_count": 471,
   "metadata": {
    "collapsed": true,
    "jupyter": {
     "outputs_hidden": true
    }
   },
   "outputs": [
    {
     "name": "stdout",
     "output_type": "stream",
     "text": [
      "[[ 0.34815168 -0.07426215 -0.07544957 -0.38742141 -0.20810355 -0.08571019\n",
      "  -0.6569928   4.48062052  0.52327272 -0.04347826 -0.04347826 -0.04347826\n",
      "  -0.06154575 -0.07544932 -0.04347826 -0.06154575 -0.06154575 -0.04347826\n",
      "  -0.04347826 -0.19282634 -0.06154575 -0.09759001 -0.04347826 -0.04347826\n",
      "  -0.11569063 -0.07544932 -0.04347826 -0.04347826 -0.15220389 -0.04347826\n",
      "  -0.13143239 -0.04347826 -0.04347826 -0.08720414 -0.04347826 -0.04347826\n",
      "  -0.04347826 -0.04347826 -0.06154575 -0.04347826 -0.07544932 -0.08720414\n",
      "  -0.08720414 -0.04347826 -0.13867505 -0.13867505 -0.13867505 -0.04347826\n",
      "  -0.04347826 -0.04347826 -0.07544932 -0.1875     -0.04347826 -0.04347826\n",
      "  -0.04347826 -0.07544932 -0.16471728 -0.31194309 -0.04347826 -0.08720414\n",
      "  -0.07544932 -0.06154575 -0.71713717 -0.04347826 -0.04347826 -0.06154575\n",
      "  -0.04347826 -0.04347826 -0.04347826 -0.04347826 -0.04347826 -0.04347826\n",
      "  -0.04347826 -0.04347826 -0.39967164 -0.04347826  5.66789202 -0.04347826\n",
      "  -0.08720414 -0.08720414 -0.10700646 -0.04347826 -0.13143239 -0.04347826\n",
      "  -0.04347826 -0.04347826 -0.04347826 -0.07544932 -0.44315715 -0.04347826\n",
      "  -0.06154575 -0.04347826 -0.04347826 -0.89594703 -0.04347826  1.42427927\n",
      "  -0.04347826 -0.04347826 -0.04347826 -0.04347826 -0.04347826 -0.04347826\n",
      "  -0.04347826 -0.04347826 -0.04347826  0.        ]\n",
      " [-0.25882365 -0.07426215 -0.07545012 -1.27559189 -0.20810355 -0.08571019\n",
      "  -0.83760321  1.20385489 -0.11779962 -0.04347826 -0.04347826 -0.04347826\n",
      "  -0.06154575 -0.07544932 -0.04347826 -0.06154575 -0.06154575 -0.04347826\n",
      "  -0.04347826 -0.19282634 -0.06154575 -0.09759001 -0.04347826 -0.04347826\n",
      "  -0.11569063 -0.07544932 -0.04347826 -0.04347826 -0.15220389 -0.04347826\n",
      "  -0.13143239 -0.04347826 -0.04347826 -0.08720414 -0.04347826 -0.04347826\n",
      "  -0.04347826 -0.04347826 -0.06154575 -0.04347826 -0.07544932 -0.08720414\n",
      "  -0.08720414 -0.04347826 -0.13867505 -0.13867505 -0.13867505 -0.04347826\n",
      "  -0.04347826 -0.04347826 -0.07544932 -0.1875     -0.04347826 -0.04347826\n",
      "  -0.04347826 -0.07544932 -0.16471728 -0.31194309 -0.04347826 -0.08720414\n",
      "  -0.07544932 -0.06154575  1.39443338 -0.04347826 -0.04347826 -0.06154575\n",
      "  -0.04347826 -0.04347826 -0.04347826 -0.04347826 -0.04347826 -0.04347826\n",
      "  -0.04347826 -0.04347826 -0.39967164 -0.04347826 -0.17643244 -0.04347826\n",
      "  -0.08720414 -0.08720414 -0.10700646 -0.04347826 -0.13143239 -0.04347826\n",
      "  -0.04347826 -0.04347826 -0.04347826 -0.07544932 -0.44315715 -0.04347826\n",
      "  -0.06154575 -0.04347826 -0.04347826  1.11613741 -0.04347826 -0.7021095\n",
      "  -0.04347826 -0.04347826 -0.04347826 -0.04347826 -0.04347826 -0.04347826\n",
      "  -0.04347826 -0.04347826 -0.04347826  0.        ]\n",
      " [-0.21915779 -0.07426215 -0.07545012 -1.35038072 -0.20810355 -0.08571019\n",
      "  -1.14010339 -0.15311052 -0.11780155 -0.04347826 -0.04347826 -0.04347826\n",
      "  -0.06154575 -0.07544932 -0.04347826 -0.06154575 -0.06154575 -0.04347826\n",
      "  -0.04347826 -0.19282634 -0.06154575 -0.09759001 -0.04347826 -0.04347826\n",
      "  -0.11569063 -0.07544932 -0.04347826 -0.04347826 -0.15220389 -0.04347826\n",
      "  -0.13143239 -0.04347826 -0.04347826 -0.08720414 -0.04347826 -0.04347826\n",
      "  -0.04347826 -0.04347826 -0.06154575 -0.04347826 -0.07544932 -0.08720414\n",
      "  -0.08720414 -0.04347826 -0.13867505 -0.13867505 -0.13867505 -0.04347826\n",
      "  -0.04347826 -0.04347826 -0.07544932 -0.1875     -0.04347826 -0.04347826\n",
      "  -0.04347826 -0.07544932 -0.16471728 -0.31194309 -0.04347826 -0.08720414\n",
      "  -0.07544932 -0.06154575  1.39443338 -0.04347826 -0.04347826 -0.06154575\n",
      "  -0.04347826 -0.04347826 -0.04347826 -0.04347826 -0.04347826 -0.04347826\n",
      "  -0.04347826 -0.04347826 -0.39967164 -0.04347826 -0.17643244 -0.04347826\n",
      "  -0.08720414 -0.08720414 -0.10700646 -0.04347826 -0.13143239 -0.04347826\n",
      "  -0.04347826 -0.04347826 -0.04347826 -0.07544932 -0.44315715 -0.04347826\n",
      "  -0.06154575 -0.04347826 -0.04347826 -0.89594703 -0.04347826  1.42427927\n",
      "  -0.04347826 -0.04347826 -0.04347826 -0.04347826 -0.04347826 -0.04347826\n",
      "  -0.04347826 -0.04347826 -0.04347826  0.        ]\n",
      " [-0.25882365 -0.07426215 -0.07545012 -1.27561884 -0.20810355 -0.08571019\n",
      "  -0.90789002 -0.15311052 -0.11776945 -0.04347826 -0.04347826 -0.04347826\n",
      "  -0.06154575 -0.07544932 -0.04347826 -0.06154575 -0.06154575 -0.04347826\n",
      "  -0.04347826 -0.19282634 -0.06154575 -0.09759001 -0.04347826 -0.04347826\n",
      "  -0.11569063 -0.07544932 -0.04347826 -0.04347826 -0.15220389 -0.04347826\n",
      "  -0.13143239 -0.04347826 -0.04347826 -0.08720414 -0.04347826 -0.04347826\n",
      "  -0.04347826 -0.04347826 -0.06154575 -0.04347826 -0.07544932 -0.08720414\n",
      "  -0.08720414 -0.04347826 -0.13867505 -0.13867505 -0.13867505 -0.04347826\n",
      "  -0.04347826 -0.04347826 -0.07544932 -0.1875     -0.04347826 -0.04347826\n",
      "  -0.04347826 -0.07544932 -0.16471728 -0.31194309 -0.04347826 -0.08720414\n",
      "  -0.07544932 -0.06154575  1.39443338 -0.04347826 -0.04347826 -0.06154575\n",
      "  -0.04347826 -0.04347826 -0.04347826 -0.04347826 -0.04347826 -0.04347826\n",
      "  -0.04347826 -0.04347826 -0.39967164 -0.04347826 -0.17643244 -0.04347826\n",
      "  -0.08720414 -0.08720414 -0.10700646 -0.04347826 -0.13143239 -0.04347826\n",
      "  -0.04347826 -0.04347826 -0.04347826 -0.07544932 -0.44315715 -0.04347826\n",
      "  -0.06154575 -0.04347826 -0.04347826 -0.89594703 -0.04347826  1.42427927\n",
      "  -0.04347826 -0.04347826 -0.04347826 -0.04347826 -0.04347826 -0.04347826\n",
      "  -0.04347826 -0.04347826 -0.04347826  0.        ]\n",
      " [-0.25882365 -0.07426215 -0.07545012  1.33937258 -0.20810355 -0.08571019\n",
      "   1.73987632 -0.1383609  -0.09593081 -0.04347826 -0.04347826 -0.04347826\n",
      "  -0.06154575 -0.07544932 -0.04347826 -0.06154575 -0.06154575 -0.04347826\n",
      "  -0.04347826 -0.19282634 -0.06154575 -0.09759001 -0.04347826 -0.04347826\n",
      "  -0.11569063 -0.07544932 -0.04347826 23.         -0.15220389 -0.04347826\n",
      "  -0.13143239 -0.04347826 -0.04347826 -0.08720414 -0.04347826 -0.04347826\n",
      "  -0.04347826 -0.04347826 -0.06154575 -0.04347826 -0.07544932 -0.08720414\n",
      "  -0.08720414 -0.04347826 -0.13867505 -0.13867505 -0.13867505 -0.04347826\n",
      "  -0.04347826 -0.04347826 -0.07544932 -0.1875     -0.04347826 -0.04347826\n",
      "  -0.04347826 -0.07544932 -0.16471728 -0.31194309 -0.04347826 -0.08720414\n",
      "  -0.07544932 -0.06154575 -0.71713717 -0.04347826 -0.04347826 -0.06154575\n",
      "  -0.04347826 -0.04347826 -0.04347826 -0.04347826 -0.04347826 -0.04347826\n",
      "  -0.04347826 -0.04347826 -0.39967164 -0.04347826 -0.17643244 -0.04347826\n",
      "  -0.08720414 -0.08720414 -0.10700646 23.         -0.13143239 -0.04347826\n",
      "  -0.04347826 -0.04347826 -0.04347826 -0.07544932 -0.44315715 -0.04347826\n",
      "  -0.06154575 -0.04347826 -0.04347826 -0.89594703 -0.04347826 -0.7021095\n",
      "  -0.04347826 -0.04347826 -0.04347826 -0.04347826 -0.04347826 -0.04347826\n",
      "  -0.04347826 -0.04347826 -0.04347826  0.        ]]\n"
     ]
    }
   ],
   "source": [
    "print(X_scaled[0:5])"
   ]
  },
  {
   "cell_type": "code",
   "execution_count": 472,
   "metadata": {},
   "outputs": [],
   "source": [
    "### Initialize PCA model\n",
    "pca = PCA(n_components=3)\n",
    "\n",
    "# Get two principal components for the data.\n",
    "X_pca = pca.fit_transform(X_scaled)"
   ]
  },
  {
   "cell_type": "code",
   "execution_count": 473,
   "metadata": {},
   "outputs": [
    {
     "data": {
      "text/html": [
       "<div>\n",
       "<style scoped>\n",
       "    .dataframe tbody tr th:only-of-type {\n",
       "        vertical-align: middle;\n",
       "    }\n",
       "\n",
       "    .dataframe tbody tr th {\n",
       "        vertical-align: top;\n",
       "    }\n",
       "\n",
       "    .dataframe thead th {\n",
       "        text-align: right;\n",
       "    }\n",
       "</style>\n",
       "<table border=\"1\" class=\"dataframe\">\n",
       "  <thead>\n",
       "    <tr style=\"text-align: right;\">\n",
       "      <th></th>\n",
       "      <th>principal component 1</th>\n",
       "      <th>principal component 2</th>\n",
       "      <th>principal component 3</th>\n",
       "    </tr>\n",
       "  </thead>\n",
       "  <tbody>\n",
       "    <tr>\n",
       "      <th>0</th>\n",
       "      <td>1.443462</td>\n",
       "      <td>1.972345</td>\n",
       "      <td>0.165555</td>\n",
       "    </tr>\n",
       "    <tr>\n",
       "      <th>1</th>\n",
       "      <td>-0.489961</td>\n",
       "      <td>1.469055</td>\n",
       "      <td>-1.031828</td>\n",
       "    </tr>\n",
       "    <tr>\n",
       "      <th>2</th>\n",
       "      <td>-1.388098</td>\n",
       "      <td>1.488561</td>\n",
       "      <td>0.123529</td>\n",
       "    </tr>\n",
       "    <tr>\n",
       "      <th>3</th>\n",
       "      <td>-1.289630</td>\n",
       "      <td>1.345886</td>\n",
       "      <td>0.135833</td>\n",
       "    </tr>\n",
       "    <tr>\n",
       "      <th>4</th>\n",
       "      <td>2.892158</td>\n",
       "      <td>-7.133668</td>\n",
       "      <td>1.772247</td>\n",
       "    </tr>\n",
       "  </tbody>\n",
       "</table>\n",
       "</div>"
      ],
      "text/plain": [
       "   principal component 1  principal component 2  principal component 3\n",
       "0               1.443462               1.972345               0.165555\n",
       "1              -0.489961               1.469055              -1.031828\n",
       "2              -1.388098               1.488561               0.123529\n",
       "3              -1.289630               1.345886               0.135833\n",
       "4               2.892158              -7.133668               1.772247"
      ]
     },
     "execution_count": 473,
     "metadata": {},
     "output_type": "execute_result"
    }
   ],
   "source": [
    "# Transform PCA data to a DataFrame\n",
    "df_X_pca = pd.DataFrame(\n",
    "    data=X_pca, columns=[\"principal component 1\", \"principal component 2\", \"principal component 3\"]\n",
    ")\n",
    "df_X_pca.head()"
   ]
  },
  {
   "cell_type": "code",
   "execution_count": 474,
   "metadata": {},
   "outputs": [
    {
     "name": "stdout",
     "output_type": "stream",
     "text": [
      "(530, 3)\n"
     ]
    },
    {
     "data": {
      "text/html": [
       "<div>\n",
       "<style scoped>\n",
       "    .dataframe tbody tr th:only-of-type {\n",
       "        vertical-align: middle;\n",
       "    }\n",
       "\n",
       "    .dataframe tbody tr th {\n",
       "        vertical-align: top;\n",
       "    }\n",
       "\n",
       "    .dataframe thead th {\n",
       "        text-align: right;\n",
       "    }\n",
       "</style>\n",
       "<table border=\"1\" class=\"dataframe\">\n",
       "  <thead>\n",
       "    <tr style=\"text-align: right;\">\n",
       "      <th></th>\n",
       "      <th>PC1</th>\n",
       "      <th>PC2</th>\n",
       "      <th>PC3</th>\n",
       "    </tr>\n",
       "    <tr>\n",
       "      <th>CoinName</th>\n",
       "      <th></th>\n",
       "      <th></th>\n",
       "      <th></th>\n",
       "    </tr>\n",
       "  </thead>\n",
       "  <tbody>\n",
       "    <tr>\n",
       "      <th>EliteCoin</th>\n",
       "      <td>1.443462</td>\n",
       "      <td>1.972345</td>\n",
       "      <td>0.165555</td>\n",
       "    </tr>\n",
       "    <tr>\n",
       "      <th>1Credit</th>\n",
       "      <td>-0.489961</td>\n",
       "      <td>1.469055</td>\n",
       "      <td>-1.031828</td>\n",
       "    </tr>\n",
       "    <tr>\n",
       "      <th>42 Coin</th>\n",
       "      <td>-1.388098</td>\n",
       "      <td>1.488561</td>\n",
       "      <td>0.123529</td>\n",
       "    </tr>\n",
       "    <tr>\n",
       "      <th>8BIT Coin</th>\n",
       "      <td>-1.289630</td>\n",
       "      <td>1.345886</td>\n",
       "      <td>0.135833</td>\n",
       "    </tr>\n",
       "    <tr>\n",
       "      <th>Acute Angle Cloud</th>\n",
       "      <td>2.892158</td>\n",
       "      <td>-7.133668</td>\n",
       "      <td>1.772247</td>\n",
       "    </tr>\n",
       "  </tbody>\n",
       "</table>\n",
       "</div>"
      ],
      "text/plain": [
       "                        PC1       PC2       PC3\n",
       "CoinName                                       \n",
       "EliteCoin          1.443462  1.972345  0.165555\n",
       "1Credit           -0.489961  1.469055 -1.031828\n",
       "42 Coin           -1.388098  1.488561  0.123529\n",
       "8BIT Coin         -1.289630  1.345886  0.135833\n",
       "Acute Angle Cloud  2.892158 -7.133668  1.772247"
      ]
     },
     "execution_count": 474,
     "metadata": {},
     "output_type": "execute_result"
    }
   ],
   "source": [
    "#Add Coin Name as an index\n",
    "n = 3\n",
    "column_name = [f\"PC{i}\" for i in range(1, n + 1)]\n",
    "pcs_df = pd.DataFrame(data=X_pca, columns=column_name, index=X.index)\n",
    "print(pcs_df.shape)\n",
    "pcs_df.head()"
   ]
  },
  {
   "cell_type": "code",
   "execution_count": 475,
   "metadata": {},
   "outputs": [
    {
     "data": {
      "application/vnd.holoviews_exec.v0+json": "",
      "text/html": [
       "<div id='2283' style='display: table; margin: 0 auto;'>\n",
       "\n",
       "\n",
       "\n",
       "\n",
       "\n",
       "  <div class=\"bk-root\" id=\"4b4e19ea-6997-4f7e-a488-adff34a126b3\" data-root-id=\"2283\"></div>\n",
       "</div>\n",
       "<script type=\"application/javascript\">(function(root) {\n",
       "  function embed_document(root) {\n",
       "    \n",
       "  var docs_json = {\"45b3cf8b-bd74-4cc7-842f-ac1e67b71eb2\":{\"roots\":{\"references\":[{\"attributes\":{\"below\":[{\"id\":\"2292\",\"type\":\"LinearAxis\"}],\"center\":[{\"id\":\"2296\",\"type\":\"Grid\"},{\"id\":\"2301\",\"type\":\"Grid\"}],\"left\":[{\"id\":\"2297\",\"type\":\"LinearAxis\"}],\"margin\":null,\"min_border_bottom\":10,\"min_border_left\":10,\"min_border_right\":10,\"min_border_top\":10,\"plot_height\":300,\"plot_width\":700,\"renderers\":[{\"id\":\"2320\",\"type\":\"GlyphRenderer\"}],\"sizing_mode\":\"fixed\",\"title\":{\"id\":\"2284\",\"type\":\"Title\"},\"toolbar\":{\"id\":\"2307\",\"type\":\"Toolbar\"},\"x_range\":{\"id\":\"2280\",\"type\":\"Range1d\"},\"x_scale\":{\"id\":\"2288\",\"type\":\"LinearScale\"},\"y_range\":{\"id\":\"2281\",\"type\":\"Range1d\"},\"y_scale\":{\"id\":\"2290\",\"type\":\"LinearScale\"}},\"id\":\"2283\",\"subtype\":\"Figure\",\"type\":\"Plot\"},{\"attributes\":{\"data_source\":{\"id\":\"2314\",\"type\":\"ColumnDataSource\"},\"glyph\":{\"id\":\"2317\",\"type\":\"Line\"},\"hover_glyph\":null,\"muted_glyph\":{\"id\":\"2319\",\"type\":\"Line\"},\"nonselection_glyph\":{\"id\":\"2318\",\"type\":\"Line\"},\"selection_glyph\":null,\"view\":{\"id\":\"2321\",\"type\":\"CDSView\"}},\"id\":\"2320\",\"type\":\"GlyphRenderer\"},{\"attributes\":{\"callback\":null,\"end\":10.0,\"reset_end\":10.0,\"reset_start\":1.0,\"start\":1.0,\"tags\":[[[\"k\",\"k\",null]]]},\"id\":\"2280\",\"type\":\"Range1d\"},{\"attributes\":{\"overlay\":{\"id\":\"2333\",\"type\":\"BoxAnnotation\"}},\"id\":\"2305\",\"type\":\"BoxZoomTool\"},{\"attributes\":{},\"id\":\"2303\",\"type\":\"PanTool\"},{\"attributes\":{\"ticks\":[1,2,3,4,5,6,7,8,9,10]},\"id\":\"2322\",\"type\":\"FixedTicker\"},{\"attributes\":{},\"id\":\"2288\",\"type\":\"LinearScale\"},{\"attributes\":{},\"id\":\"2290\",\"type\":\"LinearScale\"},{\"attributes\":{},\"id\":\"2327\",\"type\":\"BasicTickFormatter\"},{\"attributes\":{\"text\":\"Elbow Curve\",\"text_color\":{\"value\":\"black\"},\"text_font_size\":{\"value\":\"12pt\"}},\"id\":\"2284\",\"type\":\"Title\"},{\"attributes\":{\"active_drag\":\"auto\",\"active_inspect\":\"auto\",\"active_multi\":null,\"active_scroll\":\"auto\",\"active_tap\":\"auto\",\"tools\":[{\"id\":\"2282\",\"type\":\"HoverTool\"},{\"id\":\"2302\",\"type\":\"SaveTool\"},{\"id\":\"2303\",\"type\":\"PanTool\"},{\"id\":\"2304\",\"type\":\"WheelZoomTool\"},{\"id\":\"2305\",\"type\":\"BoxZoomTool\"},{\"id\":\"2306\",\"type\":\"ResetTool\"}]},\"id\":\"2307\",\"type\":\"Toolbar\"},{\"attributes\":{},\"id\":\"2302\",\"type\":\"SaveTool\"},{\"attributes\":{\"source\":{\"id\":\"2314\",\"type\":\"ColumnDataSource\"}},\"id\":\"2321\",\"type\":\"CDSView\"},{\"attributes\":{\"bottom_units\":\"screen\",\"fill_alpha\":{\"value\":0.5},\"fill_color\":{\"value\":\"lightgrey\"},\"left_units\":\"screen\",\"level\":\"overlay\",\"line_alpha\":{\"value\":1.0},\"line_color\":{\"value\":\"black\"},\"line_dash\":[4,4],\"line_width\":{\"value\":2},\"render_mode\":\"css\",\"right_units\":\"screen\",\"top_units\":\"screen\"},\"id\":\"2333\",\"type\":\"BoxAnnotation\"},{\"attributes\":{},\"id\":\"2315\",\"type\":\"Selection\"},{\"attributes\":{},\"id\":\"2334\",\"type\":\"UnionRenderers\"},{\"attributes\":{},\"id\":\"2304\",\"type\":\"WheelZoomTool\"},{\"attributes\":{},\"id\":\"2306\",\"type\":\"ResetTool\"},{\"attributes\":{\"callback\":null,\"data\":{\"inertia\":{\"__ndarray__\":\"OcpF1OdDr0A9fh1/+pqmQG2q3XF/BJ9AXtFiheIcmECMglTedOOTQLKF2sLD9pBAULk5+/XOjUAK7LCU7VSHQC7JT6drt4NAgIITdGsVgUA=\",\"dtype\":\"float64\",\"shape\":[10]},\"k\":[1,2,3,4,5,6,7,8,9,10]},\"selected\":{\"id\":\"2315\",\"type\":\"Selection\"},\"selection_policy\":{\"id\":\"2334\",\"type\":\"UnionRenderers\"}},\"id\":\"2314\",\"type\":\"ColumnDataSource\"},{\"attributes\":{\"callback\":null,\"end\":4001.9527913865427,\"reset_end\":4001.9527913865427,\"reset_start\":546.6774674915505,\"start\":546.6774674915505,\"tags\":[[[\"inertia\",\"inertia\",null]]]},\"id\":\"2281\",\"type\":\"Range1d\"},{\"attributes\":{},\"id\":\"2298\",\"type\":\"BasicTicker\"},{\"attributes\":{\"axis_label\":\"k\",\"bounds\":\"auto\",\"formatter\":{\"id\":\"2323\",\"type\":\"BasicTickFormatter\"},\"major_label_orientation\":\"horizontal\",\"ticker\":{\"id\":\"2322\",\"type\":\"FixedTicker\"}},\"id\":\"2292\",\"type\":\"LinearAxis\"},{\"attributes\":{\"axis_label\":\"inertia\",\"bounds\":\"auto\",\"formatter\":{\"id\":\"2327\",\"type\":\"BasicTickFormatter\"},\"major_label_orientation\":\"horizontal\",\"ticker\":{\"id\":\"2298\",\"type\":\"BasicTicker\"}},\"id\":\"2297\",\"type\":\"LinearAxis\"},{\"attributes\":{\"dimension\":1,\"grid_line_color\":null,\"ticker\":{\"id\":\"2298\",\"type\":\"BasicTicker\"}},\"id\":\"2301\",\"type\":\"Grid\"},{\"attributes\":{\"line_alpha\":0.2,\"line_color\":\"#1f77b4\",\"line_width\":2,\"x\":{\"field\":\"k\"},\"y\":{\"field\":\"inertia\"}},\"id\":\"2319\",\"type\":\"Line\"},{\"attributes\":{\"callback\":null,\"renderers\":[{\"id\":\"2320\",\"type\":\"GlyphRenderer\"}],\"tags\":[\"hv_created\"],\"tooltips\":[[\"k\",\"@{k}\"],[\"inertia\",\"@{inertia}\"]]},\"id\":\"2282\",\"type\":\"HoverTool\"},{\"attributes\":{},\"id\":\"2323\",\"type\":\"BasicTickFormatter\"},{\"attributes\":{\"line_alpha\":0.1,\"line_color\":\"#1f77b4\",\"line_width\":2,\"x\":{\"field\":\"k\"},\"y\":{\"field\":\"inertia\"}},\"id\":\"2318\",\"type\":\"Line\"},{\"attributes\":{},\"id\":\"2293\",\"type\":\"BasicTicker\"},{\"attributes\":{\"line_color\":\"#1f77b4\",\"line_width\":2,\"x\":{\"field\":\"k\"},\"y\":{\"field\":\"inertia\"}},\"id\":\"2317\",\"type\":\"Line\"},{\"attributes\":{\"grid_line_color\":null,\"ticker\":{\"id\":\"2293\",\"type\":\"BasicTicker\"}},\"id\":\"2296\",\"type\":\"Grid\"}],\"root_ids\":[\"2283\"]},\"title\":\"Bokeh Application\",\"version\":\"1.2.0\"}};\n",
       "  var render_items = [{\"docid\":\"45b3cf8b-bd74-4cc7-842f-ac1e67b71eb2\",\"roots\":{\"2283\":\"4b4e19ea-6997-4f7e-a488-adff34a126b3\"}}];\n",
       "  root.Bokeh.embed.embed_items_notebook(docs_json, render_items);\n",
       "\n",
       "  }\n",
       "  if (root.Bokeh !== undefined) {\n",
       "    embed_document(root);\n",
       "  } else {\n",
       "    var attempts = 0;\n",
       "    var timer = setInterval(function(root) {\n",
       "      if (root.Bokeh !== undefined) {\n",
       "        embed_document(root);\n",
       "        clearInterval(timer);\n",
       "      }\n",
       "      attempts++;\n",
       "      if (attempts > 100) {\n",
       "        console.log(\"Bokeh: ERROR: Unable to run BokehJS code because BokehJS library is missing\");\n",
       "        clearInterval(timer);\n",
       "      }\n",
       "    }, 10, root)\n",
       "  }\n",
       "})(window);</script>"
      ],
      "text/plain": [
       ":Curve   [k]   (inertia)"
      ]
     },
     "execution_count": 475,
     "metadata": {
      "application/vnd.holoviews_exec.v0+json": {
       "id": "2283"
      }
     },
     "output_type": "execute_result"
    }
   ],
   "source": [
    "#Calculate the inertia for the range of k values\n",
    "\n",
    "inertia = []\n",
    "k = list(range(1, 11))\n",
    "\n",
    "for i in k:\n",
    "    km = KMeans(n_clusters=i, random_state=0)\n",
    "    km.fit(pcs_df)\n",
    "    inertia.append(km.inertia_)\n",
    "\n",
    "# Create the Elbow Curve using hvPlot\n",
    "elbow_data = {\"k\": k, \"inertia\": inertia}\n",
    "df_elbow = pd.DataFrame(elbow_data)\n",
    "df_elbow.hvplot.line(x=\"k\", y=\"inertia\", xticks=k, title=\"Elbow Curve\")"
   ]
  },
  {
   "cell_type": "code",
   "execution_count": 476,
   "metadata": {},
   "outputs": [],
   "source": [
    " def get_clusters(k, data):\n",
    "    # Initialize the K-Means model\n",
    "    model = KMeans(n_clusters=k, random_state=0)\n",
    "\n",
    "    # Fit the model\n",
    "    model.fit(data)\n",
    "\n",
    "    # Predict clusters\n",
    "    predictions = model.predict(data)\n",
    "\n",
    "    # Create return DataFrame with predicted clusters\n",
    "    data[\"class\"] = model.labels_\n",
    "\n",
    "    return data"
   ]
  },
  {
   "cell_type": "code",
   "execution_count": 477,
   "metadata": {},
   "outputs": [
    {
     "data": {
      "text/html": [
       "<div>\n",
       "<style scoped>\n",
       "    .dataframe tbody tr th:only-of-type {\n",
       "        vertical-align: middle;\n",
       "    }\n",
       "\n",
       "    .dataframe tbody tr th {\n",
       "        vertical-align: top;\n",
       "    }\n",
       "\n",
       "    .dataframe thead th {\n",
       "        text-align: right;\n",
       "    }\n",
       "</style>\n",
       "<table border=\"1\" class=\"dataframe\">\n",
       "  <thead>\n",
       "    <tr style=\"text-align: right;\">\n",
       "      <th></th>\n",
       "      <th>PC1</th>\n",
       "      <th>PC2</th>\n",
       "      <th>PC3</th>\n",
       "      <th>class</th>\n",
       "    </tr>\n",
       "    <tr>\n",
       "      <th>CoinName</th>\n",
       "      <th></th>\n",
       "      <th></th>\n",
       "      <th></th>\n",
       "      <th></th>\n",
       "    </tr>\n",
       "  </thead>\n",
       "  <tbody>\n",
       "    <tr>\n",
       "      <th>EliteCoin</th>\n",
       "      <td>1.443462</td>\n",
       "      <td>1.972345</td>\n",
       "      <td>0.165555</td>\n",
       "      <td>2</td>\n",
       "    </tr>\n",
       "    <tr>\n",
       "      <th>1Credit</th>\n",
       "      <td>-0.489961</td>\n",
       "      <td>1.469055</td>\n",
       "      <td>-1.031828</td>\n",
       "      <td>2</td>\n",
       "    </tr>\n",
       "    <tr>\n",
       "      <th>42 Coin</th>\n",
       "      <td>-1.388098</td>\n",
       "      <td>1.488561</td>\n",
       "      <td>0.123529</td>\n",
       "      <td>2</td>\n",
       "    </tr>\n",
       "    <tr>\n",
       "      <th>8BIT Coin</th>\n",
       "      <td>-1.289630</td>\n",
       "      <td>1.345886</td>\n",
       "      <td>0.135833</td>\n",
       "      <td>2</td>\n",
       "    </tr>\n",
       "    <tr>\n",
       "      <th>Acute Angle Cloud</th>\n",
       "      <td>2.892158</td>\n",
       "      <td>-7.133668</td>\n",
       "      <td>1.772247</td>\n",
       "      <td>1</td>\n",
       "    </tr>\n",
       "  </tbody>\n",
       "</table>\n",
       "</div>"
      ],
      "text/plain": [
       "                        PC1       PC2       PC3  class\n",
       "CoinName                                              \n",
       "EliteCoin          1.443462  1.972345  0.165555      2\n",
       "1Credit           -0.489961  1.469055 -1.031828      2\n",
       "42 Coin           -1.388098  1.488561  0.123529      2\n",
       "8BIT Coin         -1.289630  1.345886  0.135833      2\n",
       "Acute Angle Cloud  2.892158 -7.133668  1.772247      1"
      ]
     },
     "execution_count": 477,
     "metadata": {},
     "output_type": "execute_result"
    }
   ],
   "source": [
    "# Looking for clusters the first best value of k\n",
    "seven_clusters = get_clusters(7, pcs_df)\n",
    "seven_clusters.head()"
   ]
  },
  {
   "cell_type": "code",
   "execution_count": 478,
   "metadata": {},
   "outputs": [
    {
     "data": {
      "text/html": [
       "<div>\n",
       "<style scoped>\n",
       "    .dataframe tbody tr th:only-of-type {\n",
       "        vertical-align: middle;\n",
       "    }\n",
       "\n",
       "    .dataframe tbody tr th {\n",
       "        vertical-align: top;\n",
       "    }\n",
       "\n",
       "    .dataframe thead th {\n",
       "        text-align: right;\n",
       "    }\n",
       "</style>\n",
       "<table border=\"1\" class=\"dataframe\">\n",
       "  <thead>\n",
       "    <tr style=\"text-align: right;\">\n",
       "      <th></th>\n",
       "      <th>CoinName</th>\n",
       "      <th>PC1</th>\n",
       "      <th>PC2</th>\n",
       "      <th>PC3</th>\n",
       "      <th>class</th>\n",
       "      <th>Algorithm</th>\n",
       "      <th>ProofType</th>\n",
       "      <th>TotalCoinsMined</th>\n",
       "      <th>TotalCoinSupply</th>\n",
       "    </tr>\n",
       "  </thead>\n",
       "  <tbody>\n",
       "    <tr>\n",
       "      <th>0</th>\n",
       "      <td>EliteCoin</td>\n",
       "      <td>1.443462</td>\n",
       "      <td>1.972345</td>\n",
       "      <td>0.165555</td>\n",
       "      <td>2</td>\n",
       "      <td>X13</td>\n",
       "      <td>PoW/PoS</td>\n",
       "      <td>2.931196e+10</td>\n",
       "      <td>314159265359</td>\n",
       "    </tr>\n",
       "    <tr>\n",
       "      <th>1</th>\n",
       "      <td>1Credit</td>\n",
       "      <td>-0.489961</td>\n",
       "      <td>1.469055</td>\n",
       "      <td>-1.031828</td>\n",
       "      <td>2</td>\n",
       "      <td>Scrypt</td>\n",
       "      <td>PoW</td>\n",
       "      <td>8.821300e+04</td>\n",
       "      <td>92000000000</td>\n",
       "    </tr>\n",
       "    <tr>\n",
       "      <th>2</th>\n",
       "      <td>42 Coin</td>\n",
       "      <td>-1.388098</td>\n",
       "      <td>1.488561</td>\n",
       "      <td>0.123529</td>\n",
       "      <td>2</td>\n",
       "      <td>Scrypt</td>\n",
       "      <td>PoW/PoS</td>\n",
       "      <td>4.199995e+01</td>\n",
       "      <td>42</td>\n",
       "    </tr>\n",
       "    <tr>\n",
       "      <th>3</th>\n",
       "      <td>8BIT Coin</td>\n",
       "      <td>-1.289630</td>\n",
       "      <td>1.345886</td>\n",
       "      <td>0.135833</td>\n",
       "      <td>2</td>\n",
       "      <td>Scrypt</td>\n",
       "      <td>PoW/PoS</td>\n",
       "      <td>1.467841e+06</td>\n",
       "      <td>0</td>\n",
       "    </tr>\n",
       "    <tr>\n",
       "      <th>4</th>\n",
       "      <td>Acute Angle Cloud</td>\n",
       "      <td>2.892158</td>\n",
       "      <td>-7.133668</td>\n",
       "      <td>1.772247</td>\n",
       "      <td>1</td>\n",
       "      <td>ECC 256K1</td>\n",
       "      <td>DPOS</td>\n",
       "      <td>1.000000e+09</td>\n",
       "      <td>1000000000</td>\n",
       "    </tr>\n",
       "  </tbody>\n",
       "</table>\n",
       "</div>"
      ],
      "text/plain": [
       "            CoinName       PC1       PC2       PC3  class  Algorithm  \\\n",
       "0          EliteCoin  1.443462  1.972345  0.165555      2        X13   \n",
       "1            1Credit -0.489961  1.469055 -1.031828      2     Scrypt   \n",
       "2            42 Coin -1.388098  1.488561  0.123529      2     Scrypt   \n",
       "3          8BIT Coin -1.289630  1.345886  0.135833      2     Scrypt   \n",
       "4  Acute Angle Cloud  2.892158 -7.133668  1.772247      1  ECC 256K1   \n",
       "\n",
       "  ProofType  TotalCoinsMined TotalCoinSupply  \n",
       "0   PoW/PoS     2.931196e+10    314159265359  \n",
       "1       PoW     8.821300e+04     92000000000  \n",
       "2   PoW/PoS     4.199995e+01              42  \n",
       "3   PoW/PoS     1.467841e+06               0  \n",
       "4      DPOS     1.000000e+09      1000000000  "
      ]
     },
     "execution_count": 478,
     "metadata": {},
     "output_type": "execute_result"
    }
   ],
   "source": [
    "#Concatenating df\n",
    "clustered_df = pd.concat([seven_clusters, coins_names[[\"Algorithm\", \"ProofType\", \"TotalCoinsMined\", \"TotalCoinSupply\",]]],axis=1)\n",
    "\n",
    "                                                      \n",
    "clustered_df.reset_index(inplace=True)                                                   \n",
    "clustered_df.head()\n"
   ]
  },
  {
   "cell_type": "code",
   "execution_count": 479,
   "metadata": {},
   "outputs": [
    {
     "data": {
      "application/vnd.plotly.v1+json": {
       "config": {
        "plotlyServerURL": "https://plot.ly"
       },
       "data": [
        {
         "customdata": [
          [
           "X13"
          ],
          [
           "Scrypt"
          ],
          [
           "Scrypt"
          ],
          [
           "Scrypt"
          ],
          [
           "Scrypt"
          ],
          [
           "SHA-256"
          ],
          [
           "Scrypt"
          ],
          [
           "X11"
          ],
          [
           "Scrypt"
          ],
          [
           "Scrypt"
          ],
          [
           "Scrypt"
          ],
          [
           "Scrypt"
          ],
          [
           "Scrypt"
          ],
          [
           "X11"
          ],
          [
           "X11"
          ],
          [
           "Scrypt"
          ],
          [
           "Scrypt"
          ],
          [
           "SHA-256"
          ],
          [
           "SHA-256"
          ],
          [
           "Shabal256"
          ],
          [
           "Scrypt"
          ],
          [
           "SHA-256"
          ],
          [
           "Scrypt"
          ],
          [
           "Scrypt"
          ],
          [
           "Scrypt"
          ],
          [
           "Scrypt"
          ],
          [
           "Scrypt"
          ],
          [
           "SHA-256"
          ],
          [
           "Scrypt"
          ],
          [
           "X13"
          ],
          [
           "Multiple"
          ],
          [
           "X11"
          ],
          [
           "X11"
          ],
          [
           "Multiple"
          ],
          [
           "X11"
          ],
          [
           "Scrypt"
          ],
          [
           "Scrypt"
          ],
          [
           "Lyra2RE"
          ],
          [
           "QuBit"
          ],
          [
           "X11"
          ],
          [
           "SHA-256"
          ],
          [
           "BLAKE256"
          ],
          [
           "Multiple"
          ],
          [
           "Scrypt"
          ],
          [
           "SHA-256"
          ],
          [
           "SHA-256"
          ],
          [
           "Groestl"
          ],
          [
           "Scrypt"
          ],
          [
           "QUAIT"
          ],
          [
           "SHA-256"
          ],
          [
           "Scrypt"
          ],
          [
           "Scrypt"
          ],
          [
           "SHA-256"
          ],
          [
           "Scrypt"
          ],
          [
           "SHA-256"
          ],
          [
           "Scrypt"
          ],
          [
           "Scrypt"
          ],
          [
           "Scrypt"
          ],
          [
           "Ethash"
          ],
          [
           "Ethash"
          ],
          [
           "Ethash"
          ],
          [
           "Groestl"
          ],
          [
           "Stanford Folding"
          ],
          [
           "Scrypt"
          ],
          [
           "Scrypt"
          ],
          [
           "Scrypt"
          ],
          [
           "Scrypt"
          ],
          [
           "Scrypt"
          ],
          [
           "NeoScrypt"
          ],
          [
           "NeoScrypt"
          ],
          [
           "Scrypt"
          ],
          [
           "Scrypt"
          ],
          [
           "Scrypt"
          ],
          [
           "Scrypt"
          ],
          [
           "Scrypt"
          ],
          [
           "Scrypt"
          ],
          [
           "Scrypt"
          ],
          [
           "Groestl"
          ],
          [
           "Scrypt"
          ],
          [
           "1GB AES Pattern Search"
          ],
          [
           "Scrypt"
          ],
          [
           "SHA-256"
          ],
          [
           "Scrypt"
          ],
          [
           "Scrypt"
          ],
          [
           "X11"
          ],
          [
           "X11"
          ],
          [
           "SHA-256"
          ],
          [
           "Multiple"
          ],
          [
           "Scrypt"
          ],
          [
           "Scrypt"
          ],
          [
           "X15"
          ],
          [
           "X13"
          ],
          [
           "Scrypt"
          ],
          [
           "Scrypt"
          ],
          [
           "Scrypt"
          ],
          [
           "Scrypt"
          ],
          [
           "X11"
          ],
          [
           "SHA3"
          ],
          [
           "Scrypt"
          ],
          [
           "HybridScryptHash256"
          ],
          [
           "Scrypt"
          ],
          [
           "Scrypt"
          ],
          [
           "Scrypt"
          ],
          [
           "X11"
          ],
          [
           "Scrypt"
          ],
          [
           "Scrypt"
          ],
          [
           "Scrypt"
          ],
          [
           "SHA-256"
          ],
          [
           "Scrypt"
          ],
          [
           "X13"
          ],
          [
           "SHA-256"
          ],
          [
           "Scrypt"
          ],
          [
           "SHA-256"
          ],
          [
           "Scrypt"
          ],
          [
           "SHA-256"
          ],
          [
           "SHA3"
          ],
          [
           "Scrypt"
          ],
          [
           "Scrypt"
          ],
          [
           "SHA-256"
          ],
          [
           "Scrypt"
          ],
          [
           "Scrypt"
          ],
          [
           "NeoScrypt"
          ],
          [
           "Scrypt"
          ],
          [
           "Scrypt"
          ],
          [
           "X11"
          ],
          [
           "X11"
          ],
          [
           "X11"
          ],
          [
           "Scrypt"
          ],
          [
           "Scrypt"
          ],
          [
           "Scrypt"
          ],
          [
           "Scrypt"
          ],
          [
           "Scrypt"
          ],
          [
           "Scrypt"
          ],
          [
           "Scrypt"
          ],
          [
           "Scrypt"
          ],
          [
           "SHA-256"
          ],
          [
           "Groestl"
          ],
          [
           "Scrypt"
          ],
          [
           "Scrypt"
          ],
          [
           "Scrypt"
          ],
          [
           "Scrypt"
          ],
          [
           "Scrypt"
          ],
          [
           "Scrypt"
          ],
          [
           "Scrypt"
          ],
          [
           "X11GOST"
          ],
          [
           "Scrypt"
          ],
          [
           "Scrypt"
          ],
          [
           "Scrypt"
          ],
          [
           "Scrypt"
          ],
          [
           "SHA-256"
          ],
          [
           "X13"
          ],
          [
           "SHA-256"
          ],
          [
           "Scrypt"
          ],
          [
           "X11"
          ],
          [
           "SHA-256"
          ],
          [
           "Multiple"
          ],
          [
           "SHA-256"
          ],
          [
           "X11"
          ],
          [
           "SHA-256"
          ],
          [
           "X13"
          ],
          [
           "X11"
          ],
          [
           "NeoScrypt"
          ],
          [
           "Multiple"
          ],
          [
           "SHA-256"
          ],
          [
           "SHA-256"
          ],
          [
           "X11"
          ],
          [
           "Scrypt"
          ],
          [
           "Scrypt"
          ],
          [
           "Scrypt"
          ],
          [
           "Scrypt"
          ],
          [
           "Lyra2REv2"
          ],
          [
           "Scrypt"
          ],
          [
           "Scrypt"
          ],
          [
           "Scrypt"
          ],
          [
           "X11"
          ],
          [
           "M7 POW"
          ],
          [
           "Multiple"
          ],
          [
           "CryptoNight"
          ],
          [
           "SHA-256"
          ],
          [
           "CryptoNight-V7"
          ],
          [
           "Multiple"
          ],
          [
           "SHA-256"
          ],
          [
           "X13"
          ],
          [
           "Multiple"
          ],
          [
           "Scrypt"
          ],
          [
           "Scrypt"
          ],
          [
           "Scrypt"
          ],
          [
           "SHA-256"
          ],
          [
           "Scrypt"
          ],
          [
           "Scrypt"
          ],
          [
           "SHA-256"
          ]
         ],
         "hoverlabel": {
          "namelength": 0
         },
         "hovertemplate": "<b>%{hovertext}</b><br><br>class=%{marker.color}<br>TotalCoinsMined=%{x}<br>TotalCoinSupply=%{y}<br>Algorithm=%{customdata[0]}",
         "hovertext": [
          "EliteCoin",
          "1Credit",
          "42 Coin",
          "8BIT Coin",
          "ArtByte",
          "Anarchists Prime",
          "AudioCoin",
          "Adzcoin",
          "Argentum",
          "Aurora Coin",
          "BitstarCoin",
          "BillaryCoin",
          "BlueCoin",
          "BolivarCoin",
          "BowsCoin",
          "Bata",
          "BitBar",
          "Bitcoin",
          "BitcoinDark",
          "BurstCoin",
          "BeaverCoin",
          "BitTokens",
          "Catcoin",
          "CryptoBullion",
          "CannaCoin",
          "Canada eCoin",
          "Crypto Escudo",
          "Clockcoin",
          " ClubCoin",
          "Paycon",
          "Circuits of Value",
          "CapriCoin",
          "Creditbit ",
          "Crown Coin",
          "CryptCoin",
          "CasinoCoin",
          "CarterCoin",
          "Crypto",
          "CypherPunkCoin",
          "Dash",
          "DubaiCoin",
          "Decred",
          "DigiByte",
          "Digitalcoin ",
          "CarpeDiemCoin",
          "DollarCoin",
          "Diamond",
          "DopeCoin",
          "Droidz",
          "DevCoin",
          "EarthCoin",
          "EB3coin",
          "EDRCoin",
          "E-Gulden",
          "Emercoin",
          "Einsteinium",
          "Emerald",
          "EnergyCoin",
          "Ethereum Classic",
          "Ethereum",
          "Expanse",
          "FairCoin",
          "Folding Coin",
          "Flo",
          "FlutterCoin",
          "Franko",
          "Francs",
          "Frankywillcoin",
          "FriendshipCoin",
          "FeatherCoin",
          "Gamecredits",
          "Gapcoin",
          "GrandCoin",
          "Genstake",
          "GlobalCoin",
          "GoldCoin",
          "GreenCoin",
          "Groestlcoin",
          "HoboNickels",
          "HOdlcoin",
          "HyperCoin",
          "I0coin",
          "iBankCoin",
          "Infinite Coin",
          "IOCoin",
          "IslaCoin",
          "IXcoin",
          "JoinCoin",
          "KrugerCoin",
          "KiloCoin",
          "KoboCoin",
          "Kore",
          "LiteDoge",
          "LuckyCoin",
          "Litebar ",
          "Litecoin",
          "MarsCoin ",
          "MaxCoin",
          "MegaCoin",
          "MediterraneanCoin",
          "XiaoMiCoin",
          "MinCoin",
          "MintCoin",
          "MindCoin",
          "MonaCoin",
          "MoonCoin",
          "MasterCoin",
          "MazaCoin",
          "Nautilus Coin",
          "NavCoin",
          "IncaKoin",
          "Gulden",
          "Namecoin",
          "NobleCoin",
          "Neutron",
          "Nexus",
          "NyanCoin",
          "OrangeCoin",
          "OKCash",
          "OmniCron",
          "Omni",
          "Orbitcoin",
          "OsmiumCoin",
          "Pakcoin",
          "Piggy Coin",
          "PinkCoin",
          "PizzaCoin",
          "PotCoin",
          "ProsperCoin",
          "PesoBit",
          "PesetaCoin",
          "PutinCoin",
          "PhoenixCoin",
          "Quatloo",
          "Reddcoin",
          "Revenu",
          "Riecoin",
          "RootCoin",
          "RonPaulCoin",
          "Revolution VR",
          "SafeExchangeCoin",
          "StableCoin",
          "Swiscoin",
          "Shilling",
          "SibCoin",
          "SolarCoin",
          "SmartCoin",
          "SmileyCoin",
          "Song Coin",
          "SoonCoin",
          "Sativa Coin",
          "SwingCoin",
          "SexCoin",
          "SyncCoin",
          "SysCoin",
          "TeslaCoin",
          "TigerCoin",
          "TorCoin",
          "TerraCoin",
          "Triangles Coin",
          "TruckCoin",
          "UFO Coin",
          "Unitus",
          "UnbreakableCoin",
          "Unobtanium",
          "UroCoin",
          "UnitaryStatus Dollar",
          "UltraCoin",
          "ViaCoin",
          "VeriCoin",
          "Vertcoin",
          "Vtorrent",
          "Wild Beast Coin",
          "WorldCoin",
          "X11 Coin",
          "Cryptonite",
          "Crypti",
          "DigitalNote ",
          "JouleCoin",
          "Monero",
          "MyriadCoin",
          "PayCoin",
          "StealthCoin",
          "Verge",
          "WhiteCoin",
          "YoCoin",
          "ZCC Coin",
          "ZetaCoin",
          "ZoneCoin",
          "BitZeny",
          "ZayedCoin"
         ],
         "legendgroup": "class=2",
         "marker": {
          "color": [
           2,
           2,
           2,
           2,
           2,
           2,
           2,
           2,
           2,
           2,
           2,
           2,
           2,
           2,
           2,
           2,
           2,
           2,
           2,
           2,
           2,
           2,
           2,
           2,
           2,
           2,
           2,
           2,
           2,
           2,
           2,
           2,
           2,
           2,
           2,
           2,
           2,
           2,
           2,
           2,
           2,
           2,
           2,
           2,
           2,
           2,
           2,
           2,
           2,
           2,
           2,
           2,
           2,
           2,
           2,
           2,
           2,
           2,
           2,
           2,
           2,
           2,
           2,
           2,
           2,
           2,
           2,
           2,
           2,
           2,
           2,
           2,
           2,
           2,
           2,
           2,
           2,
           2,
           2,
           2,
           2,
           2,
           2,
           2,
           2,
           2,
           2,
           2,
           2,
           2,
           2,
           2,
           2,
           2,
           2,
           2,
           2,
           2,
           2,
           2,
           2,
           2,
           2,
           2,
           2,
           2,
           2,
           2,
           2,
           2,
           2,
           2,
           2,
           2,
           2,
           2,
           2,
           2,
           2,
           2,
           2,
           2,
           2,
           2,
           2,
           2,
           2,
           2,
           2,
           2,
           2,
           2,
           2,
           2,
           2,
           2,
           2,
           2,
           2,
           2,
           2,
           2,
           2,
           2,
           2,
           2,
           2,
           2,
           2,
           2,
           2,
           2,
           2,
           2,
           2,
           2,
           2,
           2,
           2,
           2,
           2,
           2,
           2,
           2,
           2,
           2,
           2,
           2,
           2,
           2,
           2,
           2,
           2,
           2,
           2,
           2,
           2,
           2,
           2,
           2,
           2,
           2,
           2,
           2,
           2,
           2,
           2,
           2,
           2,
           2,
           2
          ],
          "coloraxis": "coloraxis",
          "symbol": "circle"
         },
         "mode": "markers",
         "name": "class=2",
         "scene": "scene",
         "showlegend": true,
         "type": "scatter3d",
         "x": [
          29311962603.1067,
          88213,
          41.99995317,
          1467841,
          792537250,
          14747200.0002,
          980732528.97974,
          45110324,
          12507760.4449549,
          18229949.992959,
          20721939,
          8998743.2411911,
          636832125,
          13775082.4987999,
          15863837.5,
          5052555.91981545,
          43194.788439,
          18022912,
          1288862,
          1813033920,
          3115258,
          595429,
          7219956.64626131,
          1042176.20756262,
          4704067.30132807,
          99851361.9481531,
          780953140,
          16662820,
          103621876.167052,
          23042604,
          1000000000,
          201370932.196955,
          16901016.6609755,
          23358555.3354247,
          4999232.87665274,
          39999996695.3568,
          43165500,
          13742738,
          6365285,
          9129883.13525442,
          5129014,
          10608727.0061748,
          12438800503.4036,
          33909563.3440364,
          21739971929,
          9106714,
          3339823.31458361,
          116845228,
          8568156.53017901,
          19719950000,
          12573066884.6039,
          64096052,
          3669691.84494672,
          20920955.5640624,
          43059794.804778,
          218979124.499999,
          19519802.31025,
          123263748.84777,
          114713043,
          108372626.1865,
          10495278,
          53193831,
          719416990,
          152834744.776064,
          461829905.32893,
          1142732.14912776,
          6570807.65677618,
          100000000,
          1120385.00502,
          211802733.00773,
          69836100,
          15171134.3903661,
          884125802,
          60000000,
          65672720.4708748,
          41658647.9999715,
          4610340640.89,
          73686723.8873662,
          91914778.8731671,
          11448949,
          9631199.99309942,
          20997897.7962996,
          4526324,
          90595753018.6314,
          17763146.9743456,
          1513704,
          21097290.999,
          3344407.5,
          151447649.8,
          196297971,
          25559536.8326583,
          2022464.886973,
          16422580992.334,
          19326319.14375,
          1127131.34043436,
          63039243.3000049,
          32221574.820996,
          61445805,
          38257287.4930997,
          40431856.9,
          404316475.545465,
          5948556.8879491,
          21293925445.4969,
          15867695,
          68194674.8711679,
          88,
          619478,
          1631287599.99999,
          16180000,
          66516448.9077109,
          17939725045.334,
          415032420,
          14736400,
          2366962947.99252,
          39121694,
          63657220,
          335419756.389388,
          3537150,
          74786323.3696182,
          10140044.4430293,
          616448,
          3220616.279225,
          894026,
          70051425.1787001,
          494515590.027427,
          437845591.156087,
          1377917,
          222901229.386709,
          5936955,
          33522957,
          137517654.41397,
          879277485.475535,
          73959274.625,
          7357794.7925,
          29359828433.6031,
          1195525,
          50376791.8079427,
          1939889,
          1121766.42169891,
          210000000,
          2147483647,
          24215181.725,
          665200057,
          11119200,
          17263355,
          55693185.7630157,
          25699019.6624639,
          29786149322.9213,
          32565300,
          12462620,
          7096834,
          4378980.0445398,
          128940951.183046,
          1177,
          567560505.799954,
          80675827.6773069,
          43536800,
          1431851.00002479,
          22935396,
          143057.140202,
          242574105.22384,
          3837012512,
          65113302,
          2278150,
          201103.95151896,
          1207310,
          1098952592.6,
          50235211.141939,
          23156156.25,
          32114400.1618324,
          51912048.8166346,
          11604722,
          181919.2435974,
          119606941,
          7016533.90887722,
          708506520,
          100000000,
          6906587610.38292,
          39491287.362088,
          17285703.1224238,
          1701877000,
          11995334.8847328,
          33678238.4435502,
          16024583239.1206,
          252108379.19257,
          636462.55983338,
          151822782.128331,
          170408059.754849,
          2581970,
          75614500,
          6243840
         ],
         "y": [
          "314159265359",
          "92000000000",
          "42",
          "0",
          "1000000000",
          "53760000",
          "10500000000",
          "84000000",
          "64000000",
          "16768584",
          "54256119",
          "42000000",
          "0",
          "25000000",
          "21000000",
          "5000000",
          "500000",
          "21000000",
          "22000000",
          "2158812800",
          "3360000",
          "21000000",
          "21000000 ",
          "1000000",
          "13140000",
          "100000000 ",
          "1000000000",
          "525000000",
          "160000000",
          "50000000",
          "1200000000",
          "208000000",
          "16504333",
          "42000000",
          "18000000",
          "40000000000",
          "90000000",
          "65789100",
          "0",
          "22000000",
          "10500000",
          "21000000",
          "21000000000",
          "48166000",
          "21626280000 ",
          "10638298",
          "4380000",
          "200000000",
          "5060000",
          "21000000000",
          "13500000000",
          "4000000000",
          "22000000",
          "21000000 ",
          "1000000000",
          "299792458",
          "32000000",
          "0",
          "210000000",
          "0",
          "16906397",
          "0",
          "1000000000",
          "160000000",
          "0",
          "11235813",
          "20000000",
          "100000000",
          "60168145",
          "336000000",
          "84000000",
          "250000000",
          "1420609614",
          "15000000",
          "70000000",
          "72245700",
          "10000000000",
          "105000000",
          "120000000",
          "81962100",
          "0",
          "21000000",
          "44333333",
          "90600000000",
          "22000000",
          "0",
          "21000000",
          "2800000",
          "265420800",
          "10000000000",
          "350000000",
          "12000000",
          "35000000000",
          "20000000",
          "1350000",
          "84000000",
          "33000000",
          "100000000",
          "42000000",
          "200000000",
          "400000000",
          "10000000",
          "0",
          "16000000",
          "105120000",
          "384000000000",
          "619478",
          "2419200000",
          "16180000",
          "0",
          "190000000",
          "1680000000",
          "21000000",
          "15000000000",
          "68000000",
          "78000000",
          "337000000",
          "200000000",
          "105000000",
          "3371337",
          "616448",
          "3770000",
          "2714286",
          "182000000",
          "1000000000",
          "500000000",
          "25000000",
          "420000000",
          "21000000",
          "0",
          "166386000",
          "2000000000",
          "98000000",
          "100000000",
          "0",
          "222725000",
          "84000000",
          "0",
          "21000000",
          "210000000",
          "2147483647",
          "250000000",
          "3100000000",
          "30000000",
          "24000000",
          "98100000000",
          "51200000",
          "50000000000",
          "210240000",
          "21000000",
          "10000000",
          "40000000",
          "250000000",
          "1000",
          "888000000",
          "100000000",
          "47011968",
          "10000000",
          "42000000",
          "120000",
          "0",
          "4000000000",
          "0",
          "80000000",
          "250000",
          "0",
          "1600000000",
          "100000000",
          "23000000",
          "0",
          "84000000",
          "20000000",
          "2628000",
          "265420800",
          "5500000",
          "1840000000",
          "0",
          "10000000000",
          "45000000",
          "0",
          "2000000000",
          "12500000",
          "0",
          "16555000000",
          "300000000",
          "168351300",
          "1000000000",
          "169795588",
          "21000000",
          "250000000",
          "9736000"
         ],
         "z": [
          "X13",
          "Scrypt",
          "Scrypt",
          "Scrypt",
          "Scrypt",
          "SHA-256",
          "Scrypt",
          "X11",
          "Scrypt",
          "Scrypt",
          "Scrypt",
          "Scrypt",
          "Scrypt",
          "X11",
          "X11",
          "Scrypt",
          "Scrypt",
          "SHA-256",
          "SHA-256",
          "Shabal256",
          "Scrypt",
          "SHA-256",
          "Scrypt",
          "Scrypt",
          "Scrypt",
          "Scrypt",
          "Scrypt",
          "SHA-256",
          "Scrypt",
          "X13",
          "Multiple",
          "X11",
          "X11",
          "Multiple",
          "X11",
          "Scrypt",
          "Scrypt",
          "Lyra2RE",
          "QuBit",
          "X11",
          "SHA-256",
          "BLAKE256",
          "Multiple",
          "Scrypt",
          "SHA-256",
          "SHA-256",
          "Groestl",
          "Scrypt",
          "QUAIT",
          "SHA-256",
          "Scrypt",
          "Scrypt",
          "SHA-256",
          "Scrypt",
          "SHA-256",
          "Scrypt",
          "Scrypt",
          "Scrypt",
          "Ethash",
          "Ethash",
          "Ethash",
          "Groestl",
          "Stanford Folding",
          "Scrypt",
          "Scrypt",
          "Scrypt",
          "Scrypt",
          "Scrypt",
          "NeoScrypt",
          "NeoScrypt",
          "Scrypt",
          "Scrypt",
          "Scrypt",
          "Scrypt",
          "Scrypt",
          "Scrypt",
          "Scrypt",
          "Groestl",
          "Scrypt",
          "1GB AES Pattern Search",
          "Scrypt",
          "SHA-256",
          "Scrypt",
          "Scrypt",
          "X11",
          "X11",
          "SHA-256",
          "Multiple",
          "Scrypt",
          "Scrypt",
          "X15",
          "X13",
          "Scrypt",
          "Scrypt",
          "Scrypt",
          "Scrypt",
          "X11",
          "SHA3",
          "Scrypt",
          "HybridScryptHash256",
          "Scrypt",
          "Scrypt",
          "Scrypt",
          "X11",
          "Scrypt",
          "Scrypt",
          "Scrypt",
          "SHA-256",
          "Scrypt",
          "X13",
          "SHA-256",
          "Scrypt",
          "SHA-256",
          "Scrypt",
          "SHA-256",
          "SHA3",
          "Scrypt",
          "Scrypt",
          "SHA-256",
          "Scrypt",
          "Scrypt",
          "NeoScrypt",
          "Scrypt",
          "Scrypt",
          "X11",
          "X11",
          "X11",
          "Scrypt",
          "Scrypt",
          "Scrypt",
          "Scrypt",
          "Scrypt",
          "Scrypt",
          "Scrypt",
          "Scrypt",
          "SHA-256",
          "Groestl",
          "Scrypt",
          "Scrypt",
          "Scrypt",
          "Scrypt",
          "Scrypt",
          "Scrypt",
          "Scrypt",
          "X11GOST",
          "Scrypt",
          "Scrypt",
          "Scrypt",
          "Scrypt",
          "SHA-256",
          "X13",
          "SHA-256",
          "Scrypt",
          "X11",
          "SHA-256",
          "Multiple",
          "SHA-256",
          "X11",
          "SHA-256",
          "X13",
          "X11",
          "NeoScrypt",
          "Multiple",
          "SHA-256",
          "SHA-256",
          "X11",
          "Scrypt",
          "Scrypt",
          "Scrypt",
          "Scrypt",
          "Lyra2REv2",
          "Scrypt",
          "Scrypt",
          "Scrypt",
          "X11",
          "M7 POW",
          "Multiple",
          "CryptoNight",
          "SHA-256",
          "CryptoNight-V7",
          "Multiple",
          "SHA-256",
          "X13",
          "Multiple",
          "Scrypt",
          "Scrypt",
          "Scrypt",
          "SHA-256",
          "Scrypt",
          "Scrypt",
          "SHA-256"
         ]
        },
        {
         "customdata": [
          [
           "ECC 256K1"
          ],
          [
           "Lyra2REv2"
          ],
          [
           "Ouroboros"
          ],
          [
           "X11"
          ],
          [
           "Quark"
          ],
          [
           "X11"
          ],
          [
           "Proof-of-BibleHash"
          ],
          [
           "CryptoNight"
          ],
          [
           "Equihash"
          ],
          [
           "XEVAN"
          ],
          [
           "Green Protocol"
          ],
          [
           "XEVAN"
          ],
          [
           "SHA-256"
          ],
          [
           "Cryptonight Haven"
          ],
          [
           "NIST5"
          ],
          [
           "Quark"
          ],
          [
           "Equihash"
          ],
          [
           "XEVAN"
          ],
          [
           "NIST5"
          ],
          [
           "SHA-256"
          ],
          [
           "Quark"
          ],
          [
           "Scrypt"
          ],
          [
           "Quark"
          ],
          [
           "PoS"
          ],
          [
           "X15"
          ],
          [
           "Quark"
          ],
          [
           "XEVAN"
          ],
          [
           "X11"
          ],
          [
           "Exosis"
          ],
          [
           "Quark"
          ],
          [
           "Quark"
          ],
          [
           "Quark"
          ],
          [
           "Scrypt"
          ],
          [
           "X11"
          ],
          [
           "SHA-512"
          ],
          [
           "POS 2.0"
          ],
          [
           "PoS"
          ],
          [
           "Quark"
          ],
          [
           "Blake"
          ],
          [
           "Ethash"
          ],
          [
           "Scrypt"
          ],
          [
           "Scrypt"
          ],
          [
           "X11"
          ],
          [
           "DPoS"
          ],
          [
           "Scrypt"
          ],
          [
           "PoS"
          ],
          [
           "SHA-512"
          ],
          [
           "VBFT"
          ],
          [
           "Scrypt"
          ],
          [
           "X11"
          ],
          [
           "Equihash"
          ],
          [
           "X11"
          ],
          [
           "CryptoNight"
          ],
          [
           "Scrypt"
          ],
          [
           "Quark"
          ],
          [
           "X16R"
          ],
          [
           "Lyra2REv2"
          ],
          [
           "SkunkHash v2 Raptor"
          ],
          [
           "QuBit"
          ],
          [
           "C11"
          ],
          [
           "Quark"
          ],
          [
           "SHA-256"
          ],
          [
           "X13"
          ],
          [
           "POS 3.0"
          ],
          [
           "X16R"
          ],
          [
           "SHA-256D"
          ],
          [
           "Blake"
          ],
          [
           "XEVAN"
          ],
          [
           "SHA-256D"
          ],
          [
           "Quark"
          ],
          [
           "Equihash+Scrypt"
          ],
          [
           "Quark"
          ],
          [
           "XEVAN"
          ],
          [
           "X16R"
          ],
          [
           "Keccak"
          ],
          [
           "X16R"
          ],
          [
           "X13"
          ],
          [
           "Scrypt"
          ]
         ],
         "hoverlabel": {
          "namelength": 0
         },
         "hovertemplate": "<b>%{hovertext}</b><br><br>class=%{marker.color}<br>TotalCoinsMined=%{x}<br>TotalCoinSupply=%{y}<br>Algorithm=%{customdata[0]}",
         "hovertext": [
          "Acute Angle Cloud",
          "Absolute Coin",
          "Cardano",
          "ARENON",
          "Allsafe",
          "Award",
          "BiblePay",
          "Beldex",
          "Beam",
          "Beetle Coin",
          "Bitcoin Green",
          "BitMoney",
          "BLAST",
          "BLOC.MONEY",
          "Bitspace",
          "Bitcloud 2.0",
          "Bithereum",
          "Bettex coin",
          "Bulwark",
          "BitcoinWSpectrum",
          "Carebit",
          "Credit",
          "Crypto Sports",
          "Deviant Coin",
          "Dekado",
          "Dystem",
          "Ellerium",
          "EUNO",
          "Exosis",
          "Galilel",
          "Giant",
          "HerbCoin",
          "HollyWoodCoin",
          "Junson Ming Chan Coin",
          "Kcash",
          "KekCoin",
          "Ketan",
          "Kalkulus",
          "Lithium",
          "1717 Masonic Commemorative Token",
          "MedicCoin",
          "MMOCoin",
          "Monkey Project",
          "Muse",
          "Nasdacoin",
          "Zealium",
          "Obsidian",
          "Ontology",
          "Oduwa",
          "PAXEX",
          "PirateCash",
          "Platinum",
          "PlatinCoin",
          "Peony Coin",
          "Poseidon Quark",
          "Proton",
          "Rupee",
          "Signatum",
          "SLICE",
          "Stipend",
          "STREAMIT COIN",
          "TigerCash",
          "Tokyo Coin",
          "TokenPay",
          "Trivechain",
          "Titan Coin",
          "Universal Molecule",
          "Urals Coin",
          "TheVig",
          "Vitae",
          "Vollar",
          "Digiwage",
          "Bitcoin Incognito",
          "Xchange",
          "XDNA",
          "Motion",
          "Bitcoin Rhodium",
          "Xt3ch"
         ],
         "legendgroup": "class=1",
         "marker": {
          "color": [
           1,
           1,
           1,
           1,
           1,
           1,
           1,
           1,
           1,
           1,
           1,
           1,
           1,
           1,
           1,
           1,
           1,
           1,
           1,
           1,
           1,
           1,
           1,
           1,
           1,
           1,
           1,
           1,
           1,
           1,
           1,
           1,
           1,
           1,
           1,
           1,
           1,
           1,
           1,
           1,
           1,
           1,
           1,
           1,
           1,
           1,
           1,
           1,
           1,
           1,
           1,
           1,
           1,
           1,
           1,
           1,
           1,
           1,
           1,
           1,
           1,
           1,
           1,
           1,
           1,
           1,
           1,
           1,
           1,
           1,
           1,
           1,
           1,
           1,
           1,
           1,
           1,
           1
          ],
          "coloraxis": "coloraxis",
          "symbol": "diamond"
         },
         "mode": "markers",
         "name": "class=1",
         "scene": "scene",
         "showlegend": true,
         "type": "scatter3d",
         "x": [
          1000000000,
          13619027.9413708,
          25927070538,
          19383151.88,
          10622100.805741,
          18537933.9975927,
          1819540172.4456,
          980222595,
          42454400,
          204476832.081566,
          9839108.78977277,
          208515864.367343,
          53847931.3511766,
          12206876.5249,
          13892642.6257406,
          31135187.6551047,
          25332487.5,
          6902423.66368873,
          13247178.8807286,
          57811001.000889,
          143378239.867504,
          30825710000.0296,
          2160098.31757952,
          23010372.1044228,
          30284196.369129,
          7666735.39637108,
          419275.38,
          32368068.1344158,
          406091.925,
          18798487.4500198,
          6276100.21695281,
          35312185.7437239,
          38706809.466535,
          18128209998.119,
          1000000000,
          12402325.73917,
          9327131.59708692,
          17387381.4504829,
          15882757.4369747,
          1618033,
          267297676.3125,
          108382478.720235,
          4407252,
          18194936,
          20800862.8852705,
          11714359.9774814,
          25000000,
          676848625,
          14782039.2251352,
          4504639,
          15028020,
          837445.02567495,
          84300,
          1362283.81185823,
          2716264.95302831,
          4403800,
          24000000,
          107972766,
          13074751.9743701,
          11354366.2931018,
          10075694.8294983,
          1000000000,
          230298925,
          20590531.02168,
          36923120.6205934,
          898493901.699238,
          1622594.64951127,
          14921928.4775854,
          33238183.7225834,
          67003287.0587465,
          100000000,
          27299680,
          11638259.0884482,
          9753753.61515394,
          4831806.82471753,
          8586665.07980556,
          1185582.5,
          7630000.0154
         ],
         "y": [
          "1000000000",
          "52500000",
          "45000000000",
          "55000000",
          "15000000",
          "420000000",
          "5200000000",
          "1400222610",
          "262800000",
          "500000000",
          "21000000",
          "70000000000",
          "64000000",
          "50000000",
          "50000000",
          "200000000",
          "30886000",
          "50000000",
          "27716121",
          "100262205",
          "200000000",
          "74800000000",
          "13370000",
          "88000000",
          "90000000",
          "21000000",
          "60000000",
          "50000000",
          "21000000",
          "0",
          "5151000",
          "54000000",
          "26000000",
          "0",
          "1000000000",
          "21000000",
          "210000000",
          "20000000",
          "25228800",
          "1618033",
          "500000000",
          "260000000",
          "21000000",
          "18081806 ",
          "84000000",
          "80000000",
          "91388946",
          "1000000000",
          "21000000",
          "100000000",
          "105000000",
          "19700000",
          "600000518",
          "16880000000",
          "650000000 ",
          "45000000",
          "24000000",
          "137500000",
          "100000000",
          "19340594",
          "840000000",
          "1000000000",
          "800000000",
          "25000000",
          "82546564",
          "5000000000",
          "105120001.44",
          "210000000",
          "100000000",
          "100000000",
          "2100000000",
          "120000000",
          "21000000",
          "100000000",
          "366000000",
          "22075700",
          "2100000",
          "44000000"
         ],
         "z": [
          "ECC 256K1",
          "Lyra2REv2",
          "Ouroboros",
          "X11",
          "Quark",
          "X11",
          "Proof-of-BibleHash",
          "CryptoNight",
          "Equihash",
          "XEVAN",
          "Green Protocol",
          "XEVAN",
          "SHA-256",
          "Cryptonight Haven",
          "NIST5",
          "Quark",
          "Equihash",
          "XEVAN",
          "NIST5",
          "SHA-256",
          "Quark",
          "Scrypt",
          "Quark",
          "PoS",
          "X15",
          "Quark",
          "XEVAN",
          "X11",
          "Exosis",
          "Quark",
          "Quark",
          "Quark",
          "Scrypt",
          "X11",
          "SHA-512",
          "POS 2.0",
          "PoS",
          "Quark",
          "Blake",
          "Ethash",
          "Scrypt",
          "Scrypt",
          "X11",
          "DPoS",
          "Scrypt",
          "PoS",
          "SHA-512",
          "VBFT",
          "Scrypt",
          "X11",
          "Equihash",
          "X11",
          "CryptoNight",
          "Scrypt",
          "Quark",
          "X16R",
          "Lyra2REv2",
          "SkunkHash v2 Raptor",
          "QuBit",
          "C11",
          "Quark",
          "SHA-256",
          "X13",
          "POS 3.0",
          "X16R",
          "SHA-256D",
          "Blake",
          "XEVAN",
          "SHA-256D",
          "Quark",
          "Equihash+Scrypt",
          "Quark",
          "XEVAN",
          "X16R",
          "Keccak",
          "X16R",
          "X13",
          "Scrypt"
         ]
        },
        {
         "customdata": [
          [
           "Scrypt"
          ],
          [
           "Scrypt"
          ],
          [
           "Scrypt"
          ],
          [
           "PoS"
          ],
          [
           "Scrypt"
          ],
          [
           "X13"
          ],
          [
           "Scrypt"
          ],
          [
           "Scrypt"
          ],
          [
           "Scrypt"
          ],
          [
           "X13"
          ],
          [
           "X11"
          ],
          [
           "Scrypt"
          ],
          [
           "Skein"
          ],
          [
           "SHA-512"
          ],
          [
           "SHA-256D"
          ],
          [
           "PoS"
          ],
          [
           "Scrypt"
          ],
          [
           "Scrypt"
          ],
          [
           "Skein"
          ],
          [
           "Scrypt"
          ],
          [
           "Scrypt"
          ],
          [
           "Scrypt"
          ],
          [
           "Scrypt"
          ],
          [
           "NIST5"
          ],
          [
           "Scrypt"
          ],
          [
           "NIST5"
          ],
          [
           "X15"
          ],
          [
           "Scrypt"
          ],
          [
           "X13"
          ],
          [
           "X11"
          ],
          [
           "X11"
          ],
          [
           "536"
          ],
          [
           "Scrypt"
          ],
          [
           "SHA-256"
          ],
          [
           "PoS"
          ],
          [
           "X13"
          ],
          [
           "PoS"
          ],
          [
           "Scrypt"
          ],
          [
           "Scrypt"
          ],
          [
           "X11"
          ],
          [
           "Scrypt"
          ],
          [
           "X14"
          ],
          [
           "Scrypt"
          ],
          [
           "Scrypt"
          ],
          [
           "X11"
          ],
          [
           "X11"
          ],
          [
           "X11"
          ],
          [
           "X15"
          ],
          [
           "X11"
          ],
          [
           "Scrypt"
          ],
          [
           "Scrypt"
          ],
          [
           "Scrypt"
          ],
          [
           "X11"
          ],
          [
           "X11"
          ],
          [
           "X11"
          ],
          [
           "X11"
          ],
          [
           "SHA-256"
          ],
          [
           "Scrypt"
          ],
          [
           "X11"
          ],
          [
           "SHA-256D"
          ],
          [
           "X11"
          ],
          [
           "Scrypt"
          ],
          [
           "Scrypt"
          ],
          [
           "POS 3.0"
          ],
          [
           "Scrypt"
          ],
          [
           "QuBit"
          ],
          [
           "Scrypt"
          ],
          [
           "PHI1612"
          ],
          [
           "X11"
          ],
          [
           "SHA-256"
          ],
          [
           "PoS"
          ],
          [
           "Scrypt"
          ],
          [
           "X11"
          ],
          [
           "X13"
          ],
          [
           "NIST5"
          ],
          [
           "PoS"
          ],
          [
           "SHA-256"
          ],
          [
           "Scrypt"
          ],
          [
           "X13"
          ],
          [
           "PoS"
          ],
          [
           "PoS"
          ],
          [
           "Scrypt"
          ],
          [
           "Scrypt"
          ],
          [
           "X11"
          ],
          [
           "SHA-256"
          ],
          [
           "Scrypt"
          ],
          [
           "X11"
          ],
          [
           "NIST5"
          ],
          [
           "Quark"
          ],
          [
           "POS 3.0"
          ],
          [
           "PoS"
          ],
          [
           "X11"
          ],
          [
           "Scrypt"
          ],
          [
           "Scrypt"
          ],
          [
           "X11"
          ],
          [
           "Scrypt"
          ],
          [
           "X13"
          ],
          [
           "Scrypt"
          ],
          [
           "Counterparty"
          ],
          [
           "X11"
          ],
          [
           "PoS"
          ],
          [
           "PoS"
          ],
          [
           "X11"
          ],
          [
           "Blake2S"
          ],
          [
           "PoS"
          ],
          [
           "Scrypt"
          ],
          [
           "Scrypt"
          ],
          [
           "Scrypt"
          ],
          [
           "Scrypt"
          ],
          [
           "NeoScrypt"
          ],
          [
           "X11"
          ],
          [
           "Scrypt"
          ],
          [
           "SHA-256"
          ],
          [
           "Scrypt"
          ],
          [
           "NIST5"
          ],
          [
           "Scrypt"
          ],
          [
           "NIST5"
          ],
          [
           "Scrypt"
          ],
          [
           "Scrypt"
          ],
          [
           "PoS"
          ],
          [
           "Scrypt"
          ],
          [
           "X11"
          ],
          [
           "X11"
          ],
          [
           "Scrypt"
          ],
          [
           "SHA-256"
          ],
          [
           "Scrypt"
          ],
          [
           "X11"
          ],
          [
           "X11"
          ],
          [
           "PoS"
          ],
          [
           "X11"
          ],
          [
           "X11"
          ],
          [
           "X11"
          ],
          [
           "Scrypt"
          ],
          [
           "Scrypt"
          ]
         ],
         "hoverlabel": {
          "namelength": 0
         },
         "hovertemplate": "<b>%{hovertext}</b><br><br>class=%{marker.color}<br>TotalCoinsMined=%{x}<br>TotalCoinSupply=%{y}<br>Algorithm=%{customdata[0]}",
         "hovertext": [
          "Abjcoin",
          "AquariusCoin",
          "ArgusCoin",
          "Atmos",
          "BitConnect Coin",
          "Bitcoin Diamond",
          "BitcoinFast",
          "BlackholeCoin",
          "Briacoin",
          "BritCoin",
          "BitSend",
          "BitCurrency",
          "Bitcoin Planet",
          "Bitshares",
          "BuzzCoin",
          "CoffeeCoin",
          "OpenChat",
          "Cash & Back Coin",
          "Cream",
          "Degas Coin",
          "iDealCash",
          "Draftcoin",
          "Diggits",
          "Denarius",
          "eBoost",
          "Electra",
          "EverGreenCoin",
          "EmaratCoin",
          "EmberCoin",
          "Eternity",
          "EuropeCoin",
          "Espers",
          "Ethereum Dark",
          "Eurocoin",
          "Exclusive Coin",
          "FindCoin",
          "FreeCoin",
          "FirstCoin",
          "GAKHcoin",
          "GoldBlocks",
          "GermanCoin",
          "GanjaCoin V2",
          "GPU Coin",
          "GrowthCoin",
          "Halloween Coin",
          "HappyCoin",
          "Hitcoin",
          "HTML5 Coin",
          "HyperStake",
          "Ignition",
          "Impeach",
          "Independent Money System",
          "Impact",
          "Influxcoin",
          "InsaneCoin",
          "Insane Coin",
          "Internet of People",
          "Klingon Empire Darsek",
          "KushCoin",
          "LanaCoin",
          "Lutetium Coin",
          "Litecoin Plus",
          "Linda",
          "Let it Ride",
          "LomoCoin",
          "LiteCreed",
          "LiteCoin Ultra",
          "LUXCoin",
          "Magnet",
          "Theresa May Coin",
          "MacronCoin",
          "MoneyCoin",
          "MustangCoin",
          "MudraCoin",
          "NamoCoin",
          "Nebuchadnezzar",
          "NeosCoin",
          "Dnotes",
          "DeepOnion",
          "Particl",
          "Phreak",
          "PLNCoin",
          "PandaCoin",
          "PhantomX",
          "ProCurrency",
          "Printerium",
          "Pushi",
          "PWR Coin",
          "QuarkCoin",
          "QTUM",
          "Radium",
          "Condensate",
          "RubyCoin",
          "Russiacoin",
          "Regalcoin",
          "RenosCoin",
          "RoyalCoin",
          "Swisscoin",
          "StorjCoin",
          "Squall Coin",
          "Stakecoin",
          "Steem",
          "SuperCoin",
          "TajCoin",
          "TeamUP",
          "TerraNovaCoin",
          "TPCash",
          "Trollcoin",
          "ThunderStake",
          "TrezarCoin",
          "Ucoin",
          "GameUnits",
          "Ultimate Secure Cash",
          "Unified Society USDEX",
          "VIP Tokens",
          "Velox",
          "Virta Unique Coin",
          "WomenCoin",
          "BitcoinPlus",
          "Creatio",
          "CoinonatX",
          "XenixCoin",
          "GoldReserve",
          "HiCoin",
          "Infinity Economics",
          "Xios",
          "Monoeci",
          "Enigma",
          "Opair",
          "Ratecoin",
          "Stakenet",
          "VirtacoinPlus",
          "Zilbercoin",
          "ZeitCoin"
         ],
         "legendgroup": "class=4",
         "marker": {
          "color": [
           4,
           4,
           4,
           4,
           4,
           4,
           4,
           4,
           4,
           4,
           4,
           4,
           4,
           4,
           4,
           4,
           4,
           4,
           4,
           4,
           4,
           4,
           4,
           4,
           4,
           4,
           4,
           4,
           4,
           4,
           4,
           4,
           4,
           4,
           4,
           4,
           4,
           4,
           4,
           4,
           4,
           4,
           4,
           4,
           4,
           4,
           4,
           4,
           4,
           4,
           4,
           4,
           4,
           4,
           4,
           4,
           4,
           4,
           4,
           4,
           4,
           4,
           4,
           4,
           4,
           4,
           4,
           4,
           4,
           4,
           4,
           4,
           4,
           4,
           4,
           4,
           4,
           4,
           4,
           4,
           4,
           4,
           4,
           4,
           4,
           4,
           4,
           4,
           4,
           4,
           4,
           4,
           4,
           4,
           4,
           4,
           4,
           4,
           4,
           4,
           4,
           4,
           4,
           4,
           4,
           4,
           4,
           4,
           4,
           4,
           4,
           4,
           4,
           4,
           4,
           4,
           4,
           4,
           4,
           4,
           4,
           4,
           4,
           4,
           4,
           4,
           4,
           4,
           4,
           4,
           4,
           4,
           4,
           4
          ],
          "coloraxis": "coloraxis",
          "symbol": "square"
         },
         "mode": "markers",
         "name": "class=4",
         "scene": "scene",
         "showlegend": true,
         "type": "scatter3d",
         "x": [
          9880502.37178894,
          2517104.22975364,
          1148324,
          111193477.889,
          11097529.498741,
          183534024.889807,
          20761925.693817,
          16362544.992,
          845637.81347436,
          21268092,
          24808799.5010828,
          169598616,
          6804362,
          2747250000,
          19577787259,
          148716816,
          1000000000,
          110976977.29338,
          47591923.255223,
          21358764,
          1441159658.1245,
          18715920.9598914,
          100000000,
          4171382,
          99990001.563198,
          28399150208,
          13530556.4180753,
          21599339.6728,
          92192822723,
          6519929.99410212,
          10447394.8080507,
          22801882871,
          4200000,
          12416554,
          5752243,
          14524851.4827,
          50000000,
          110000000,
          3315789,
          15563873,
          4911500269.41,
          100000000,
          40477042,
          324937892.00591,
          264678458.288619,
          22685551.3731748,
          10996318099,
          40659020000,
          1679489617.8343,
          1225568.5,
          308179,
          5368934,
          110630387.850471,
          5435543.80653439,
          18342813,
          23882451.3207514,
          2526078.47525448,
          23965372,
          5659096.95728771,
          1122983369.19064,
          657000000,
          2563662.579256,
          9044930943.24243,
          38589808.6658096,
          500000,
          30227750,
          8419402.321,
          8670629.93585512,
          38198594.8342105,
          92050800,
          401421401,
          10914418,
          658793.95483138,
          5000000,
          560563220,
          20000000,
          4392258.24647793,
          176880322.549276,
          21971464.4116385,
          9150546.91782267,
          11390225.9742772,
          17089600,
          33842036634.7123,
          47027022.0193029,
          100545745,
          11821728,
          2167827.1,
          10088946643.8821,
          260859916.63259,
          100000000,
          3865957.77561384,
          121665451.643876,
          27380246.3918338,
          8377873,
          7262402.04264803,
          36050365,
          2500124,
          10200000000,
          51173144,
          329200.01639,
          4000000,
          99692126,
          50844891.1850545,
          12822733.7795357,
          17818682.1654,
          1140734.91680375,
          5403802.49590733,
          592176323,
          1243163077.77622,
          190490500,
          2689812,
          3472983,
          10343113,
          236022800.934163,
          83450403,
          25570013.1348022,
          62942075,
          48459472454,
          130965.02402352,
          20000000,
          19539588,
          3853326.77707314,
          17171382,
          10000244677.7002,
          8999999990,
          2149688,
          12570113.9413764,
          814671,
          74033806.7949683,
          134554941.15119,
          75590369,
          13331790.7288707,
          2962168.79865205,
          36971239617.1645
         ],
         "y": [
          "30000000",
          "42000000",
          "28600000",
          "110290030",
          "28000000",
          "210000000",
          "33000000",
          "14788275.991",
          "3000000",
          "30000000",
          "139000000",
          "0",
          "100000000",
          "3600570502",
          "20000000000",
          "39999898",
          "1000000000",
          "210000000",
          "100000000",
          "105000000",
          "5121951220",
          "17405891.19707116",
          "100000000",
          "10000000",
          "100000000",
          "30000000000",
          "26298000",
          "84000000",
          "850000000",
          "60000000",
          "384000000",
          "50000000000",
          "4200000",
          "20000000",
          "0",
          "14524851.4827",
          "50000000",
          "110000000",
          "3315789",
          "50000000",
          "50000000000",
          "100000000",
          "221052632",
          "2000000000",
          "1500000000",
          "100000000",
          "26550000000",
          "90000000000",
          "0",
          "5000000",
          "21933333",
          "21212121",
          "110000000",
          "12000000",
          "30000000",
          "30000000",
          "21000000",
          "500000000",
          "9354000",
          "7506000000",
          "657000000",
          "4000000",
          "50000000000",
          "33500000",
          "1000000000",
          "78835200",
          "150000000",
          "60000000",
          "144000000",
          "100000000",
          "400000000",
          "650659833",
          "3000000",
          "200000000",
          "1200000000",
          "20000000",
          "21000000",
          "500000000",
          "18898187.6216583",
          "8634140",
          "30000000",
          "38540000 ",
          "32514916898",
          "50000000",
          "75000000000",
          "20000000",
          "25000000",
          "0",
          "247000000",
          "100000000",
          "9000000",
          "500000000",
          "0",
          "144000000",
          "27000000",
          "34426423",
          "2500124",
          "10200000000",
          "500000000",
          "0",
          "61599965",
          "99692126",
          "0",
          "36900000",
          "301000000",
          "15733333",
          "1000000000",
          "900000000",
          "18000000000",
          "400000000",
          "20000000",
          "13000000",
          "200084200",
          "232000000",
          "90000000",
          "124000000",
          "120000000",
          "25000000000",
          "1000000",
          "20000000",
          "48252000",
          "3853326.77707314",
          "40000000",
          "10008835635",
          "9000000000",
          "21000000",
          "9507271",
          "5000000",
          "74000000",
          "75000000",
          "76500000",
          "100000000",
          "55000000",
          " 99000000000"
         ],
         "z": [
          "Scrypt",
          "Scrypt",
          "Scrypt",
          "PoS",
          "Scrypt",
          "X13",
          "Scrypt",
          "Scrypt",
          "Scrypt",
          "X13",
          "X11",
          "Scrypt",
          "Skein",
          "SHA-512",
          "SHA-256D",
          "PoS",
          "Scrypt",
          "Scrypt",
          "Skein",
          "Scrypt",
          "Scrypt",
          "Scrypt",
          "Scrypt",
          "NIST5",
          "Scrypt",
          "NIST5",
          "X15",
          "Scrypt",
          "X13",
          "X11",
          "X11",
          "536",
          "Scrypt",
          "SHA-256",
          "PoS",
          "X13",
          "PoS",
          "Scrypt",
          "Scrypt",
          "X11",
          "Scrypt",
          "X14",
          "Scrypt",
          "Scrypt",
          "X11",
          "X11",
          "X11",
          "X15",
          "X11",
          "Scrypt",
          "Scrypt",
          "Scrypt",
          "X11",
          "X11",
          "X11",
          "X11",
          "SHA-256",
          "Scrypt",
          "X11",
          "SHA-256D",
          "X11",
          "Scrypt",
          "Scrypt",
          "POS 3.0",
          "Scrypt",
          "QuBit",
          "Scrypt",
          "PHI1612",
          "X11",
          "SHA-256",
          "PoS",
          "Scrypt",
          "X11",
          "X13",
          "NIST5",
          "PoS",
          "SHA-256",
          "Scrypt",
          "X13",
          "PoS",
          "PoS",
          "Scrypt",
          "Scrypt",
          "X11",
          "SHA-256",
          "Scrypt",
          "X11",
          "NIST5",
          "Quark",
          "POS 3.0",
          "PoS",
          "X11",
          "Scrypt",
          "Scrypt",
          "X11",
          "Scrypt",
          "X13",
          "Scrypt",
          "Counterparty",
          "X11",
          "PoS",
          "PoS",
          "X11",
          "Blake2S",
          "PoS",
          "Scrypt",
          "Scrypt",
          "Scrypt",
          "Scrypt",
          "NeoScrypt",
          "X11",
          "Scrypt",
          "SHA-256",
          "Scrypt",
          "NIST5",
          "Scrypt",
          "NIST5",
          "Scrypt",
          "Scrypt",
          "PoS",
          "Scrypt",
          "X11",
          "X11",
          "Scrypt",
          "SHA-256",
          "Scrypt",
          "X11",
          "X11",
          "PoS",
          "X11",
          "X11",
          "X11",
          "Scrypt",
          "Scrypt"
         ]
        },
        {
         "customdata": [
          [
           "X11"
          ],
          [
           "Scrypt"
          ],
          [
           "Lyra2Z"
          ],
          [
           "IMesh"
          ],
          [
           "Lyra2Z"
          ],
          [
           "X11"
          ],
          [
           "X11"
          ],
          [
           "X11"
          ],
          [
           "X11"
          ],
          [
           "SHA-256"
          ],
          [
           "CryptoNight"
          ],
          [
           "Scrypt"
          ],
          [
           "CryptoNight"
          ],
          [
           "Blake"
          ],
          [
           "Scrypt"
          ],
          [
           "SHA-256"
          ],
          [
           "Equihash"
          ],
          [
           "Equihash"
          ],
          [
           "Equihash"
          ],
          [
           "Time Travel"
          ],
          [
           "Cloverhash"
          ],
          [
           "X11"
          ],
          [
           "Ethash"
          ],
          [
           "CryptoNight"
          ],
          [
           "Equihash"
          ],
          [
           "CryptoNight-V7"
          ],
          [
           "NIST5"
          ],
          [
           "X11"
          ],
          [
           "Ethash"
          ],
          [
           "Dagger-Hashimoto"
          ],
          [
           "CryptoNight"
          ],
          [
           "X11"
          ],
          [
           "Argon2d"
          ],
          [
           "Ethash"
          ],
          [
           "Ethash"
          ],
          [
           "X11"
          ],
          [
           "Scrypt"
          ],
          [
           "Scrypt"
          ],
          [
           "Scrypt"
          ],
          [
           "CryptoNight"
          ],
          [
           "X11"
          ],
          [
           "NeoScrypt"
          ],
          [
           "Scrypt"
          ],
          [
           "Lyra2Z"
          ],
          [
           "SHA-256"
          ],
          [
           "NeoScrypt"
          ],
          [
           "Scrypt"
          ],
          [
           "Lyra2RE"
          ],
          [
           "SHA-256"
          ],
          [
           "NeoScrypt"
          ],
          [
           "Scrypt"
          ],
          [
           "C11"
          ],
          [
           "NIST5"
          ],
          [
           "Tribus"
          ],
          [
           "Equihash"
          ],
          [
           "CryptoNight"
          ],
          [
           "Lyra2REv2"
          ],
          [
           "Scrypt"
          ],
          [
           "X11"
          ],
          [
           "SHA-256 + Hive"
          ],
          [
           "Scrypt"
          ],
          [
           "CryptoNight Heavy"
          ],
          [
           "Scrypt"
          ],
          [
           "CryptoNight-V7"
          ],
          [
           "Scrypt"
          ],
          [
           "Jump Consistent Hash"
          ],
          [
           "SkunkHash"
          ],
          [
           "Blake2b"
          ],
          [
           "CryptoNight"
          ],
          [
           "CryptoNight"
          ],
          [
           "Scrypt"
          ],
          [
           "X11"
          ],
          [
           "X11"
          ],
          [
           "X11"
          ],
          [
           "BLAKE256"
          ],
          [
           "Dagger"
          ],
          [
           "CryptoNight"
          ],
          [
           "HMQ1725"
          ],
          [
           "Proof-of-Authority"
          ],
          [
           "Scrypt"
          ],
          [
           "SHA-256"
          ],
          [
           "Scrypt"
          ],
          [
           "X11"
          ],
          [
           "CryptoNight-V7"
          ],
          [
           "Ethash"
          ],
          [
           "Cryptonight-GPU"
          ],
          [
           "Blake2b"
          ],
          [
           "Keccak"
          ],
          [
           "Scrypt"
          ],
          [
           "Dagger"
          ],
          [
           "Scrypt"
          ],
          [
           "NeoScrypt"
          ],
          [
           "Scrypt"
          ],
          [
           "X11"
          ],
          [
           "CryptoNight"
          ],
          [
           "Dagger"
          ],
          [
           "CryptoNight"
          ],
          [
           "SHA-256"
          ],
          [
           "Scrypt"
          ],
          [
           "NeoScrypt"
          ],
          [
           "X11"
          ],
          [
           "CryptoNight-V7"
          ],
          [
           "CryptoNight"
          ],
          [
           "CryptoNight"
          ],
          [
           "CryptoNight"
          ],
          [
           "Multiple"
          ],
          [
           "CryptoNight"
          ],
          [
           "Lyra2Z"
          ],
          [
           "Equihash"
          ],
          [
           "Equihash"
          ],
          [
           "Equihash"
          ],
          [
           "Equihash"
          ],
          [
           "Lyra2RE"
          ]
         ],
         "hoverlabel": {
          "namelength": 0
         },
         "hovertemplate": "<b>%{hovertext}</b><br><br>class=%{marker.color}<br>TotalCoinsMined=%{x}<br>TotalCoinSupply=%{y}<br>Algorithm=%{customdata[0]}",
         "hovertext": [
          "AC3",
          "AdCoin",
          "Actinium",
          "Aidos Kuneen",
          "Alpenschillling",
          "ArcticCoin",
          "ArtexCoin",
          "Axe",
          "Azart",
          "Bitcoin Cash",
          "ByteCoin",
          "BenjiRolls",
          "Bikercoins",
          "BlakeCoin",
          "Block-Logic",
          "Bitcoin SV",
          "BitcoinZ",
          "Bitcoin Gold",
          "Bitrolium",
          "Bitcore",
          "ChanCoin",
          "Crypto Improvement Fund",
          "Callisto Network",
          "BitCoal",
          "CrypticCoin",
          "Citadel",
          "Coinonat",
          "DAS",
          "DaxxCoin",
          "DubaiCoin",
          "Dinastycoin",
          "DigitalPrice",
          "Dynamic",
          "Elementrem",
          "Ellaism",
          "Elements",
          "EquiTrader",
          "BitFlip",
          "FrazCoin",
          "FREDEnergy",
          "FuturoCoin",
          "GoByte",
          "gCn Coin",
          "GINcoin",
          "GlobalToken",
          "GunCoin",
          "HexCoin",
          "HexxCoin",
          "ILCoin",
          "Innova",
          "IrishCoin",
          "Interzone",
          "Jumpcoin",
          "KEYCO",
          "Komodo",
          "Karbo",
          "KREDS",
          "Kronecoin",
          "Kurrent",
          "LitecoinCash",
          "Linx",
          "Loki",
          "LottoCoin",
          "Lethean",
          "Lynx",
          "MassGrid",
          "MUNcoin",
          "Nano",
          "Niobio Cash",
          "Newton Coin",
          "NewYorkCoin",
          "Onix",
          "PacCoin",
          "Pioneer Coin",
          "Photon",
          "Pirl",
          "PluraCoin",
          "PlusOneCoin",
          "Poa Network",
          "PopularCoin",
          "Project Pai",
          "Poseidon",
          "Pura",
          "Quantum Resistant Ledger",
          "Reality Clash",
          "Ryo",
          "Siacoin",
          "SmartCash",
          "SocialCoin",
          "SoilCoin",
          "Sojourn Coin",
          "SparksPay",
          "ShareChain",
          "Sucre",
          "Sumokoin",
          "Travelflex",
          "BitTube",
          "UnitedBitcoin",
          "Unify",
          "VIVO Coin",
          "VaultCoin",
          "Webchain",
          "Cannabis Industry Coin",
          "LeviarCoin",
          "Monero Classic",
          "SHIELD",
          "UltraNote",
          "ZCoin",
          "ZClassic",
          "ZCash",
          "Horizen",
          "Zero",
          "Zoin"
         ],
         "legendgroup": "class=0",
         "marker": {
          "color": [
           0,
           0,
           0,
           0,
           0,
           0,
           0,
           0,
           0,
           0,
           0,
           0,
           0,
           0,
           0,
           0,
           0,
           0,
           0,
           0,
           0,
           0,
           0,
           0,
           0,
           0,
           0,
           0,
           0,
           0,
           0,
           0,
           0,
           0,
           0,
           0,
           0,
           0,
           0,
           0,
           0,
           0,
           0,
           0,
           0,
           0,
           0,
           0,
           0,
           0,
           0,
           0,
           0,
           0,
           0,
           0,
           0,
           0,
           0,
           0,
           0,
           0,
           0,
           0,
           0,
           0,
           0,
           0,
           0,
           0,
           0,
           0,
           0,
           0,
           0,
           0,
           0,
           0,
           0,
           0,
           0,
           0,
           0,
           0,
           0,
           0,
           0,
           0,
           0,
           0,
           0,
           0,
           0,
           0,
           0,
           0,
           0,
           0,
           0,
           0,
           0,
           0,
           0,
           0,
           0,
           0,
           0,
           0,
           0,
           0,
           0,
           0,
           0
          ],
          "coloraxis": "coloraxis",
          "symbol": "x"
         },
         "mode": "markers",
         "name": "class=0",
         "scene": "scene",
         "showlegend": true,
         "type": "scatter3d",
         "x": [
          80316207,
          33011554.8976463,
          14848750,
          25000000,
          27340501.6514783,
          27994846.5603118,
          824000000,
          5021662.15685358,
          5015881.37315389,
          18087864.6469082,
          184066828814,
          20276099.146524,
          9357088,
          23914128.9626558,
          35946144.3261549,
          18084902.1469233,
          5579847709.26963,
          17202361.088994,
          71355477,
          17902299.5355478,
          19131022.7872151,
          211297638.500483,
          247612453,
          4500000,
          4235111504,
          10969318.522954,
          10123200,
          2622886,
          520891780,
          2232901,
          1809467143,
          35913000,
          19827144.8462835,
          26205539,
          12756367,
          2702855668.85288,
          13747035.9075517,
          12446100.00278,
          9704042,
          1867054873.28397,
          31801461.1867843,
          6179185.5,
          163055097500,
          7427053.29773925,
          88805349.9999955,
          302539728,
          1416663.06600024,
          1876146.443596,
          1376522500,
          6375259.04,
          46527499.3398182,
          12214599.7917101,
          21081814.5260323,
          795447,
          116749290,
          7967371.01869461,
          645802968.281741,
          18652199.4046601,
          61364813,
          646066707.208514,
          33716526,
          19153632,
          14491014421,
          441250233.377,
          77872096985.8998,
          136578116.463029,
          4818338.98949984,
          133248297,
          137497704.120988,
          41294520017,
          143190134051.937,
          123105777.102501,
          536982074,
          8880594.48939947,
          30706302038.3259,
          33986980,
          589864290.727139,
          8673806.23049115,
          204479039,
          3974084721.93839,
          2100000000,
          4070212.1493016,
          175215859,
          69477455.4446567,
          24487944.0958204,
          4890897,
          33098296530,
          2241009149.22257,
          5167775,
          5702048,
          485214,
          7935521.33355824,
          10000000000,
          4229040.50393462,
          8946653,
          107325266.027783,
          80049082.9057215,
          20166000,
          18133195,
          4165967.57499639,
          30385540,
          15580199.3087496,
          978145,
          14161803,
          16016864,
          481730566.566176,
          19294501406.9481,
          7654039.94934432,
          5613550,
          7750881.25,
          7663425,
          7323181.5400015,
          18545757.5
         ],
         "y": [
          "550000000",
          "100000000",
          "84000000",
          "25000000",
          "300000000",
          "60000000",
          "500000000",
          "21000000",
          "25000000",
          "21000000",
          "184467440735",
          "35520400",
          "25000000",
          "7000000000",
          "120000000",
          "21000000",
          "21000000000",
          "21000000",
          "70000000",
          "21000000",
          "30000000",
          "500000000",
          "6500000000",
          "12500000",
          "7600000000",
          "185000000",
          "48252000",
          "18900000",
          "10000000000",
          "2232901",
          "2000000000",
          "100000000",
          "0",
          "26205539",
          "280000000",
          "1800000000",
          "72000000",
          "40000000",
          "20000000",
          "8080000000",
          "100000000",
          "31800000",
          "200000000000",
          "10500000",
          "168000000",
          "500000000",
          "22105263",
          "9999999",
          "2500000000",
          "45000000",
          "64000000",
          "23000000",
          "21000000",
          "18000000",
          "200000000",
          "10000000",
          "1100000000",
          "84000000",
          "228000000",
          "840000000",
          "100000000",
          "150000000",
          "18406979840",
          "999481516",
          "92000000000",
          "168000000",
          "16600000",
          "340282367",
          "336000000",
          "184000000000",
          "0",
          "1100000000",
          "100000000000",
          "23000000",
          " 90000000000",
          "156306732.71",
          "1000000000",
          "21000000",
          "252460800",
          "4999999999",
          "2100000000",
          "21000000",
          "350000000",
          "105000000",
          "24487944",
          "88188888",
          "0",
          "5000000000",
          " 75000000",
          "30000000",
          "10500000000",
          "21000000",
          "10000000000",
          "19800000",
          "88888888",
          "100000000",
          "1000000000",
          "20166000",
          "19276800",
          "27000000",
          "1000000000",
          "1750000000",
          "21000000",
          "54000000",
          "18400000",
          "660000000",
          "85000000000",
          "21400000",
          "21000000",
          "21000000",
          "21000000",
          "17000000",
          "21000000"
         ],
         "z": [
          "X11",
          "Scrypt",
          "Lyra2Z",
          "IMesh",
          "Lyra2Z",
          "X11",
          "X11",
          "X11",
          "X11",
          "SHA-256",
          "CryptoNight",
          "Scrypt",
          "CryptoNight",
          "Blake",
          "Scrypt",
          "SHA-256",
          "Equihash",
          "Equihash",
          "Equihash",
          "Time Travel",
          "Cloverhash",
          "X11",
          "Ethash",
          "CryptoNight",
          "Equihash",
          "CryptoNight-V7",
          "NIST5",
          "X11",
          "Ethash",
          "Dagger-Hashimoto",
          "CryptoNight",
          "X11",
          "Argon2d",
          "Ethash",
          "Ethash",
          "X11",
          "Scrypt",
          "Scrypt",
          "Scrypt",
          "CryptoNight",
          "X11",
          "NeoScrypt",
          "Scrypt",
          "Lyra2Z",
          "SHA-256",
          "NeoScrypt",
          "Scrypt",
          "Lyra2RE",
          "SHA-256",
          "NeoScrypt",
          "Scrypt",
          "C11",
          "NIST5",
          "Tribus",
          "Equihash",
          "CryptoNight",
          "Lyra2REv2",
          "Scrypt",
          "X11",
          "SHA-256 + Hive",
          "Scrypt",
          "CryptoNight Heavy",
          "Scrypt",
          "CryptoNight-V7",
          "Scrypt",
          "Jump Consistent Hash",
          "SkunkHash",
          "Blake2b",
          "CryptoNight",
          "CryptoNight",
          "Scrypt",
          "X11",
          "X11",
          "X11",
          "BLAKE256",
          "Dagger",
          "CryptoNight",
          "HMQ1725",
          "Proof-of-Authority",
          "Scrypt",
          "SHA-256",
          "Scrypt",
          "X11",
          "CryptoNight-V7",
          "Ethash",
          "Cryptonight-GPU",
          "Blake2b",
          "Keccak",
          "Scrypt",
          "Dagger",
          "Scrypt",
          "NeoScrypt",
          "Scrypt",
          "X11",
          "CryptoNight",
          "Dagger",
          "CryptoNight",
          "SHA-256",
          "Scrypt",
          "NeoScrypt",
          "X11",
          "CryptoNight-V7",
          "CryptoNight",
          "CryptoNight",
          "CryptoNight",
          "Multiple",
          "CryptoNight",
          "Lyra2Z",
          "Equihash",
          "Equihash",
          "Equihash",
          "Equihash",
          "Lyra2RE"
         ]
        },
        {
         "customdata": [
          [
           "DPoS"
          ],
          [
           "DPoS"
          ],
          [
           "DPoS"
          ],
          [
           "DPoS"
          ],
          [
           "PoS"
          ],
          [
           "DPoS"
          ],
          [
           "Semux BFT consensus"
          ],
          [
           "DPoS"
          ],
          [
           "VeChainThor Authority"
          ],
          [
           "Leased POS"
          ],
          [
           "SHA-256"
          ]
         ],
         "hoverlabel": {
          "namelength": 0
         },
         "hovertemplate": "<b>%{hovertext}</b><br><br>class=%{marker.color}<br>TotalCoinsMined=%{x}<br>TotalCoinSupply=%{y}<br>Algorithm=%{customdata[0]}",
         "hovertext": [
          "ALAX",
          "ARK",
          "EOS",
          "Lisk",
          "Nxt",
          "Oxycoin",
          "Semux",
          "Lamden Tau",
          "Vechain",
          "Waves",
          "ZEPHYR"
         ],
         "legendgroup": "class=5",
         "marker": {
          "color": [
           5,
           5,
           5,
           5,
           5,
           5,
           5,
           5,
           5,
           5,
           5
          ],
          "coloraxis": "coloraxis",
          "symbol": "cross"
         },
         "mode": "markers",
         "name": "class=5",
         "scene": "scene",
         "showlegend": true,
         "type": "scatter3d",
         "x": [
          1000000000,
          108202084,
          1020544523.0722,
          121247059,
          1000000000,
          1122382283.37,
          1231147,
          288090567.493887,
          55454734800,
          100000000,
          1999999995.3056
         ],
         "y": [
          "1000000000",
          "125000000",
          "0",
          "159918400",
          "1000000000",
          "0",
          "100000000",
          "500000000",
          "86712634466",
          "100000000",
          "2000000000"
         ],
         "z": [
          "DPoS",
          "DPoS",
          "DPoS",
          "DPoS",
          "PoS",
          "DPoS",
          "Semux BFT consensus",
          "DPoS",
          "VeChainThor Authority",
          "Leased POS",
          "SHA-256"
         ]
        },
        {
         "customdata": [
          [
           "TRC10"
          ]
         ],
         "hoverlabel": {
          "namelength": 0
         },
         "hovertemplate": "<b>%{hovertext}</b><br><br>class=%{marker.color}<br>TotalCoinsMined=%{x}<br>TotalCoinSupply=%{y}<br>Algorithm=%{customdata[0]}",
         "hovertext": [
          "BitTorrent"
         ],
         "legendgroup": "class=3",
         "marker": {
          "color": [
           3
          ],
          "coloraxis": "coloraxis",
          "symbol": "circle"
         },
         "mode": "markers",
         "name": "class=3",
         "scene": "scene",
         "showlegend": true,
         "type": "scatter3d",
         "x": [
          989988693687.423
         ],
         "y": [
          "990000000000"
         ],
         "z": [
          "TRC10"
         ]
        },
        {
         "customdata": [
          [
           "CryptoNight Heavy"
          ],
          [
           "CryptoNight"
          ]
         ],
         "hoverlabel": {
          "namelength": 0
         },
         "hovertemplate": "<b>%{hovertext}</b><br><br>class=%{marker.color}<br>TotalCoinsMined=%{x}<br>TotalCoinSupply=%{y}<br>Algorithm=%{customdata[0]}",
         "hovertext": [
          "Qwertycoin",
          "TurtleCoin"
         ],
         "legendgroup": "class=6",
         "marker": {
          "color": [
           6,
           6
          ],
          "coloraxis": "coloraxis",
          "symbol": "diamond"
         },
         "mode": "markers",
         "name": "class=6",
         "scene": "scene",
         "showlegend": true,
         "type": "scatter3d",
         "x": [
          105299857562.91,
          57241458566.7
         ],
         "y": [
          "184470000000",
          "1000000000000"
         ],
         "z": [
          "CryptoNight Heavy",
          "CryptoNight"
         ]
        }
       ],
       "layout": {
        "coloraxis": {
         "colorbar": {
          "title": {
           "text": "class"
          }
         },
         "colorscale": [
          [
           0,
           "#0d0887"
          ],
          [
           0.1111111111111111,
           "#46039f"
          ],
          [
           0.2222222222222222,
           "#7201a8"
          ],
          [
           0.3333333333333333,
           "#9c179e"
          ],
          [
           0.4444444444444444,
           "#bd3786"
          ],
          [
           0.5555555555555556,
           "#d8576b"
          ],
          [
           0.6666666666666666,
           "#ed7953"
          ],
          [
           0.7777777777777778,
           "#fb9f3a"
          ],
          [
           0.8888888888888888,
           "#fdca26"
          ],
          [
           1,
           "#f0f921"
          ]
         ]
        },
        "height": 600,
        "legend": {
         "tracegroupgap": 0,
         "x": 0,
         "y": 1
        },
        "margin": {
         "t": 60
        },
        "scene": {
         "aspectmode": "auto",
         "aspectratio": {
          "x": 0.9949817554334467,
          "y": 1.0050435543557956,
          "z": 1
         },
         "camera": {
          "center": {
           "x": 0,
           "y": 0,
           "z": 0
          },
          "eye": {
           "x": 0.5308217953897958,
           "y": -0.0031440455341191493,
           "z": 2.2410822292191046
          },
          "projection": {
           "type": "perspective"
          },
          "up": {
           "x": 3.512012615088263e-06,
           "y": 0.0005028307498641118,
           "z": 0.9999998735744434
          }
         },
         "domain": {
          "x": [
           0,
           0.98
          ],
          "y": [
           0,
           1
          ]
         },
         "xaxis": {
          "title": {
           "text": "TotalCoinsMined"
          },
          "type": "linear"
         },
         "yaxis": {
          "title": {
           "text": "TotalCoinSupply"
          },
          "type": "linear"
         },
         "zaxis": {
          "title": {
           "text": "Algorithm"
          },
          "type": "category"
         }
        },
        "template": {
         "data": {
          "bar": [
           {
            "error_x": {
             "color": "#2a3f5f"
            },
            "error_y": {
             "color": "#2a3f5f"
            },
            "marker": {
             "line": {
              "color": "#E5ECF6",
              "width": 0.5
             }
            },
            "type": "bar"
           }
          ],
          "barpolar": [
           {
            "marker": {
             "line": {
              "color": "#E5ECF6",
              "width": 0.5
             }
            },
            "type": "barpolar"
           }
          ],
          "carpet": [
           {
            "aaxis": {
             "endlinecolor": "#2a3f5f",
             "gridcolor": "white",
             "linecolor": "white",
             "minorgridcolor": "white",
             "startlinecolor": "#2a3f5f"
            },
            "baxis": {
             "endlinecolor": "#2a3f5f",
             "gridcolor": "white",
             "linecolor": "white",
             "minorgridcolor": "white",
             "startlinecolor": "#2a3f5f"
            },
            "type": "carpet"
           }
          ],
          "choropleth": [
           {
            "colorbar": {
             "outlinewidth": 0,
             "ticks": ""
            },
            "type": "choropleth"
           }
          ],
          "contour": [
           {
            "colorbar": {
             "outlinewidth": 0,
             "ticks": ""
            },
            "colorscale": [
             [
              0,
              "#0d0887"
             ],
             [
              0.1111111111111111,
              "#46039f"
             ],
             [
              0.2222222222222222,
              "#7201a8"
             ],
             [
              0.3333333333333333,
              "#9c179e"
             ],
             [
              0.4444444444444444,
              "#bd3786"
             ],
             [
              0.5555555555555556,
              "#d8576b"
             ],
             [
              0.6666666666666666,
              "#ed7953"
             ],
             [
              0.7777777777777778,
              "#fb9f3a"
             ],
             [
              0.8888888888888888,
              "#fdca26"
             ],
             [
              1,
              "#f0f921"
             ]
            ],
            "type": "contour"
           }
          ],
          "contourcarpet": [
           {
            "colorbar": {
             "outlinewidth": 0,
             "ticks": ""
            },
            "type": "contourcarpet"
           }
          ],
          "heatmap": [
           {
            "colorbar": {
             "outlinewidth": 0,
             "ticks": ""
            },
            "colorscale": [
             [
              0,
              "#0d0887"
             ],
             [
              0.1111111111111111,
              "#46039f"
             ],
             [
              0.2222222222222222,
              "#7201a8"
             ],
             [
              0.3333333333333333,
              "#9c179e"
             ],
             [
              0.4444444444444444,
              "#bd3786"
             ],
             [
              0.5555555555555556,
              "#d8576b"
             ],
             [
              0.6666666666666666,
              "#ed7953"
             ],
             [
              0.7777777777777778,
              "#fb9f3a"
             ],
             [
              0.8888888888888888,
              "#fdca26"
             ],
             [
              1,
              "#f0f921"
             ]
            ],
            "type": "heatmap"
           }
          ],
          "heatmapgl": [
           {
            "colorbar": {
             "outlinewidth": 0,
             "ticks": ""
            },
            "colorscale": [
             [
              0,
              "#0d0887"
             ],
             [
              0.1111111111111111,
              "#46039f"
             ],
             [
              0.2222222222222222,
              "#7201a8"
             ],
             [
              0.3333333333333333,
              "#9c179e"
             ],
             [
              0.4444444444444444,
              "#bd3786"
             ],
             [
              0.5555555555555556,
              "#d8576b"
             ],
             [
              0.6666666666666666,
              "#ed7953"
             ],
             [
              0.7777777777777778,
              "#fb9f3a"
             ],
             [
              0.8888888888888888,
              "#fdca26"
             ],
             [
              1,
              "#f0f921"
             ]
            ],
            "type": "heatmapgl"
           }
          ],
          "histogram": [
           {
            "marker": {
             "colorbar": {
              "outlinewidth": 0,
              "ticks": ""
             }
            },
            "type": "histogram"
           }
          ],
          "histogram2d": [
           {
            "colorbar": {
             "outlinewidth": 0,
             "ticks": ""
            },
            "colorscale": [
             [
              0,
              "#0d0887"
             ],
             [
              0.1111111111111111,
              "#46039f"
             ],
             [
              0.2222222222222222,
              "#7201a8"
             ],
             [
              0.3333333333333333,
              "#9c179e"
             ],
             [
              0.4444444444444444,
              "#bd3786"
             ],
             [
              0.5555555555555556,
              "#d8576b"
             ],
             [
              0.6666666666666666,
              "#ed7953"
             ],
             [
              0.7777777777777778,
              "#fb9f3a"
             ],
             [
              0.8888888888888888,
              "#fdca26"
             ],
             [
              1,
              "#f0f921"
             ]
            ],
            "type": "histogram2d"
           }
          ],
          "histogram2dcontour": [
           {
            "colorbar": {
             "outlinewidth": 0,
             "ticks": ""
            },
            "colorscale": [
             [
              0,
              "#0d0887"
             ],
             [
              0.1111111111111111,
              "#46039f"
             ],
             [
              0.2222222222222222,
              "#7201a8"
             ],
             [
              0.3333333333333333,
              "#9c179e"
             ],
             [
              0.4444444444444444,
              "#bd3786"
             ],
             [
              0.5555555555555556,
              "#d8576b"
             ],
             [
              0.6666666666666666,
              "#ed7953"
             ],
             [
              0.7777777777777778,
              "#fb9f3a"
             ],
             [
              0.8888888888888888,
              "#fdca26"
             ],
             [
              1,
              "#f0f921"
             ]
            ],
            "type": "histogram2dcontour"
           }
          ],
          "mesh3d": [
           {
            "colorbar": {
             "outlinewidth": 0,
             "ticks": ""
            },
            "type": "mesh3d"
           }
          ],
          "parcoords": [
           {
            "line": {
             "colorbar": {
              "outlinewidth": 0,
              "ticks": ""
             }
            },
            "type": "parcoords"
           }
          ],
          "scatter": [
           {
            "marker": {
             "colorbar": {
              "outlinewidth": 0,
              "ticks": ""
             }
            },
            "type": "scatter"
           }
          ],
          "scatter3d": [
           {
            "line": {
             "colorbar": {
              "outlinewidth": 0,
              "ticks": ""
             }
            },
            "marker": {
             "colorbar": {
              "outlinewidth": 0,
              "ticks": ""
             }
            },
            "type": "scatter3d"
           }
          ],
          "scattercarpet": [
           {
            "marker": {
             "colorbar": {
              "outlinewidth": 0,
              "ticks": ""
             }
            },
            "type": "scattercarpet"
           }
          ],
          "scattergeo": [
           {
            "marker": {
             "colorbar": {
              "outlinewidth": 0,
              "ticks": ""
             }
            },
            "type": "scattergeo"
           }
          ],
          "scattergl": [
           {
            "marker": {
             "colorbar": {
              "outlinewidth": 0,
              "ticks": ""
             }
            },
            "type": "scattergl"
           }
          ],
          "scattermapbox": [
           {
            "marker": {
             "colorbar": {
              "outlinewidth": 0,
              "ticks": ""
             }
            },
            "type": "scattermapbox"
           }
          ],
          "scatterpolar": [
           {
            "marker": {
             "colorbar": {
              "outlinewidth": 0,
              "ticks": ""
             }
            },
            "type": "scatterpolar"
           }
          ],
          "scatterpolargl": [
           {
            "marker": {
             "colorbar": {
              "outlinewidth": 0,
              "ticks": ""
             }
            },
            "type": "scatterpolargl"
           }
          ],
          "scatterternary": [
           {
            "marker": {
             "colorbar": {
              "outlinewidth": 0,
              "ticks": ""
             }
            },
            "type": "scatterternary"
           }
          ],
          "surface": [
           {
            "colorbar": {
             "outlinewidth": 0,
             "ticks": ""
            },
            "colorscale": [
             [
              0,
              "#0d0887"
             ],
             [
              0.1111111111111111,
              "#46039f"
             ],
             [
              0.2222222222222222,
              "#7201a8"
             ],
             [
              0.3333333333333333,
              "#9c179e"
             ],
             [
              0.4444444444444444,
              "#bd3786"
             ],
             [
              0.5555555555555556,
              "#d8576b"
             ],
             [
              0.6666666666666666,
              "#ed7953"
             ],
             [
              0.7777777777777778,
              "#fb9f3a"
             ],
             [
              0.8888888888888888,
              "#fdca26"
             ],
             [
              1,
              "#f0f921"
             ]
            ],
            "type": "surface"
           }
          ],
          "table": [
           {
            "cells": {
             "fill": {
              "color": "#EBF0F8"
             },
             "line": {
              "color": "white"
             }
            },
            "header": {
             "fill": {
              "color": "#C8D4E3"
             },
             "line": {
              "color": "white"
             }
            },
            "type": "table"
           }
          ]
         },
         "layout": {
          "annotationdefaults": {
           "arrowcolor": "#2a3f5f",
           "arrowhead": 0,
           "arrowwidth": 1
          },
          "colorscale": {
           "diverging": [
            [
             0,
             "#8e0152"
            ],
            [
             0.1,
             "#c51b7d"
            ],
            [
             0.2,
             "#de77ae"
            ],
            [
             0.3,
             "#f1b6da"
            ],
            [
             0.4,
             "#fde0ef"
            ],
            [
             0.5,
             "#f7f7f7"
            ],
            [
             0.6,
             "#e6f5d0"
            ],
            [
             0.7,
             "#b8e186"
            ],
            [
             0.8,
             "#7fbc41"
            ],
            [
             0.9,
             "#4d9221"
            ],
            [
             1,
             "#276419"
            ]
           ],
           "sequential": [
            [
             0,
             "#0d0887"
            ],
            [
             0.1111111111111111,
             "#46039f"
            ],
            [
             0.2222222222222222,
             "#7201a8"
            ],
            [
             0.3333333333333333,
             "#9c179e"
            ],
            [
             0.4444444444444444,
             "#bd3786"
            ],
            [
             0.5555555555555556,
             "#d8576b"
            ],
            [
             0.6666666666666666,
             "#ed7953"
            ],
            [
             0.7777777777777778,
             "#fb9f3a"
            ],
            [
             0.8888888888888888,
             "#fdca26"
            ],
            [
             1,
             "#f0f921"
            ]
           ],
           "sequentialminus": [
            [
             0,
             "#0d0887"
            ],
            [
             0.1111111111111111,
             "#46039f"
            ],
            [
             0.2222222222222222,
             "#7201a8"
            ],
            [
             0.3333333333333333,
             "#9c179e"
            ],
            [
             0.4444444444444444,
             "#bd3786"
            ],
            [
             0.5555555555555556,
             "#d8576b"
            ],
            [
             0.6666666666666666,
             "#ed7953"
            ],
            [
             0.7777777777777778,
             "#fb9f3a"
            ],
            [
             0.8888888888888888,
             "#fdca26"
            ],
            [
             1,
             "#f0f921"
            ]
           ]
          },
          "colorway": [
           "#636efa",
           "#EF553B",
           "#00cc96",
           "#ab63fa",
           "#FFA15A",
           "#19d3f3",
           "#FF6692",
           "#B6E880",
           "#FF97FF",
           "#FECB52"
          ],
          "font": {
           "color": "#2a3f5f"
          },
          "geo": {
           "bgcolor": "white",
           "lakecolor": "white",
           "landcolor": "#E5ECF6",
           "showlakes": true,
           "showland": true,
           "subunitcolor": "white"
          },
          "hoverlabel": {
           "align": "left"
          },
          "hovermode": "closest",
          "mapbox": {
           "style": "light"
          },
          "paper_bgcolor": "white",
          "plot_bgcolor": "#E5ECF6",
          "polar": {
           "angularaxis": {
            "gridcolor": "white",
            "linecolor": "white",
            "ticks": ""
           },
           "bgcolor": "#E5ECF6",
           "radialaxis": {
            "gridcolor": "white",
            "linecolor": "white",
            "ticks": ""
           }
          },
          "scene": {
           "xaxis": {
            "backgroundcolor": "#E5ECF6",
            "gridcolor": "white",
            "gridwidth": 2,
            "linecolor": "white",
            "showbackground": true,
            "ticks": "",
            "zerolinecolor": "white"
           },
           "yaxis": {
            "backgroundcolor": "#E5ECF6",
            "gridcolor": "white",
            "gridwidth": 2,
            "linecolor": "white",
            "showbackground": true,
            "ticks": "",
            "zerolinecolor": "white"
           },
           "zaxis": {
            "backgroundcolor": "#E5ECF6",
            "gridcolor": "white",
            "gridwidth": 2,
            "linecolor": "white",
            "showbackground": true,
            "ticks": "",
            "zerolinecolor": "white"
           }
          },
          "shapedefaults": {
           "line": {
            "color": "#2a3f5f"
           }
          },
          "ternary": {
           "aaxis": {
            "gridcolor": "white",
            "linecolor": "white",
            "ticks": ""
           },
           "baxis": {
            "gridcolor": "white",
            "linecolor": "white",
            "ticks": ""
           },
           "bgcolor": "#E5ECF6",
           "caxis": {
            "gridcolor": "white",
            "linecolor": "white",
            "ticks": ""
           }
          },
          "title": {
           "x": 0.05
          },
          "xaxis": {
           "automargin": true,
           "gridcolor": "white",
           "linecolor": "white",
           "ticks": "",
           "zerolinecolor": "white",
           "zerolinewidth": 2
          },
          "yaxis": {
           "automargin": true,
           "gridcolor": "white",
           "linecolor": "white",
           "ticks": "",
           "zerolinecolor": "white",
           "zerolinewidth": 2
          }
         }
        },
        "width": 800
       }
      },
      "image/png": "[encoded data removed]",
      "text/html": [
       "<div>\n",
       "        \n",
       "        \n",
       "            <div id=\"3ff1b5ff-51d0-4f4d-89ad-1b2fad22bad4\" class=\"plotly-graph-div\" style=\"height:600px; width:800px;\"></div>\n",
       "            <script type=\"text/javascript\">\n",
       "                require([\"plotly\"], function(Plotly) {\n",
       "                    window.PLOTLYENV=window.PLOTLYENV || {};\n",
       "                    \n",
       "                if (document.getElementById(\"3ff1b5ff-51d0-4f4d-89ad-1b2fad22bad4\")) {\n",
       "                    Plotly.newPlot(\n",
       "                        '3ff1b5ff-51d0-4f4d-89ad-1b2fad22bad4',\n",
       "                        [{\"customdata\": [[\"X13\"], [\"Scrypt\"], [\"Scrypt\"], [\"Scrypt\"], [\"Scrypt\"], [\"SHA-256\"], [\"Scrypt\"], [\"X11\"], [\"Scrypt\"], [\"Scrypt\"], [\"Scrypt\"], [\"Scrypt\"], [\"Scrypt\"], [\"X11\"], [\"X11\"], [\"Scrypt\"], [\"Scrypt\"], [\"SHA-256\"], [\"SHA-256\"], [\"Shabal256\"], [\"Scrypt\"], [\"SHA-256\"], [\"Scrypt\"], [\"Scrypt\"], [\"Scrypt\"], [\"Scrypt\"], [\"Scrypt\"], [\"SHA-256\"], [\"Scrypt\"], [\"X13\"], [\"Multiple\"], [\"X11\"], [\"X11\"], [\"Multiple\"], [\"X11\"], [\"Scrypt\"], [\"Scrypt\"], [\"Lyra2RE\"], [\"QuBit\"], [\"X11\"], [\"SHA-256\"], [\"BLAKE256\"], [\"Multiple\"], [\"Scrypt\"], [\"SHA-256\"], [\"SHA-256\"], [\"Groestl\"], [\"Scrypt\"], [\"QUAIT\"], [\"SHA-256\"], [\"Scrypt\"], [\"Scrypt\"], [\"SHA-256\"], [\"Scrypt\"], [\"SHA-256\"], [\"Scrypt\"], [\"Scrypt\"], [\"Scrypt\"], [\"Ethash\"], [\"Ethash\"], [\"Ethash\"], [\"Groestl\"], [\"Stanford Folding\"], [\"Scrypt\"], [\"Scrypt\"], [\"Scrypt\"], [\"Scrypt\"], [\"Scrypt\"], [\"NeoScrypt\"], [\"NeoScrypt\"], [\"Scrypt\"], [\"Scrypt\"], [\"Scrypt\"], [\"Scrypt\"], [\"Scrypt\"], [\"Scrypt\"], [\"Scrypt\"], [\"Groestl\"], [\"Scrypt\"], [\"1GB AES Pattern Search\"], [\"Scrypt\"], [\"SHA-256\"], [\"Scrypt\"], [\"Scrypt\"], [\"X11\"], [\"X11\"], [\"SHA-256\"], [\"Multiple\"], [\"Scrypt\"], [\"Scrypt\"], [\"X15\"], [\"X13\"], [\"Scrypt\"], [\"Scrypt\"], [\"Scrypt\"], [\"Scrypt\"], [\"X11\"], [\"SHA3\"], [\"Scrypt\"], [\"HybridScryptHash256\"], [\"Scrypt\"], [\"Scrypt\"], [\"Scrypt\"], [\"X11\"], [\"Scrypt\"], [\"Scrypt\"], [\"Scrypt\"], [\"SHA-256\"], [\"Scrypt\"], [\"X13\"], [\"SHA-256\"], [\"Scrypt\"], [\"SHA-256\"], [\"Scrypt\"], [\"SHA-256\"], [\"SHA3\"], [\"Scrypt\"], [\"Scrypt\"], [\"SHA-256\"], [\"Scrypt\"], [\"Scrypt\"], [\"NeoScrypt\"], [\"Scrypt\"], [\"Scrypt\"], [\"X11\"], [\"X11\"], [\"X11\"], [\"Scrypt\"], [\"Scrypt\"], [\"Scrypt\"], [\"Scrypt\"], [\"Scrypt\"], [\"Scrypt\"], [\"Scrypt\"], [\"Scrypt\"], [\"SHA-256\"], [\"Groestl\"], [\"Scrypt\"], [\"Scrypt\"], [\"Scrypt\"], [\"Scrypt\"], [\"Scrypt\"], [\"Scrypt\"], [\"Scrypt\"], [\"X11GOST\"], [\"Scrypt\"], [\"Scrypt\"], [\"Scrypt\"], [\"Scrypt\"], [\"SHA-256\"], [\"X13\"], [\"SHA-256\"], [\"Scrypt\"], [\"X11\"], [\"SHA-256\"], [\"Multiple\"], [\"SHA-256\"], [\"X11\"], [\"SHA-256\"], [\"X13\"], [\"X11\"], [\"NeoScrypt\"], [\"Multiple\"], [\"SHA-256\"], [\"SHA-256\"], [\"X11\"], [\"Scrypt\"], [\"Scrypt\"], [\"Scrypt\"], [\"Scrypt\"], [\"Lyra2REv2\"], [\"Scrypt\"], [\"Scrypt\"], [\"Scrypt\"], [\"X11\"], [\"M7 POW\"], [\"Multiple\"], [\"CryptoNight\"], [\"SHA-256\"], [\"CryptoNight-V7\"], [\"Multiple\"], [\"SHA-256\"], [\"X13\"], [\"Multiple\"], [\"Scrypt\"], [\"Scrypt\"], [\"Scrypt\"], [\"SHA-256\"], [\"Scrypt\"], [\"Scrypt\"], [\"SHA-256\"]], \"hoverlabel\": {\"namelength\": 0}, \"hovertemplate\": \"<b>%{hovertext}</b><br><br>class=%{marker.color}<br>TotalCoinsMined=%{x}<br>TotalCoinSupply=%{y}<br>Algorithm=%{customdata[0]}\", \"hovertext\": [\"EliteCoin\", \"1Credit\", \"42 Coin\", \"8BIT Coin\", \"ArtByte\", \"Anarchists Prime\", \"AudioCoin\", \"Adzcoin\", \"Argentum\", \"Aurora Coin\", \"BitstarCoin\", \"BillaryCoin\", \"BlueCoin\", \"BolivarCoin\", \"BowsCoin\", \"Bata\", \"BitBar\", \"Bitcoin\", \"BitcoinDark\", \"BurstCoin\", \"BeaverCoin\", \"BitTokens\", \"Catcoin\", \"CryptoBullion\", \"CannaCoin\", \"Canada eCoin\", \"Crypto Escudo\", \"Clockcoin\", \" ClubCoin\", \"Paycon\", \"Circuits of Value\", \"CapriCoin\", \"Creditbit \", \"Crown Coin\", \"CryptCoin\", \"CasinoCoin\", \"CarterCoin\", \"Crypto\", \"CypherPunkCoin\", \"Dash\", \"DubaiCoin\", \"Decred\", \"DigiByte\", \"Digitalcoin \", \"CarpeDiemCoin\", \"DollarCoin\", \"Diamond\", \"DopeCoin\", \"Droidz\", \"DevCoin\", \"EarthCoin\", \"EB3coin\", \"EDRCoin\", \"E-Gulden\", \"Emercoin\", \"Einsteinium\", \"Emerald\", \"EnergyCoin\", \"Ethereum Classic\", \"Ethereum\", \"Expanse\", \"FairCoin\", \"Folding Coin\", \"Flo\", \"FlutterCoin\", \"Franko\", \"Francs\", \"Frankywillcoin\", \"FriendshipCoin\", \"FeatherCoin\", \"Gamecredits\", \"Gapcoin\", \"GrandCoin\", \"Genstake\", \"GlobalCoin\", \"GoldCoin\", \"GreenCoin\", \"Groestlcoin\", \"HoboNickels\", \"HOdlcoin\", \"HyperCoin\", \"I0coin\", \"iBankCoin\", \"Infinite Coin\", \"IOCoin\", \"IslaCoin\", \"IXcoin\", \"JoinCoin\", \"KrugerCoin\", \"KiloCoin\", \"KoboCoin\", \"Kore\", \"LiteDoge\", \"LuckyCoin\", \"Litebar \", \"Litecoin\", \"MarsCoin \", \"MaxCoin\", \"MegaCoin\", \"MediterraneanCoin\", \"XiaoMiCoin\", \"MinCoin\", \"MintCoin\", \"MindCoin\", \"MonaCoin\", \"MoonCoin\", \"MasterCoin\", \"MazaCoin\", \"Nautilus Coin\", \"NavCoin\", \"IncaKoin\", \"Gulden\", \"Namecoin\", \"NobleCoin\", \"Neutron\", \"Nexus\", \"NyanCoin\", \"OrangeCoin\", \"OKCash\", \"OmniCron\", \"Omni\", \"Orbitcoin\", \"OsmiumCoin\", \"Pakcoin\", \"Piggy Coin\", \"PinkCoin\", \"PizzaCoin\", \"PotCoin\", \"ProsperCoin\", \"PesoBit\", \"PesetaCoin\", \"PutinCoin\", \"PhoenixCoin\", \"Quatloo\", \"Reddcoin\", \"Revenu\", \"Riecoin\", \"RootCoin\", \"RonPaulCoin\", \"Revolution VR\", \"SafeExchangeCoin\", \"StableCoin\", \"Swiscoin\", \"Shilling\", \"SibCoin\", \"SolarCoin\", \"SmartCoin\", \"SmileyCoin\", \"Song Coin\", \"SoonCoin\", \"Sativa Coin\", \"SwingCoin\", \"SexCoin\", \"SyncCoin\", \"SysCoin\", \"TeslaCoin\", \"TigerCoin\", \"TorCoin\", \"TerraCoin\", \"Triangles Coin\", \"TruckCoin\", \"UFO Coin\", \"Unitus\", \"UnbreakableCoin\", \"Unobtanium\", \"UroCoin\", \"UnitaryStatus Dollar\", \"UltraCoin\", \"ViaCoin\", \"VeriCoin\", \"Vertcoin\", \"Vtorrent\", \"Wild Beast Coin\", \"WorldCoin\", \"X11 Coin\", \"Cryptonite\", \"Crypti\", \"DigitalNote \", \"JouleCoin\", \"Monero\", \"MyriadCoin\", \"PayCoin\", \"StealthCoin\", \"Verge\", \"WhiteCoin\", \"YoCoin\", \"ZCC Coin\", \"ZetaCoin\", \"ZoneCoin\", \"BitZeny\", \"ZayedCoin\"], \"legendgroup\": \"class=2\", \"marker\": {\"color\": [2, 2, 2, 2, 2, 2, 2, 2, 2, 2, 2, 2, 2, 2, 2, 2, 2, 2, 2, 2, 2, 2, 2, 2, 2, 2, 2, 2, 2, 2, 2, 2, 2, 2, 2, 2, 2, 2, 2, 2, 2, 2, 2, 2, 2, 2, 2, 2, 2, 2, 2, 2, 2, 2, 2, 2, 2, 2, 2, 2, 2, 2, 2, 2, 2, 2, 2, 2, 2, 2, 2, 2, 2, 2, 2, 2, 2, 2, 2, 2, 2, 2, 2, 2, 2, 2, 2, 2, 2, 2, 2, 2, 2, 2, 2, 2, 2, 2, 2, 2, 2, 2, 2, 2, 2, 2, 2, 2, 2, 2, 2, 2, 2, 2, 2, 2, 2, 2, 2, 2, 2, 2, 2, 2, 2, 2, 2, 2, 2, 2, 2, 2, 2, 2, 2, 2, 2, 2, 2, 2, 2, 2, 2, 2, 2, 2, 2, 2, 2, 2, 2, 2, 2, 2, 2, 2, 2, 2, 2, 2, 2, 2, 2, 2, 2, 2, 2, 2, 2, 2, 2, 2, 2, 2, 2, 2, 2, 2, 2, 2, 2, 2, 2, 2, 2, 2, 2, 2, 2, 2, 2], \"coloraxis\": \"coloraxis\", \"symbol\": \"circle\"}, \"mode\": \"markers\", \"name\": \"class=2\", \"scene\": \"scene\", \"showlegend\": true, \"type\": \"scatter3d\", \"x\": [29311962603.1067, 88213.0, 41.99995317, 1467841.0, 792537250.0, 14747200.0002, 980732528.97974, 45110324.0, 12507760.4449549, 18229949.992959, 20721939.0, 8998743.2411911, 636832125.0, 13775082.4987999, 15863837.5, 5052555.91981545, 43194.788439, 18022912.0, 1288862.0, 1813033920.0, 3115258.0, 595429.0, 7219956.64626131, 1042176.20756262, 4704067.30132807, 99851361.9481531, 780953140.0, 16662820.0, 103621876.167052, 23042604.0, 1000000000.0, 201370932.196955, 16901016.6609755, 23358555.3354247, 4999232.87665274, 39999996695.3568, 43165500.0, 13742738.0, 6365285.0, 9129883.13525442, 5129014.0, 10608727.0061748, 12438800503.4036, 33909563.3440364, 21739971929.0, 9106714.0, 3339823.31458361, 116845228.0, 8568156.53017901, 19719950000.0, 12573066884.6039, 64096052.0, 3669691.84494672, 20920955.5640624, 43059794.804778, 218979124.499999, 19519802.31025, 123263748.84777, 114713043.0, 108372626.1865, 10495278.0, 53193831.0, 719416990.0, 152834744.776064, 461829905.32893, 1142732.14912776, 6570807.65677618, 100000000.0, 1120385.00502, 211802733.00773, 69836100.0, 15171134.3903661, 884125802.0, 60000000.0, 65672720.4708748, 41658647.9999715, 4610340640.89, 73686723.8873662, 91914778.8731671, 11448949.0, 9631199.99309942, 20997897.7962996, 4526324.0, 90595753018.6314, 17763146.9743456, 1513704.0, 21097290.999, 3344407.5, 151447649.8, 196297971.0, 25559536.8326583, 2022464.886973, 16422580992.334, 19326319.14375, 1127131.34043436, 63039243.3000049, 32221574.820996, 61445805.0, 38257287.4930997, 40431856.9, 404316475.545465, 5948556.8879491, 21293925445.4969, 15867695.0, 68194674.8711679, 88.0, 619478.0, 1631287599.99999, 16180000.0, 66516448.9077109, 17939725045.334, 415032420.0, 14736400.0, 2366962947.99252, 39121694.0, 63657220.0, 335419756.389388, 3537150.0, 74786323.3696182, 10140044.4430293, 616448.0, 3220616.279225, 894026.0, 70051425.1787001, 494515590.027427, 437845591.156087, 1377917.0, 222901229.386709, 5936955.0, 33522957.0, 137517654.41397, 879277485.475535, 73959274.625, 7357794.7925, 29359828433.6031, 1195525.0, 50376791.8079427, 1939889.0, 1121766.42169891, 210000000.0, 2147483647.0, 24215181.725, 665200057.0, 11119200.0, 17263355.0, 55693185.7630157, 25699019.6624639, 29786149322.9213, 32565300.0, 12462620.0, 7096834.0, 4378980.0445398, 128940951.183046, 1177.0, 567560505.799954, 80675827.6773069, 43536800.0, 1431851.00002479, 22935396.0, 143057.140202, 242574105.22384, 3837012512.0, 65113302.0, 2278150.0, 201103.95151896, 1207310.0, 1098952592.6, 50235211.141939, 23156156.25, 32114400.1618324, 51912048.8166346, 11604722.0, 181919.2435974, 119606941.0, 7016533.90887722, 708506520.0, 100000000.0, 6906587610.38292, 39491287.362088, 17285703.1224238, 1701877000.0, 11995334.8847328, 33678238.4435502, 16024583239.1206, 252108379.19257, 636462.55983338, 151822782.128331, 170408059.754849, 2581970.0, 75614500.0, 6243840.0], \"y\": [\"314159265359\", \"92000000000\", \"42\", \"0\", \"1000000000\", \"53760000\", \"10500000000\", \"84000000\", \"64000000\", \"16768584\", \"54256119\", \"42000000\", \"0\", \"25000000\", \"21000000\", \"5000000\", \"500000\", \"21000000\", \"22000000\", \"2158812800\", \"3360000\", \"21000000\", \"21000000 \", \"1000000\", \"13140000\", \"100000000 \", \"1000000000\", \"525000000\", \"160000000\", \"50000000\", \"1200000000\", \"208000000\", \"16504333\", \"42000000\", \"18000000\", \"40000000000\", \"90000000\", \"65789100\", \"0\", \"22000000\", \"10500000\", \"21000000\", \"21000000000\", \"48166000\", \"21626280000 \", \"10638298\", \"4380000\", \"200000000\", \"5060000\", \"21000000000\", \"13500000000\", \"4000000000\", \"22000000\", \"21000000 \", \"1000000000\", \"299792458\", \"32000000\", \"0\", \"210000000\", \"0\", \"16906397\", \"0\", \"1000000000\", \"160000000\", \"0\", \"11235813\", \"20000000\", \"100000000\", \"60168145\", \"336000000\", \"84000000\", \"250000000\", \"1420609614\", \"15000000\", \"70000000\", \"72245700\", \"10000000000\", \"105000000\", \"120000000\", \"81962100\", \"0\", \"21000000\", \"44333333\", \"90600000000\", \"22000000\", \"0\", \"21000000\", \"2800000\", \"265420800\", \"10000000000\", \"350000000\", \"12000000\", \"35000000000\", \"20000000\", \"1350000\", \"84000000\", \"33000000\", \"100000000\", \"42000000\", \"200000000\", \"400000000\", \"10000000\", \"0\", \"16000000\", \"105120000\", \"384000000000\", \"619478\", \"2419200000\", \"16180000\", \"0\", \"190000000\", \"1680000000\", \"21000000\", \"15000000000\", \"68000000\", \"78000000\", \"337000000\", \"200000000\", \"105000000\", \"3371337\", \"616448\", \"3770000\", \"2714286\", \"182000000\", \"1000000000\", \"500000000\", \"25000000\", \"420000000\", \"21000000\", \"0\", \"166386000\", \"2000000000\", \"98000000\", \"100000000\", \"0\", \"222725000\", \"84000000\", \"0\", \"21000000\", \"210000000\", \"2147483647\", \"250000000\", \"3100000000\", \"30000000\", \"24000000\", \"98100000000\", \"51200000\", \"50000000000\", \"210240000\", \"21000000\", \"10000000\", \"40000000\", \"250000000\", \"1000\", \"888000000\", \"100000000\", \"47011968\", \"10000000\", \"42000000\", \"120000\", \"0\", \"4000000000\", \"0\", \"80000000\", \"250000\", \"0\", \"1600000000\", \"100000000\", \"23000000\", \"0\", \"84000000\", \"20000000\", \"2628000\", \"265420800\", \"5500000\", \"1840000000\", \"0\", \"10000000000\", \"45000000\", \"0\", \"2000000000\", \"12500000\", \"0\", \"16555000000\", \"300000000\", \"168351300\", \"1000000000\", \"169795588\", \"21000000\", \"250000000\", \"9736000\"], \"z\": [\"X13\", \"Scrypt\", \"Scrypt\", \"Scrypt\", \"Scrypt\", \"SHA-256\", \"Scrypt\", \"X11\", \"Scrypt\", \"Scrypt\", \"Scrypt\", \"Scrypt\", \"Scrypt\", \"X11\", \"X11\", \"Scrypt\", \"Scrypt\", \"SHA-256\", \"SHA-256\", \"Shabal256\", \"Scrypt\", \"SHA-256\", \"Scrypt\", \"Scrypt\", \"Scrypt\", \"Scrypt\", \"Scrypt\", \"SHA-256\", \"Scrypt\", \"X13\", \"Multiple\", \"X11\", \"X11\", \"Multiple\", \"X11\", \"Scrypt\", \"Scrypt\", \"Lyra2RE\", \"QuBit\", \"X11\", \"SHA-256\", \"BLAKE256\", \"Multiple\", \"Scrypt\", \"SHA-256\", \"SHA-256\", \"Groestl\", \"Scrypt\", \"QUAIT\", \"SHA-256\", \"Scrypt\", \"Scrypt\", \"SHA-256\", \"Scrypt\", \"SHA-256\", \"Scrypt\", \"Scrypt\", \"Scrypt\", \"Ethash\", \"Ethash\", \"Ethash\", \"Groestl\", \"Stanford Folding\", \"Scrypt\", \"Scrypt\", \"Scrypt\", \"Scrypt\", \"Scrypt\", \"NeoScrypt\", \"NeoScrypt\", \"Scrypt\", \"Scrypt\", \"Scrypt\", \"Scrypt\", \"Scrypt\", \"Scrypt\", \"Scrypt\", \"Groestl\", \"Scrypt\", \"1GB AES Pattern Search\", \"Scrypt\", \"SHA-256\", \"Scrypt\", \"Scrypt\", \"X11\", \"X11\", \"SHA-256\", \"Multiple\", \"Scrypt\", \"Scrypt\", \"X15\", \"X13\", \"Scrypt\", \"Scrypt\", \"Scrypt\", \"Scrypt\", \"X11\", \"SHA3\", \"Scrypt\", \"HybridScryptHash256\", \"Scrypt\", \"Scrypt\", \"Scrypt\", \"X11\", \"Scrypt\", \"Scrypt\", \"Scrypt\", \"SHA-256\", \"Scrypt\", \"X13\", \"SHA-256\", \"Scrypt\", \"SHA-256\", \"Scrypt\", \"SHA-256\", \"SHA3\", \"Scrypt\", \"Scrypt\", \"SHA-256\", \"Scrypt\", \"Scrypt\", \"NeoScrypt\", \"Scrypt\", \"Scrypt\", \"X11\", \"X11\", \"X11\", \"Scrypt\", \"Scrypt\", \"Scrypt\", \"Scrypt\", \"Scrypt\", \"Scrypt\", \"Scrypt\", \"Scrypt\", \"SHA-256\", \"Groestl\", \"Scrypt\", \"Scrypt\", \"Scrypt\", \"Scrypt\", \"Scrypt\", \"Scrypt\", \"Scrypt\", \"X11GOST\", \"Scrypt\", \"Scrypt\", \"Scrypt\", \"Scrypt\", \"SHA-256\", \"X13\", \"SHA-256\", \"Scrypt\", \"X11\", \"SHA-256\", \"Multiple\", \"SHA-256\", \"X11\", \"SHA-256\", \"X13\", \"X11\", \"NeoScrypt\", \"Multiple\", \"SHA-256\", \"SHA-256\", \"X11\", \"Scrypt\", \"Scrypt\", \"Scrypt\", \"Scrypt\", \"Lyra2REv2\", \"Scrypt\", \"Scrypt\", \"Scrypt\", \"X11\", \"M7 POW\", \"Multiple\", \"CryptoNight\", \"SHA-256\", \"CryptoNight-V7\", \"Multiple\", \"SHA-256\", \"X13\", \"Multiple\", \"Scrypt\", \"Scrypt\", \"Scrypt\", \"SHA-256\", \"Scrypt\", \"Scrypt\", \"SHA-256\"]}, {\"customdata\": [[\"ECC 256K1\"], [\"Lyra2REv2\"], [\"Ouroboros\"], [\"X11\"], [\"Quark\"], [\"X11\"], [\"Proof-of-BibleHash\"], [\"CryptoNight\"], [\"Equihash\"], [\"XEVAN\"], [\"Green Protocol\"], [\"XEVAN\"], [\"SHA-256\"], [\"Cryptonight Haven\"], [\"NIST5\"], [\"Quark\"], [\"Equihash\"], [\"XEVAN\"], [\"NIST5\"], [\"SHA-256\"], [\"Quark\"], [\"Scrypt\"], [\"Quark\"], [\"PoS\"], [\"X15\"], [\"Quark\"], [\"XEVAN\"], [\"X11\"], [\"Exosis\"], [\"Quark\"], [\"Quark\"], [\"Quark\"], [\"Scrypt\"], [\"X11\"], [\"SHA-512\"], [\"POS 2.0\"], [\"PoS\"], [\"Quark\"], [\"Blake\"], [\"Ethash\"], [\"Scrypt\"], [\"Scrypt\"], [\"X11\"], [\"DPoS\"], [\"Scrypt\"], [\"PoS\"], [\"SHA-512\"], [\"VBFT\"], [\"Scrypt\"], [\"X11\"], [\"Equihash\"], [\"X11\"], [\"CryptoNight\"], [\"Scrypt\"], [\"Quark\"], [\"X16R\"], [\"Lyra2REv2\"], [\"SkunkHash v2 Raptor\"], [\"QuBit\"], [\"C11\"], [\"Quark\"], [\"SHA-256\"], [\"X13\"], [\"POS 3.0\"], [\"X16R\"], [\"SHA-256D\"], [\"Blake\"], [\"XEVAN\"], [\"SHA-256D\"], [\"Quark\"], [\"Equihash+Scrypt\"], [\"Quark\"], [\"XEVAN\"], [\"X16R\"], [\"Keccak\"], [\"X16R\"], [\"X13\"], [\"Scrypt\"]], \"hoverlabel\": {\"namelength\": 0}, \"hovertemplate\": \"<b>%{hovertext}</b><br><br>class=%{marker.color}<br>TotalCoinsMined=%{x}<br>TotalCoinSupply=%{y}<br>Algorithm=%{customdata[0]}\", \"hovertext\": [\"Acute Angle Cloud\", \"Absolute Coin\", \"Cardano\", \"ARENON\", \"Allsafe\", \"Award\", \"BiblePay\", \"Beldex\", \"Beam\", \"Beetle Coin\", \"Bitcoin Green\", \"BitMoney\", \"BLAST\", \"BLOC.MONEY\", \"Bitspace\", \"Bitcloud 2.0\", \"Bithereum\", \"Bettex coin\", \"Bulwark\", \"BitcoinWSpectrum\", \"Carebit\", \"Credit\", \"Crypto Sports\", \"Deviant Coin\", \"Dekado\", \"Dystem\", \"Ellerium\", \"EUNO\", \"Exosis\", \"Galilel\", \"Giant\", \"HerbCoin\", \"HollyWoodCoin\", \"Junson Ming Chan Coin\", \"Kcash\", \"KekCoin\", \"Ketan\", \"Kalkulus\", \"Lithium\", \"1717 Masonic Commemorative Token\", \"MedicCoin\", \"MMOCoin\", \"Monkey Project\", \"Muse\", \"Nasdacoin\", \"Zealium\", \"Obsidian\", \"Ontology\", \"Oduwa\", \"PAXEX\", \"PirateCash\", \"Platinum\", \"PlatinCoin\", \"Peony Coin\", \"Poseidon Quark\", \"Proton\", \"Rupee\", \"Signatum\", \"SLICE\", \"Stipend\", \"STREAMIT COIN\", \"TigerCash\", \"Tokyo Coin\", \"TokenPay\", \"Trivechain\", \"Titan Coin\", \"Universal Molecule\", \"Urals Coin\", \"TheVig\", \"Vitae\", \"Vollar\", \"Digiwage\", \"Bitcoin Incognito\", \"Xchange\", \"XDNA\", \"Motion\", \"Bitcoin Rhodium\", \"Xt3ch\"], \"legendgroup\": \"class=1\", \"marker\": {\"color\": [1, 1, 1, 1, 1, 1, 1, 1, 1, 1, 1, 1, 1, 1, 1, 1, 1, 1, 1, 1, 1, 1, 1, 1, 1, 1, 1, 1, 1, 1, 1, 1, 1, 1, 1, 1, 1, 1, 1, 1, 1, 1, 1, 1, 1, 1, 1, 1, 1, 1, 1, 1, 1, 1, 1, 1, 1, 1, 1, 1, 1, 1, 1, 1, 1, 1, 1, 1, 1, 1, 1, 1, 1, 1, 1, 1, 1, 1], \"coloraxis\": \"coloraxis\", \"symbol\": \"diamond\"}, \"mode\": \"markers\", \"name\": \"class=1\", \"scene\": \"scene\", \"showlegend\": true, \"type\": \"scatter3d\", \"x\": [1000000000.0, 13619027.9413708, 25927070538.0, 19383151.88, 10622100.805741, 18537933.9975927, 1819540172.4456, 980222595.0, 42454400.0, 204476832.081566, 9839108.78977277, 208515864.367343, 53847931.3511766, 12206876.5249, 13892642.6257406, 31135187.6551047, 25332487.5, 6902423.66368873, 13247178.8807286, 57811001.000889, 143378239.867504, 30825710000.0296, 2160098.31757952, 23010372.1044228, 30284196.369129, 7666735.39637108, 419275.38, 32368068.1344158, 406091.925, 18798487.4500198, 6276100.21695281, 35312185.7437239, 38706809.466535, 18128209998.119, 1000000000.0, 12402325.73917, 9327131.59708692, 17387381.4504829, 15882757.4369747, 1618033.0, 267297676.3125, 108382478.720235, 4407252.0, 18194936.0, 20800862.8852705, 11714359.9774814, 25000000.0, 676848625.0, 14782039.2251352, 4504639.0, 15028020.0, 837445.02567495, 84300.0, 1362283.81185823, 2716264.95302831, 4403800.0, 24000000.0, 107972766.0, 13074751.9743701, 11354366.2931018, 10075694.8294983, 1000000000.0, 230298925.0, 20590531.02168, 36923120.6205934, 898493901.699238, 1622594.64951127, 14921928.4775854, 33238183.7225834, 67003287.0587465, 100000000.0, 27299680.0, 11638259.0884482, 9753753.61515394, 4831806.82471753, 8586665.07980556, 1185582.5, 7630000.0154], \"y\": [\"1000000000\", \"52500000\", \"45000000000\", \"55000000\", \"15000000\", \"420000000\", \"5200000000\", \"1400222610\", \"262800000\", \"500000000\", \"21000000\", \"70000000000\", \"64000000\", \"50000000\", \"50000000\", \"200000000\", \"30886000\", \"50000000\", \"27716121\", \"100262205\", \"200000000\", \"74800000000\", \"13370000\", \"88000000\", \"90000000\", \"21000000\", \"60000000\", \"50000000\", \"21000000\", \"0\", \"5151000\", \"54000000\", \"26000000\", \"0\", \"1000000000\", \"21000000\", \"210000000\", \"20000000\", \"25228800\", \"1618033\", \"500000000\", \"260000000\", \"21000000\", \"18081806 \", \"84000000\", \"80000000\", \"91388946\", \"1000000000\", \"21000000\", \"100000000\", \"105000000\", \"19700000\", \"600000518\", \"16880000000\", \"650000000 \", \"45000000\", \"24000000\", \"137500000\", \"100000000\", \"19340594\", \"840000000\", \"1000000000\", \"800000000\", \"25000000\", \"82546564\", \"5000000000\", \"105120001.44\", \"210000000\", \"100000000\", \"100000000\", \"2100000000\", \"120000000\", \"21000000\", \"100000000\", \"366000000\", \"22075700\", \"2100000\", \"44000000\"], \"z\": [\"ECC 256K1\", \"Lyra2REv2\", \"Ouroboros\", \"X11\", \"Quark\", \"X11\", \"Proof-of-BibleHash\", \"CryptoNight\", \"Equihash\", \"XEVAN\", \"Green Protocol\", \"XEVAN\", \"SHA-256\", \"Cryptonight Haven\", \"NIST5\", \"Quark\", \"Equihash\", \"XEVAN\", \"NIST5\", \"SHA-256\", \"Quark\", \"Scrypt\", \"Quark\", \"PoS\", \"X15\", \"Quark\", \"XEVAN\", \"X11\", \"Exosis\", \"Quark\", \"Quark\", \"Quark\", \"Scrypt\", \"X11\", \"SHA-512\", \"POS 2.0\", \"PoS\", \"Quark\", \"Blake\", \"Ethash\", \"Scrypt\", \"Scrypt\", \"X11\", \"DPoS\", \"Scrypt\", \"PoS\", \"SHA-512\", \"VBFT\", \"Scrypt\", \"X11\", \"Equihash\", \"X11\", \"CryptoNight\", \"Scrypt\", \"Quark\", \"X16R\", \"Lyra2REv2\", \"SkunkHash v2 Raptor\", \"QuBit\", \"C11\", \"Quark\", \"SHA-256\", \"X13\", \"POS 3.0\", \"X16R\", \"SHA-256D\", \"Blake\", \"XEVAN\", \"SHA-256D\", \"Quark\", \"Equihash+Scrypt\", \"Quark\", \"XEVAN\", \"X16R\", \"Keccak\", \"X16R\", \"X13\", \"Scrypt\"]}, {\"customdata\": [[\"Scrypt\"], [\"Scrypt\"], [\"Scrypt\"], [\"PoS\"], [\"Scrypt\"], [\"X13\"], [\"Scrypt\"], [\"Scrypt\"], [\"Scrypt\"], [\"X13\"], [\"X11\"], [\"Scrypt\"], [\"Skein\"], [\"SHA-512\"], [\"SHA-256D\"], [\"PoS\"], [\"Scrypt\"], [\"Scrypt\"], [\"Skein\"], [\"Scrypt\"], [\"Scrypt\"], [\"Scrypt\"], [\"Scrypt\"], [\"NIST5\"], [\"Scrypt\"], [\"NIST5\"], [\"X15\"], [\"Scrypt\"], [\"X13\"], [\"X11\"], [\"X11\"], [\"536\"], [\"Scrypt\"], [\"SHA-256\"], [\"PoS\"], [\"X13\"], [\"PoS\"], [\"Scrypt\"], [\"Scrypt\"], [\"X11\"], [\"Scrypt\"], [\"X14\"], [\"Scrypt\"], [\"Scrypt\"], [\"X11\"], [\"X11\"], [\"X11\"], [\"X15\"], [\"X11\"], [\"Scrypt\"], [\"Scrypt\"], [\"Scrypt\"], [\"X11\"], [\"X11\"], [\"X11\"], [\"X11\"], [\"SHA-256\"], [\"Scrypt\"], [\"X11\"], [\"SHA-256D\"], [\"X11\"], [\"Scrypt\"], [\"Scrypt\"], [\"POS 3.0\"], [\"Scrypt\"], [\"QuBit\"], [\"Scrypt\"], [\"PHI1612\"], [\"X11\"], [\"SHA-256\"], [\"PoS\"], [\"Scrypt\"], [\"X11\"], [\"X13\"], [\"NIST5\"], [\"PoS\"], [\"SHA-256\"], [\"Scrypt\"], [\"X13\"], [\"PoS\"], [\"PoS\"], [\"Scrypt\"], [\"Scrypt\"], [\"X11\"], [\"SHA-256\"], [\"Scrypt\"], [\"X11\"], [\"NIST5\"], [\"Quark\"], [\"POS 3.0\"], [\"PoS\"], [\"X11\"], [\"Scrypt\"], [\"Scrypt\"], [\"X11\"], [\"Scrypt\"], [\"X13\"], [\"Scrypt\"], [\"Counterparty\"], [\"X11\"], [\"PoS\"], [\"PoS\"], [\"X11\"], [\"Blake2S\"], [\"PoS\"], [\"Scrypt\"], [\"Scrypt\"], [\"Scrypt\"], [\"Scrypt\"], [\"NeoScrypt\"], [\"X11\"], [\"Scrypt\"], [\"SHA-256\"], [\"Scrypt\"], [\"NIST5\"], [\"Scrypt\"], [\"NIST5\"], [\"Scrypt\"], [\"Scrypt\"], [\"PoS\"], [\"Scrypt\"], [\"X11\"], [\"X11\"], [\"Scrypt\"], [\"SHA-256\"], [\"Scrypt\"], [\"X11\"], [\"X11\"], [\"PoS\"], [\"X11\"], [\"X11\"], [\"X11\"], [\"Scrypt\"], [\"Scrypt\"]], \"hoverlabel\": {\"namelength\": 0}, \"hovertemplate\": \"<b>%{hovertext}</b><br><br>class=%{marker.color}<br>TotalCoinsMined=%{x}<br>TotalCoinSupply=%{y}<br>Algorithm=%{customdata[0]}\", \"hovertext\": [\"Abjcoin\", \"AquariusCoin\", \"ArgusCoin\", \"Atmos\", \"BitConnect Coin\", \"Bitcoin Diamond\", \"BitcoinFast\", \"BlackholeCoin\", \"Briacoin\", \"BritCoin\", \"BitSend\", \"BitCurrency\", \"Bitcoin Planet\", \"Bitshares\", \"BuzzCoin\", \"CoffeeCoin\", \"OpenChat\", \"Cash & Back Coin\", \"Cream\", \"Degas Coin\", \"iDealCash\", \"Draftcoin\", \"Diggits\", \"Denarius\", \"eBoost\", \"Electra\", \"EverGreenCoin\", \"EmaratCoin\", \"EmberCoin\", \"Eternity\", \"EuropeCoin\", \"Espers\", \"Ethereum Dark\", \"Eurocoin\", \"Exclusive Coin\", \"FindCoin\", \"FreeCoin\", \"FirstCoin\", \"GAKHcoin\", \"GoldBlocks\", \"GermanCoin\", \"GanjaCoin V2\", \"GPU Coin\", \"GrowthCoin\", \"Halloween Coin\", \"HappyCoin\", \"Hitcoin\", \"HTML5 Coin\", \"HyperStake\", \"Ignition\", \"Impeach\", \"Independent Money System\", \"Impact\", \"Influxcoin\", \"InsaneCoin\", \"Insane Coin\", \"Internet of People\", \"Klingon Empire Darsek\", \"KushCoin\", \"LanaCoin\", \"Lutetium Coin\", \"Litecoin Plus\", \"Linda\", \"Let it Ride\", \"LomoCoin\", \"LiteCreed\", \"LiteCoin Ultra\", \"LUXCoin\", \"Magnet\", \"Theresa May Coin\", \"MacronCoin\", \"MoneyCoin\", \"MustangCoin\", \"MudraCoin\", \"NamoCoin\", \"Nebuchadnezzar\", \"NeosCoin\", \"Dnotes\", \"DeepOnion\", \"Particl\", \"Phreak\", \"PLNCoin\", \"PandaCoin\", \"PhantomX\", \"ProCurrency\", \"Printerium\", \"Pushi\", \"PWR Coin\", \"QuarkCoin\", \"QTUM\", \"Radium\", \"Condensate\", \"RubyCoin\", \"Russiacoin\", \"Regalcoin\", \"RenosCoin\", \"RoyalCoin\", \"Swisscoin\", \"StorjCoin\", \"Squall Coin\", \"Stakecoin\", \"Steem\", \"SuperCoin\", \"TajCoin\", \"TeamUP\", \"TerraNovaCoin\", \"TPCash\", \"Trollcoin\", \"ThunderStake\", \"TrezarCoin\", \"Ucoin\", \"GameUnits\", \"Ultimate Secure Cash\", \"Unified Society USDEX\", \"VIP Tokens\", \"Velox\", \"Virta Unique Coin\", \"WomenCoin\", \"BitcoinPlus\", \"Creatio\", \"CoinonatX\", \"XenixCoin\", \"GoldReserve\", \"HiCoin\", \"Infinity Economics\", \"Xios\", \"Monoeci\", \"Enigma\", \"Opair\", \"Ratecoin\", \"Stakenet\", \"VirtacoinPlus\", \"Zilbercoin\", \"ZeitCoin\"], \"legendgroup\": \"class=4\", \"marker\": {\"color\": [4, 4, 4, 4, 4, 4, 4, 4, 4, 4, 4, 4, 4, 4, 4, 4, 4, 4, 4, 4, 4, 4, 4, 4, 4, 4, 4, 4, 4, 4, 4, 4, 4, 4, 4, 4, 4, 4, 4, 4, 4, 4, 4, 4, 4, 4, 4, 4, 4, 4, 4, 4, 4, 4, 4, 4, 4, 4, 4, 4, 4, 4, 4, 4, 4, 4, 4, 4, 4, 4, 4, 4, 4, 4, 4, 4, 4, 4, 4, 4, 4, 4, 4, 4, 4, 4, 4, 4, 4, 4, 4, 4, 4, 4, 4, 4, 4, 4, 4, 4, 4, 4, 4, 4, 4, 4, 4, 4, 4, 4, 4, 4, 4, 4, 4, 4, 4, 4, 4, 4, 4, 4, 4, 4, 4, 4, 4, 4, 4, 4, 4, 4, 4, 4], \"coloraxis\": \"coloraxis\", \"symbol\": \"square\"}, \"mode\": \"markers\", \"name\": \"class=4\", \"scene\": \"scene\", \"showlegend\": true, \"type\": \"scatter3d\", \"x\": [9880502.37178894, 2517104.22975364, 1148324.0, 111193477.889, 11097529.498741, 183534024.889807, 20761925.693817, 16362544.992, 845637.81347436, 21268092.0, 24808799.5010828, 169598616.0, 6804362.0, 2747250000.0, 19577787259.0, 148716816.0, 1000000000.0, 110976977.29338, 47591923.255223, 21358764.0, 1441159658.1245, 18715920.9598914, 100000000.0, 4171382.0, 99990001.563198, 28399150208.0, 13530556.4180753, 21599339.6728, 92192822723.0, 6519929.99410212, 10447394.8080507, 22801882871.0, 4200000.0, 12416554.0, 5752243.0, 14524851.4827, 50000000.0, 110000000.0, 3315789.0, 15563873.0, 4911500269.41, 100000000.0, 40477042.0, 324937892.00591, 264678458.288619, 22685551.3731748, 10996318099.0, 40659020000.0, 1679489617.8343, 1225568.5, 308179.0, 5368934.0, 110630387.850471, 5435543.80653439, 18342813.0, 23882451.3207514, 2526078.47525448, 23965372.0, 5659096.95728771, 1122983369.19064, 657000000.0, 2563662.579256, 9044930943.24243, 38589808.6658096, 500000.0, 30227750.0, 8419402.321, 8670629.93585512, 38198594.8342105, 92050800.0, 401421401.0, 10914418.0, 658793.95483138, 5000000.0, 560563220.0, 20000000.0, 4392258.24647793, 176880322.549276, 21971464.4116385, 9150546.91782267, 11390225.9742772, 17089600.0, 33842036634.7123, 47027022.0193029, 100545745.0, 11821728.0, 2167827.1, 10088946643.8821, 260859916.63259, 100000000.0, 3865957.77561384, 121665451.643876, 27380246.3918338, 8377873.0, 7262402.04264803, 36050365.0, 2500124.0, 10200000000.0, 51173144.0, 329200.01639, 4000000.0, 99692126.0, 50844891.1850545, 12822733.7795357, 17818682.1654, 1140734.91680375, 5403802.49590733, 592176323.0, 1243163077.77622, 190490500.0, 2689812.0, 3472983.0, 10343113.0, 236022800.934163, 83450403.0, 25570013.1348022, 62942075.0, 48459472454.0, 130965.02402352, 20000000.0, 19539588.0, 3853326.77707314, 17171382.0, 10000244677.7002, 8999999990.0, 2149688.0, 12570113.9413764, 814671.0, 74033806.7949683, 134554941.15119, 75590369.0, 13331790.7288707, 2962168.79865205, 36971239617.1645], \"y\": [\"30000000\", \"42000000\", \"28600000\", \"110290030\", \"28000000\", \"210000000\", \"33000000\", \"14788275.991\", \"3000000\", \"30000000\", \"139000000\", \"0\", \"100000000\", \"3600570502\", \"20000000000\", \"39999898\", \"1000000000\", \"210000000\", \"100000000\", \"105000000\", \"5121951220\", \"17405891.19707116\", \"100000000\", \"10000000\", \"100000000\", \"30000000000\", \"26298000\", \"84000000\", \"850000000\", \"60000000\", \"384000000\", \"50000000000\", \"4200000\", \"20000000\", \"0\", \"14524851.4827\", \"50000000\", \"110000000\", \"3315789\", \"50000000\", \"50000000000\", \"100000000\", \"221052632\", \"2000000000\", \"1500000000\", \"100000000\", \"26550000000\", \"90000000000\", \"0\", \"5000000\", \"21933333\", \"21212121\", \"110000000\", \"12000000\", \"30000000\", \"30000000\", \"21000000\", \"500000000\", \"9354000\", \"7506000000\", \"657000000\", \"4000000\", \"50000000000\", \"33500000\", \"1000000000\", \"78835200\", \"150000000\", \"60000000\", \"144000000\", \"100000000\", \"400000000\", \"650659833\", \"3000000\", \"200000000\", \"1200000000\", \"20000000\", \"21000000\", \"500000000\", \"18898187.6216583\", \"8634140\", \"30000000\", \"38540000 \", \"32514916898\", \"50000000\", \"75000000000\", \"20000000\", \"25000000\", \"0\", \"247000000\", \"100000000\", \"9000000\", \"500000000\", \"0\", \"144000000\", \"27000000\", \"34426423\", \"2500124\", \"10200000000\", \"500000000\", \"0\", \"61599965\", \"99692126\", \"0\", \"36900000\", \"301000000\", \"15733333\", \"1000000000\", \"900000000\", \"18000000000\", \"400000000\", \"20000000\", \"13000000\", \"200084200\", \"232000000\", \"90000000\", \"124000000\", \"120000000\", \"25000000000\", \"1000000\", \"20000000\", \"48252000\", \"3853326.77707314\", \"40000000\", \"10008835635\", \"9000000000\", \"21000000\", \"9507271\", \"5000000\", \"74000000\", \"75000000\", \"76500000\", \"100000000\", \"55000000\", \" 99000000000\"], \"z\": [\"Scrypt\", \"Scrypt\", \"Scrypt\", \"PoS\", \"Scrypt\", \"X13\", \"Scrypt\", \"Scrypt\", \"Scrypt\", \"X13\", \"X11\", \"Scrypt\", \"Skein\", \"SHA-512\", \"SHA-256D\", \"PoS\", \"Scrypt\", \"Scrypt\", \"Skein\", \"Scrypt\", \"Scrypt\", \"Scrypt\", \"Scrypt\", \"NIST5\", \"Scrypt\", \"NIST5\", \"X15\", \"Scrypt\", \"X13\", \"X11\", \"X11\", \"536\", \"Scrypt\", \"SHA-256\", \"PoS\", \"X13\", \"PoS\", \"Scrypt\", \"Scrypt\", \"X11\", \"Scrypt\", \"X14\", \"Scrypt\", \"Scrypt\", \"X11\", \"X11\", \"X11\", \"X15\", \"X11\", \"Scrypt\", \"Scrypt\", \"Scrypt\", \"X11\", \"X11\", \"X11\", \"X11\", \"SHA-256\", \"Scrypt\", \"X11\", \"SHA-256D\", \"X11\", \"Scrypt\", \"Scrypt\", \"POS 3.0\", \"Scrypt\", \"QuBit\", \"Scrypt\", \"PHI1612\", \"X11\", \"SHA-256\", \"PoS\", \"Scrypt\", \"X11\", \"X13\", \"NIST5\", \"PoS\", \"SHA-256\", \"Scrypt\", \"X13\", \"PoS\", \"PoS\", \"Scrypt\", \"Scrypt\", \"X11\", \"SHA-256\", \"Scrypt\", \"X11\", \"NIST5\", \"Quark\", \"POS 3.0\", \"PoS\", \"X11\", \"Scrypt\", \"Scrypt\", \"X11\", \"Scrypt\", \"X13\", \"Scrypt\", \"Counterparty\", \"X11\", \"PoS\", \"PoS\", \"X11\", \"Blake2S\", \"PoS\", \"Scrypt\", \"Scrypt\", \"Scrypt\", \"Scrypt\", \"NeoScrypt\", \"X11\", \"Scrypt\", \"SHA-256\", \"Scrypt\", \"NIST5\", \"Scrypt\", \"NIST5\", \"Scrypt\", \"Scrypt\", \"PoS\", \"Scrypt\", \"X11\", \"X11\", \"Scrypt\", \"SHA-256\", \"Scrypt\", \"X11\", \"X11\", \"PoS\", \"X11\", \"X11\", \"X11\", \"Scrypt\", \"Scrypt\"]}, {\"customdata\": [[\"X11\"], [\"Scrypt\"], [\"Lyra2Z\"], [\"IMesh\"], [\"Lyra2Z\"], [\"X11\"], [\"X11\"], [\"X11\"], [\"X11\"], [\"SHA-256\"], [\"CryptoNight\"], [\"Scrypt\"], [\"CryptoNight\"], [\"Blake\"], [\"Scrypt\"], [\"SHA-256\"], [\"Equihash\"], [\"Equihash\"], [\"Equihash\"], [\"Time Travel\"], [\"Cloverhash\"], [\"X11\"], [\"Ethash\"], [\"CryptoNight\"], [\"Equihash\"], [\"CryptoNight-V7\"], [\"NIST5\"], [\"X11\"], [\"Ethash\"], [\"Dagger-Hashimoto\"], [\"CryptoNight\"], [\"X11\"], [\"Argon2d\"], [\"Ethash\"], [\"Ethash\"], [\"X11\"], [\"Scrypt\"], [\"Scrypt\"], [\"Scrypt\"], [\"CryptoNight\"], [\"X11\"], [\"NeoScrypt\"], [\"Scrypt\"], [\"Lyra2Z\"], [\"SHA-256\"], [\"NeoScrypt\"], [\"Scrypt\"], [\"Lyra2RE\"], [\"SHA-256\"], [\"NeoScrypt\"], [\"Scrypt\"], [\"C11\"], [\"NIST5\"], [\"Tribus\"], [\"Equihash\"], [\"CryptoNight\"], [\"Lyra2REv2\"], [\"Scrypt\"], [\"X11\"], [\"SHA-256 + Hive\"], [\"Scrypt\"], [\"CryptoNight Heavy\"], [\"Scrypt\"], [\"CryptoNight-V7\"], [\"Scrypt\"], [\"Jump Consistent Hash\"], [\"SkunkHash\"], [\"Blake2b\"], [\"CryptoNight\"], [\"CryptoNight\"], [\"Scrypt\"], [\"X11\"], [\"X11\"], [\"X11\"], [\"BLAKE256\"], [\"Dagger\"], [\"CryptoNight\"], [\"HMQ1725\"], [\"Proof-of-Authority\"], [\"Scrypt\"], [\"SHA-256\"], [\"Scrypt\"], [\"X11\"], [\"CryptoNight-V7\"], [\"Ethash\"], [\"Cryptonight-GPU\"], [\"Blake2b\"], [\"Keccak\"], [\"Scrypt\"], [\"Dagger\"], [\"Scrypt\"], [\"NeoScrypt\"], [\"Scrypt\"], [\"X11\"], [\"CryptoNight\"], [\"Dagger\"], [\"CryptoNight\"], [\"SHA-256\"], [\"Scrypt\"], [\"NeoScrypt\"], [\"X11\"], [\"CryptoNight-V7\"], [\"CryptoNight\"], [\"CryptoNight\"], [\"CryptoNight\"], [\"Multiple\"], [\"CryptoNight\"], [\"Lyra2Z\"], [\"Equihash\"], [\"Equihash\"], [\"Equihash\"], [\"Equihash\"], [\"Lyra2RE\"]], \"hoverlabel\": {\"namelength\": 0}, \"hovertemplate\": \"<b>%{hovertext}</b><br><br>class=%{marker.color}<br>TotalCoinsMined=%{x}<br>TotalCoinSupply=%{y}<br>Algorithm=%{customdata[0]}\", \"hovertext\": [\"AC3\", \"AdCoin\", \"Actinium\", \"Aidos Kuneen\", \"Alpenschillling\", \"ArcticCoin\", \"ArtexCoin\", \"Axe\", \"Azart\", \"Bitcoin Cash\", \"ByteCoin\", \"BenjiRolls\", \"Bikercoins\", \"BlakeCoin\", \"Block-Logic\", \"Bitcoin SV\", \"BitcoinZ\", \"Bitcoin Gold\", \"Bitrolium\", \"Bitcore\", \"ChanCoin\", \"Crypto Improvement Fund\", \"Callisto Network\", \"BitCoal\", \"CrypticCoin\", \"Citadel\", \"Coinonat\", \"DAS\", \"DaxxCoin\", \"DubaiCoin\", \"Dinastycoin\", \"DigitalPrice\", \"Dynamic\", \"Elementrem\", \"Ellaism\", \"Elements\", \"EquiTrader\", \"BitFlip\", \"FrazCoin\", \"FREDEnergy\", \"FuturoCoin\", \"GoByte\", \"gCn Coin\", \"GINcoin\", \"GlobalToken\", \"GunCoin\", \"HexCoin\", \"HexxCoin\", \"ILCoin\", \"Innova\", \"IrishCoin\", \"Interzone\", \"Jumpcoin\", \"KEYCO\", \"Komodo\", \"Karbo\", \"KREDS\", \"Kronecoin\", \"Kurrent\", \"LitecoinCash\", \"Linx\", \"Loki\", \"LottoCoin\", \"Lethean\", \"Lynx\", \"MassGrid\", \"MUNcoin\", \"Nano\", \"Niobio Cash\", \"Newton Coin\", \"NewYorkCoin\", \"Onix\", \"PacCoin\", \"Pioneer Coin\", \"Photon\", \"Pirl\", \"PluraCoin\", \"PlusOneCoin\", \"Poa Network\", \"PopularCoin\", \"Project Pai\", \"Poseidon\", \"Pura\", \"Quantum Resistant Ledger\", \"Reality Clash\", \"Ryo\", \"Siacoin\", \"SmartCash\", \"SocialCoin\", \"SoilCoin\", \"Sojourn Coin\", \"SparksPay\", \"ShareChain\", \"Sucre\", \"Sumokoin\", \"Travelflex\", \"BitTube\", \"UnitedBitcoin\", \"Unify\", \"VIVO Coin\", \"VaultCoin\", \"Webchain\", \"Cannabis Industry Coin\", \"LeviarCoin\", \"Monero Classic\", \"SHIELD\", \"UltraNote\", \"ZCoin\", \"ZClassic\", \"ZCash\", \"Horizen\", \"Zero\", \"Zoin\"], \"legendgroup\": \"class=0\", \"marker\": {\"color\": [0, 0, 0, 0, 0, 0, 0, 0, 0, 0, 0, 0, 0, 0, 0, 0, 0, 0, 0, 0, 0, 0, 0, 0, 0, 0, 0, 0, 0, 0, 0, 0, 0, 0, 0, 0, 0, 0, 0, 0, 0, 0, 0, 0, 0, 0, 0, 0, 0, 0, 0, 0, 0, 0, 0, 0, 0, 0, 0, 0, 0, 0, 0, 0, 0, 0, 0, 0, 0, 0, 0, 0, 0, 0, 0, 0, 0, 0, 0, 0, 0, 0, 0, 0, 0, 0, 0, 0, 0, 0, 0, 0, 0, 0, 0, 0, 0, 0, 0, 0, 0, 0, 0, 0, 0, 0, 0, 0, 0, 0, 0, 0, 0], \"coloraxis\": \"coloraxis\", \"symbol\": \"x\"}, \"mode\": \"markers\", \"name\": \"class=0\", \"scene\": \"scene\", \"showlegend\": true, \"type\": \"scatter3d\", \"x\": [80316207.0, 33011554.8976463, 14848750.0, 25000000.0, 27340501.6514783, 27994846.5603118, 824000000.0, 5021662.15685358, 5015881.37315389, 18087864.6469082, 184066828814.0, 20276099.146524, 9357088.0, 23914128.9626558, 35946144.3261549, 18084902.1469233, 5579847709.26963, 17202361.088994, 71355477.0, 17902299.5355478, 19131022.7872151, 211297638.500483, 247612453.0, 4500000.0, 4235111504.0, 10969318.522954, 10123200.0, 2622886.0, 520891780.0, 2232901.0, 1809467143.0, 35913000.0, 19827144.8462835, 26205539.0, 12756367.0, 2702855668.85288, 13747035.9075517, 12446100.00278, 9704042.0, 1867054873.28397, 31801461.1867843, 6179185.5, 163055097500.0, 7427053.29773925, 88805349.9999955, 302539728.0, 1416663.06600024, 1876146.443596, 1376522500.0, 6375259.04, 46527499.3398182, 12214599.7917101, 21081814.5260323, 795447.0, 116749290.0, 7967371.01869461, 645802968.281741, 18652199.4046601, 61364813.0, 646066707.208514, 33716526.0, 19153632.0, 14491014421.0, 441250233.377, 77872096985.8998, 136578116.463029, 4818338.98949984, 133248297.0, 137497704.120988, 41294520017.0, 143190134051.937, 123105777.102501, 536982074.0, 8880594.48939947, 30706302038.3259, 33986980.0, 589864290.727139, 8673806.23049115, 204479039.0, 3974084721.93839, 2100000000.0, 4070212.1493016, 175215859.0, 69477455.4446567, 24487944.0958204, 4890897.0, 33098296530.0, 2241009149.22257, 5167775.0, 5702048.0, 485214.0, 7935521.33355824, 10000000000.0, 4229040.50393462, 8946653.0, 107325266.027783, 80049082.9057215, 20166000.0, 18133195.0, 4165967.57499639, 30385540.0, 15580199.3087496, 978145.0, 14161803.0, 16016864.0, 481730566.566176, 19294501406.9481, 7654039.94934432, 5613550.0, 7750881.25, 7663425.0, 7323181.5400015, 18545757.5], \"y\": [\"550000000\", \"100000000\", \"84000000\", \"25000000\", \"300000000\", \"60000000\", \"500000000\", \"21000000\", \"25000000\", \"21000000\", \"184467440735\", \"35520400\", \"25000000\", \"7000000000\", \"120000000\", \"21000000\", \"21000000000\", \"21000000\", \"70000000\", \"21000000\", \"30000000\", \"500000000\", \"6500000000\", \"12500000\", \"7600000000\", \"185000000\", \"48252000\", \"18900000\", \"10000000000\", \"2232901\", \"2000000000\", \"100000000\", \"0\", \"26205539\", \"280000000\", \"1800000000\", \"72000000\", \"40000000\", \"20000000\", \"8080000000\", \"100000000\", \"31800000\", \"200000000000\", \"10500000\", \"168000000\", \"500000000\", \"22105263\", \"9999999\", \"2500000000\", \"45000000\", \"64000000\", \"23000000\", \"21000000\", \"18000000\", \"200000000\", \"10000000\", \"1100000000\", \"84000000\", \"228000000\", \"840000000\", \"100000000\", \"150000000\", \"18406979840\", \"999481516\", \"92000000000\", \"168000000\", \"16600000\", \"340282367\", \"336000000\", \"184000000000\", \"0\", \"1100000000\", \"100000000000\", \"23000000\", \" 90000000000\", \"156306732.71\", \"1000000000\", \"21000000\", \"252460800\", \"4999999999\", \"2100000000\", \"21000000\", \"350000000\", \"105000000\", \"24487944\", \"88188888\", \"0\", \"5000000000\", \" 75000000\", \"30000000\", \"10500000000\", \"21000000\", \"10000000000\", \"19800000\", \"88888888\", \"100000000\", \"1000000000\", \"20166000\", \"19276800\", \"27000000\", \"1000000000\", \"1750000000\", \"21000000\", \"54000000\", \"18400000\", \"660000000\", \"85000000000\", \"21400000\", \"21000000\", \"21000000\", \"21000000\", \"17000000\", \"21000000\"], \"z\": [\"X11\", \"Scrypt\", \"Lyra2Z\", \"IMesh\", \"Lyra2Z\", \"X11\", \"X11\", \"X11\", \"X11\", \"SHA-256\", \"CryptoNight\", \"Scrypt\", \"CryptoNight\", \"Blake\", \"Scrypt\", \"SHA-256\", \"Equihash\", \"Equihash\", \"Equihash\", \"Time Travel\", \"Cloverhash\", \"X11\", \"Ethash\", \"CryptoNight\", \"Equihash\", \"CryptoNight-V7\", \"NIST5\", \"X11\", \"Ethash\", \"Dagger-Hashimoto\", \"CryptoNight\", \"X11\", \"Argon2d\", \"Ethash\", \"Ethash\", \"X11\", \"Scrypt\", \"Scrypt\", \"Scrypt\", \"CryptoNight\", \"X11\", \"NeoScrypt\", \"Scrypt\", \"Lyra2Z\", \"SHA-256\", \"NeoScrypt\", \"Scrypt\", \"Lyra2RE\", \"SHA-256\", \"NeoScrypt\", \"Scrypt\", \"C11\", \"NIST5\", \"Tribus\", \"Equihash\", \"CryptoNight\", \"Lyra2REv2\", \"Scrypt\", \"X11\", \"SHA-256 + Hive\", \"Scrypt\", \"CryptoNight Heavy\", \"Scrypt\", \"CryptoNight-V7\", \"Scrypt\", \"Jump Consistent Hash\", \"SkunkHash\", \"Blake2b\", \"CryptoNight\", \"CryptoNight\", \"Scrypt\", \"X11\", \"X11\", \"X11\", \"BLAKE256\", \"Dagger\", \"CryptoNight\", \"HMQ1725\", \"Proof-of-Authority\", \"Scrypt\", \"SHA-256\", \"Scrypt\", \"X11\", \"CryptoNight-V7\", \"Ethash\", \"Cryptonight-GPU\", \"Blake2b\", \"Keccak\", \"Scrypt\", \"Dagger\", \"Scrypt\", \"NeoScrypt\", \"Scrypt\", \"X11\", \"CryptoNight\", \"Dagger\", \"CryptoNight\", \"SHA-256\", \"Scrypt\", \"NeoScrypt\", \"X11\", \"CryptoNight-V7\", \"CryptoNight\", \"CryptoNight\", \"CryptoNight\", \"Multiple\", \"CryptoNight\", \"Lyra2Z\", \"Equihash\", \"Equihash\", \"Equihash\", \"Equihash\", \"Lyra2RE\"]}, {\"customdata\": [[\"DPoS\"], [\"DPoS\"], [\"DPoS\"], [\"DPoS\"], [\"PoS\"], [\"DPoS\"], [\"Semux BFT consensus\"], [\"DPoS\"], [\"VeChainThor Authority\"], [\"Leased POS\"], [\"SHA-256\"]], \"hoverlabel\": {\"namelength\": 0}, \"hovertemplate\": \"<b>%{hovertext}</b><br><br>class=%{marker.color}<br>TotalCoinsMined=%{x}<br>TotalCoinSupply=%{y}<br>Algorithm=%{customdata[0]}\", \"hovertext\": [\"ALAX\", \"ARK\", \"EOS\", \"Lisk\", \"Nxt\", \"Oxycoin\", \"Semux\", \"Lamden Tau\", \"Vechain\", \"Waves\", \"ZEPHYR\"], \"legendgroup\": \"class=5\", \"marker\": {\"color\": [5, 5, 5, 5, 5, 5, 5, 5, 5, 5, 5], \"coloraxis\": \"coloraxis\", \"symbol\": \"cross\"}, \"mode\": \"markers\", \"name\": \"class=5\", \"scene\": \"scene\", \"showlegend\": true, \"type\": \"scatter3d\", \"x\": [1000000000.0, 108202084.0, 1020544523.0722, 121247059.0, 1000000000.0, 1122382283.37, 1231147.0, 288090567.493887, 55454734800.0, 100000000.0, 1999999995.3056], \"y\": [\"1000000000\", \"125000000\", \"0\", \"159918400\", \"1000000000\", \"0\", \"100000000\", \"500000000\", \"86712634466\", \"100000000\", \"2000000000\"], \"z\": [\"DPoS\", \"DPoS\", \"DPoS\", \"DPoS\", \"PoS\", \"DPoS\", \"Semux BFT consensus\", \"DPoS\", \"VeChainThor Authority\", \"Leased POS\", \"SHA-256\"]}, {\"customdata\": [[\"TRC10\"]], \"hoverlabel\": {\"namelength\": 0}, \"hovertemplate\": \"<b>%{hovertext}</b><br><br>class=%{marker.color}<br>TotalCoinsMined=%{x}<br>TotalCoinSupply=%{y}<br>Algorithm=%{customdata[0]}\", \"hovertext\": [\"BitTorrent\"], \"legendgroup\": \"class=3\", \"marker\": {\"color\": [3], \"coloraxis\": \"coloraxis\", \"symbol\": \"circle\"}, \"mode\": \"markers\", \"name\": \"class=3\", \"scene\": \"scene\", \"showlegend\": true, \"type\": \"scatter3d\", \"x\": [989988693687.423], \"y\": [\"990000000000\"], \"z\": [\"TRC10\"]}, {\"customdata\": [[\"CryptoNight Heavy\"], [\"CryptoNight\"]], \"hoverlabel\": {\"namelength\": 0}, \"hovertemplate\": \"<b>%{hovertext}</b><br><br>class=%{marker.color}<br>TotalCoinsMined=%{x}<br>TotalCoinSupply=%{y}<br>Algorithm=%{customdata[0]}\", \"hovertext\": [\"Qwertycoin\", \"TurtleCoin\"], \"legendgroup\": \"class=6\", \"marker\": {\"color\": [6, 6], \"coloraxis\": \"coloraxis\", \"symbol\": \"diamond\"}, \"mode\": \"markers\", \"name\": \"class=6\", \"scene\": \"scene\", \"showlegend\": true, \"type\": \"scatter3d\", \"x\": [105299857562.91, 57241458566.7], \"y\": [\"184470000000\", \"1000000000000\"], \"z\": [\"CryptoNight Heavy\", \"CryptoNight\"]}],\n",
       "                        {\"coloraxis\": {\"colorbar\": {\"title\": {\"text\": \"class\"}}, \"colorscale\": [[0.0, \"#0d0887\"], [0.1111111111111111, \"#46039f\"], [0.2222222222222222, \"#7201a8\"], [0.3333333333333333, \"#9c179e\"], [0.4444444444444444, \"#bd3786\"], [0.5555555555555556, \"#d8576b\"], [0.6666666666666666, \"#ed7953\"], [0.7777777777777778, \"#fb9f3a\"], [0.8888888888888888, \"#fdca26\"], [1.0, \"#f0f921\"]]}, \"height\": 600, \"legend\": {\"tracegroupgap\": 0, \"x\": 0, \"y\": 1}, \"margin\": {\"t\": 60}, \"scene\": {\"domain\": {\"x\": [0.0, 0.98], \"y\": [0.0, 1.0]}, \"xaxis\": {\"title\": {\"text\": \"TotalCoinsMined\"}}, \"yaxis\": {\"title\": {\"text\": \"TotalCoinSupply\"}}, \"zaxis\": {\"title\": {\"text\": \"Algorithm\"}}}, \"template\": {\"data\": {\"bar\": [{\"error_x\": {\"color\": \"#2a3f5f\"}, \"error_y\": {\"color\": \"#2a3f5f\"}, \"marker\": {\"line\": {\"color\": \"#E5ECF6\", \"width\": 0.5}}, \"type\": \"bar\"}], \"barpolar\": [{\"marker\": {\"line\": {\"color\": \"#E5ECF6\", \"width\": 0.5}}, \"type\": \"barpolar\"}], \"carpet\": [{\"aaxis\": {\"endlinecolor\": \"#2a3f5f\", \"gridcolor\": \"white\", \"linecolor\": \"white\", \"minorgridcolor\": \"white\", \"startlinecolor\": \"#2a3f5f\"}, \"baxis\": {\"endlinecolor\": \"#2a3f5f\", \"gridcolor\": \"white\", \"linecolor\": \"white\", \"minorgridcolor\": \"white\", \"startlinecolor\": \"#2a3f5f\"}, \"type\": \"carpet\"}], \"choropleth\": [{\"colorbar\": {\"outlinewidth\": 0, \"ticks\": \"\"}, \"type\": \"choropleth\"}], \"contour\": [{\"colorbar\": {\"outlinewidth\": 0, \"ticks\": \"\"}, \"colorscale\": [[0.0, \"#0d0887\"], [0.1111111111111111, \"#46039f\"], [0.2222222222222222, \"#7201a8\"], [0.3333333333333333, \"#9c179e\"], [0.4444444444444444, \"#bd3786\"], [0.5555555555555556, \"#d8576b\"], [0.6666666666666666, \"#ed7953\"], [0.7777777777777778, \"#fb9f3a\"], [0.8888888888888888, \"#fdca26\"], [1.0, \"#f0f921\"]], \"type\": \"contour\"}], \"contourcarpet\": [{\"colorbar\": {\"outlinewidth\": 0, \"ticks\": \"\"}, \"type\": \"contourcarpet\"}], \"heatmap\": [{\"colorbar\": {\"outlinewidth\": 0, \"ticks\": \"\"}, \"colorscale\": [[0.0, \"#0d0887\"], [0.1111111111111111, \"#46039f\"], [0.2222222222222222, \"#7201a8\"], [0.3333333333333333, \"#9c179e\"], [0.4444444444444444, \"#bd3786\"], [0.5555555555555556, \"#d8576b\"], [0.6666666666666666, \"#ed7953\"], [0.7777777777777778, \"#fb9f3a\"], [0.8888888888888888, \"#fdca26\"], [1.0, \"#f0f921\"]], \"type\": \"heatmap\"}], \"heatmapgl\": [{\"colorbar\": {\"outlinewidth\": 0, \"ticks\": \"\"}, \"colorscale\": [[0.0, \"#0d0887\"], [0.1111111111111111, \"#46039f\"], [0.2222222222222222, \"#7201a8\"], [0.3333333333333333, \"#9c179e\"], [0.4444444444444444, \"#bd3786\"], [0.5555555555555556, \"#d8576b\"], [0.6666666666666666, \"#ed7953\"], [0.7777777777777778, \"#fb9f3a\"], [0.8888888888888888, \"#fdca26\"], [1.0, \"#f0f921\"]], \"type\": \"heatmapgl\"}], \"histogram\": [{\"marker\": {\"colorbar\": {\"outlinewidth\": 0, \"ticks\": \"\"}}, \"type\": \"histogram\"}], \"histogram2d\": [{\"colorbar\": {\"outlinewidth\": 0, \"ticks\": \"\"}, \"colorscale\": [[0.0, \"#0d0887\"], [0.1111111111111111, \"#46039f\"], [0.2222222222222222, \"#7201a8\"], [0.3333333333333333, \"#9c179e\"], [0.4444444444444444, \"#bd3786\"], [0.5555555555555556, \"#d8576b\"], [0.6666666666666666, \"#ed7953\"], [0.7777777777777778, \"#fb9f3a\"], [0.8888888888888888, \"#fdca26\"], [1.0, \"#f0f921\"]], \"type\": \"histogram2d\"}], \"histogram2dcontour\": [{\"colorbar\": {\"outlinewidth\": 0, \"ticks\": \"\"}, \"colorscale\": [[0.0, \"#0d0887\"], [0.1111111111111111, \"#46039f\"], [0.2222222222222222, \"#7201a8\"], [0.3333333333333333, \"#9c179e\"], [0.4444444444444444, \"#bd3786\"], [0.5555555555555556, \"#d8576b\"], [0.6666666666666666, \"#ed7953\"], [0.7777777777777778, \"#fb9f3a\"], [0.8888888888888888, \"#fdca26\"], [1.0, \"#f0f921\"]], \"type\": \"histogram2dcontour\"}], \"mesh3d\": [{\"colorbar\": {\"outlinewidth\": 0, \"ticks\": \"\"}, \"type\": \"mesh3d\"}], \"parcoords\": [{\"line\": {\"colorbar\": {\"outlinewidth\": 0, \"ticks\": \"\"}}, \"type\": \"parcoords\"}], \"scatter\": [{\"marker\": {\"colorbar\": {\"outlinewidth\": 0, \"ticks\": \"\"}}, \"type\": \"scatter\"}], \"scatter3d\": [{\"line\": {\"colorbar\": {\"outlinewidth\": 0, \"ticks\": \"\"}}, \"marker\": {\"colorbar\": {\"outlinewidth\": 0, \"ticks\": \"\"}}, \"type\": \"scatter3d\"}], \"scattercarpet\": [{\"marker\": {\"colorbar\": {\"outlinewidth\": 0, \"ticks\": \"\"}}, \"type\": \"scattercarpet\"}], \"scattergeo\": [{\"marker\": {\"colorbar\": {\"outlinewidth\": 0, \"ticks\": \"\"}}, \"type\": \"scattergeo\"}], \"scattergl\": [{\"marker\": {\"colorbar\": {\"outlinewidth\": 0, \"ticks\": \"\"}}, \"type\": \"scattergl\"}], \"scattermapbox\": [{\"marker\": {\"colorbar\": {\"outlinewidth\": 0, \"ticks\": \"\"}}, \"type\": \"scattermapbox\"}], \"scatterpolar\": [{\"marker\": {\"colorbar\": {\"outlinewidth\": 0, \"ticks\": \"\"}}, \"type\": \"scatterpolar\"}], \"scatterpolargl\": [{\"marker\": {\"colorbar\": {\"outlinewidth\": 0, \"ticks\": \"\"}}, \"type\": \"scatterpolargl\"}], \"scatterternary\": [{\"marker\": {\"colorbar\": {\"outlinewidth\": 0, \"ticks\": \"\"}}, \"type\": \"scatterternary\"}], \"surface\": [{\"colorbar\": {\"outlinewidth\": 0, \"ticks\": \"\"}, \"colorscale\": [[0.0, \"#0d0887\"], [0.1111111111111111, \"#46039f\"], [0.2222222222222222, \"#7201a8\"], [0.3333333333333333, \"#9c179e\"], [0.4444444444444444, \"#bd3786\"], [0.5555555555555556, \"#d8576b\"], [0.6666666666666666, \"#ed7953\"], [0.7777777777777778, \"#fb9f3a\"], [0.8888888888888888, \"#fdca26\"], [1.0, \"#f0f921\"]], \"type\": \"surface\"}], \"table\": [{\"cells\": {\"fill\": {\"color\": \"#EBF0F8\"}, \"line\": {\"color\": \"white\"}}, \"header\": {\"fill\": {\"color\": \"#C8D4E3\"}, \"line\": {\"color\": \"white\"}}, \"type\": \"table\"}]}, \"layout\": {\"annotationdefaults\": {\"arrowcolor\": \"#2a3f5f\", \"arrowhead\": 0, \"arrowwidth\": 1}, \"colorscale\": {\"diverging\": [[0, \"#8e0152\"], [0.1, \"#c51b7d\"], [0.2, \"#de77ae\"], [0.3, \"#f1b6da\"], [0.4, \"#fde0ef\"], [0.5, \"#f7f7f7\"], [0.6, \"#e6f5d0\"], [0.7, \"#b8e186\"], [0.8, \"#7fbc41\"], [0.9, \"#4d9221\"], [1, \"#276419\"]], \"sequential\": [[0.0, \"#0d0887\"], [0.1111111111111111, \"#46039f\"], [0.2222222222222222, \"#7201a8\"], [0.3333333333333333, \"#9c179e\"], [0.4444444444444444, \"#bd3786\"], [0.5555555555555556, \"#d8576b\"], [0.6666666666666666, \"#ed7953\"], [0.7777777777777778, \"#fb9f3a\"], [0.8888888888888888, \"#fdca26\"], [1.0, \"#f0f921\"]], \"sequentialminus\": [[0.0, \"#0d0887\"], [0.1111111111111111, \"#46039f\"], [0.2222222222222222, \"#7201a8\"], [0.3333333333333333, \"#9c179e\"], [0.4444444444444444, \"#bd3786\"], [0.5555555555555556, \"#d8576b\"], [0.6666666666666666, \"#ed7953\"], [0.7777777777777778, \"#fb9f3a\"], [0.8888888888888888, \"#fdca26\"], [1.0, \"#f0f921\"]]}, \"colorway\": [\"#636efa\", \"#EF553B\", \"#00cc96\", \"#ab63fa\", \"#FFA15A\", \"#19d3f3\", \"#FF6692\", \"#B6E880\", \"#FF97FF\", \"#FECB52\"], \"font\": {\"color\": \"#2a3f5f\"}, \"geo\": {\"bgcolor\": \"white\", \"lakecolor\": \"white\", \"landcolor\": \"#E5ECF6\", \"showlakes\": true, \"showland\": true, \"subunitcolor\": \"white\"}, \"hoverlabel\": {\"align\": \"left\"}, \"hovermode\": \"closest\", \"mapbox\": {\"style\": \"light\"}, \"paper_bgcolor\": \"white\", \"plot_bgcolor\": \"#E5ECF6\", \"polar\": {\"angularaxis\": {\"gridcolor\": \"white\", \"linecolor\": \"white\", \"ticks\": \"\"}, \"bgcolor\": \"#E5ECF6\", \"radialaxis\": {\"gridcolor\": \"white\", \"linecolor\": \"white\", \"ticks\": \"\"}}, \"scene\": {\"xaxis\": {\"backgroundcolor\": \"#E5ECF6\", \"gridcolor\": \"white\", \"gridwidth\": 2, \"linecolor\": \"white\", \"showbackground\": true, \"ticks\": \"\", \"zerolinecolor\": \"white\"}, \"yaxis\": {\"backgroundcolor\": \"#E5ECF6\", \"gridcolor\": \"white\", \"gridwidth\": 2, \"linecolor\": \"white\", \"showbackground\": true, \"ticks\": \"\", \"zerolinecolor\": \"white\"}, \"zaxis\": {\"backgroundcolor\": \"#E5ECF6\", \"gridcolor\": \"white\", \"gridwidth\": 2, \"linecolor\": \"white\", \"showbackground\": true, \"ticks\": \"\", \"zerolinecolor\": \"white\"}}, \"shapedefaults\": {\"line\": {\"color\": \"#2a3f5f\"}}, \"ternary\": {\"aaxis\": {\"gridcolor\": \"white\", \"linecolor\": \"white\", \"ticks\": \"\"}, \"baxis\": {\"gridcolor\": \"white\", \"linecolor\": \"white\", \"ticks\": \"\"}, \"bgcolor\": \"#E5ECF6\", \"caxis\": {\"gridcolor\": \"white\", \"linecolor\": \"white\", \"ticks\": \"\"}}, \"title\": {\"x\": 0.05}, \"xaxis\": {\"automargin\": true, \"gridcolor\": \"white\", \"linecolor\": \"white\", \"ticks\": \"\", \"zerolinecolor\": \"white\", \"zerolinewidth\": 2}, \"yaxis\": {\"automargin\": true, \"gridcolor\": \"white\", \"linecolor\": \"white\", \"ticks\": \"\", \"zerolinecolor\": \"white\", \"zerolinewidth\": 2}}}, \"width\": 800},\n",
       "                        {\"responsive\": true}\n",
       "                    ).then(function(){\n",
       "                            \n",
       "var gd = document.getElementById('3ff1b5ff-51d0-4f4d-89ad-1b2fad22bad4');\n",
       "var x = new MutationObserver(function (mutations, observer) {{\n",
       "        var display = window.getComputedStyle(gd).display;\n",
       "        if (!display || display === 'none') {{\n",
       "            console.log([gd, 'removed!']);\n",
       "            Plotly.purge(gd);\n",
       "            observer.disconnect();\n",
       "        }}\n",
       "}});\n",
       "\n",
       "// Listen for the removal of the full notebook cells\n",
       "var notebookContainer = gd.closest('#notebook-container');\n",
       "if (notebookContainer) {{\n",
       "    x.observe(notebookContainer, {childList: true});\n",
       "}}\n",
       "\n",
       "// Listen for the clearing of the current output cell\n",
       "var outputEl = gd.closest('.output');\n",
       "if (outputEl) {{\n",
       "    x.observe(outputEl, {childList: true});\n",
       "}}\n",
       "\n",
       "                        })\n",
       "                };\n",
       "                });\n",
       "            </script>\n",
       "        </div>"
      ]
     },
     "metadata": {},
     "output_type": "display_data"
    }
   ],
   "source": [
    "# Plotting the 3D-Scatter with x=\"Annual Income\", y=\"Spending Score (1-100)\" and z=\"Age\"\n",
    "fig = px.scatter_3d(\n",
    "    clustered_df,\n",
    "    x=\"TotalCoinsMined\",\n",
    "    y=\"TotalCoinSupply\",\n",
    "    z=\"Algorithm\",\n",
    "    color=\"class\",\n",
    "    symbol=\"class\",\n",
    "    width=800,\n",
    "    hover_name=\"CoinName\",\n",
    "    hover_data=[\"Algorithm\"]\n",
    ")\n",
    "fig.update_layout(legend=dict(x=0, y=1))\n",
    "fig.show()"
   ]
  },
  {
   "cell_type": "markdown",
   "metadata": {},
   "source": [
    "#### Table of Tradable Cryptocurrencies"
   ]
  },
  {
   "cell_type": "code",
   "execution_count": 481,
   "metadata": {},
   "outputs": [
    {
     "data": {
      "application/vnd.holoviews_exec.v0+json": "",
      "text/html": [
       "<div id='2465' style='display: table; margin: 0 auto;'>\n",
       "\n",
       "\n",
       "\n",
       "\n",
       "\n",
       "  <div class=\"bk-root\" id=\"c9ae5e84-6b6d-4e5b-be8a-e80ac7d3e5b9\" data-root-id=\"2465\"></div>\n",
       "</div>\n",
       "<script type=\"application/javascript\">(function(root) {\n",
       "  function embed_document(root) {\n",
       "    \n",
       "  var docs_json = {\"a562ab45-775e-4941-ad28-5f1e97218782\":{\"roots\":{\"references\":[{\"attributes\":{\"columns\":[{\"id\":\"2437\",\"type\":\"TableColumn\"},{\"id\":\"2442\",\"type\":\"TableColumn\"},{\"id\":\"2447\",\"type\":\"TableColumn\"},{\"id\":\"2452\",\"type\":\"TableColumn\"},{\"id\":\"2457\",\"type\":\"TableColumn\"},{\"id\":\"2462\",\"type\":\"TableColumn\"}],\"height\":300,\"reorderable\":false,\"source\":{\"id\":\"2433\",\"type\":\"ColumnDataSource\"},\"view\":{\"id\":\"2466\",\"type\":\"CDSView\"},\"width\":420},\"id\":\"2465\",\"type\":\"DataTable\"},{\"attributes\":{},\"id\":\"2446\",\"type\":\"StringEditor\"},{\"attributes\":{\"editor\":{\"id\":\"2461\",\"type\":\"IntEditor\"},\"field\":\"class\",\"formatter\":{\"id\":\"2460\",\"type\":\"NumberFormatter\"},\"title\":\"class\"},\"id\":\"2462\",\"type\":\"TableColumn\"},{\"attributes\":{},\"id\":\"2434\",\"type\":\"Selection\"},{\"attributes\":{\"editor\":{\"id\":\"2446\",\"type\":\"StringEditor\"},\"field\":\"ProofType\",\"formatter\":{\"id\":\"2445\",\"type\":\"StringFormatter\"},\"title\":\"ProofType\"},\"id\":\"2447\",\"type\":\"TableColumn\"},{\"attributes\":{\"editor\":{\"id\":\"2441\",\"type\":\"StringEditor\"},\"field\":\"Algorithm\",\"formatter\":{\"id\":\"2440\",\"type\":\"StringFormatter\"},\"title\":\"Algorithm\"},\"id\":\"2442\",\"type\":\"TableColumn\"},{\"attributes\":{\"editor\":{\"id\":\"2436\",\"type\":\"StringEditor\"},\"field\":\"CoinName\",\"formatter\":{\"id\":\"2435\",\"type\":\"StringFormatter\"},\"title\":\"CoinName\"},\"id\":\"2437\",\"type\":\"TableColumn\"},{\"attributes\":{\"callback\":null,\"data\":{\"Algorithm\":[\"X13\",\"Scrypt\",\"Scrypt\",\"Scrypt\",\"ECC 256K1\",\"Scrypt\",\"Lyra2REv2\",\"Scrypt\",\"X11\",\"Scrypt\",\"Lyra2Z\",\"SHA-256\",\"Ouroboros\",\"Scrypt\",\"IMesh\",\"X11\",\"Lyra2Z\",\"DPoS\",\"X11\",\"Scrypt\",\"X11\",\"Scrypt\",\"Scrypt\",\"DPoS\",\"Quark\",\"PoS\",\"X11\",\"Scrypt\",\"X11\",\"X11\",\"X11\",\"Proof-of-BibleHash\",\"Scrypt\",\"X13\",\"Scrypt\",\"SHA-256\",\"CryptoNight\",\"CryptoNight\",\"Equihash\",\"XEVAN\",\"Scrypt\",\"CryptoNight\",\"Green Protocol\",\"XEVAN\",\"Scrypt\",\"SHA-256\",\"Blake\",\"Scrypt\",\"Cryptonight Haven\",\"Scrypt\",\"Scrypt\",\"Scrypt\",\"X11\",\"Scrypt\",\"X13\",\"X11\",\"X11\",\"SHA-256\",\"NIST5\",\"Scrypt\",\"Scrypt\",\"SHA-256\",\"SHA-256\",\"Scrypt\",\"Equihash\",\"Quark\",\"Equihash\",\"Equihash\",\"Equihash\",\"Skein\",\"SHA-512\",\"TRC10\",\"Time Travel\",\"XEVAN\",\"Shabal256\",\"SHA-256D\",\"Scrypt\",\"NIST5\",\"SHA-256\",\"SHA-256\",\"Quark\",\"Scrypt\",\"Scrypt\",\"Scrypt\",\"Scrypt\",\"Scrypt\",\"PoS\",\"Cloverhash\",\"Scrypt\",\"X11\",\"SHA-256\",\"Ethash\",\"Scrypt\",\"Scrypt\",\"CryptoNight\",\"X13\",\"Multiple\",\"X11\",\"X11\",\"Scrypt\",\"Skein\",\"Multiple\",\"Equihash\",\"X11\",\"Scrypt\",\"Quark\",\"Scrypt\",\"CryptoNight-V7\",\"Lyra2RE\",\"NIST5\",\"QuBit\",\"X11\",\"X11\",\"Ethash\",\"SHA-256\",\"Dagger-Hashimoto\",\"BLAKE256\",\"CryptoNight\",\"Scrypt\",\"Scrypt\",\"PoS\",\"Scrypt\",\"Multiple\",\"Scrypt\",\"SHA-256\",\"Scrypt\",\"X15\",\"SHA-256\",\"Groestl\",\"NIST5\",\"Scrypt\",\"X11\",\"QUAIT\",\"Quark\",\"SHA-256\",\"Argon2d\",\"Scrypt\",\"Scrypt\",\"Scrypt\",\"NIST5\",\"SHA-256\",\"Scrypt\",\"X15\",\"Ethash\",\"Ethash\",\"X11\",\"XEVAN\",\"Scrypt\",\"X13\",\"SHA-256\",\"Scrypt\",\"Scrypt\",\"Scrypt\",\"X11\",\"DPoS\",\"Scrypt\",\"X11\",\"536\",\"Ethash\",\"Ethash\",\"Scrypt\",\"SHA-256\",\"X11\",\"PoS\",\"Exosis\",\"Ethash\",\"Groestl\",\"X13\",\"Stanford Folding\",\"Scrypt\",\"Scrypt\",\"Scrypt\",\"Scrypt\",\"PoS\",\"CryptoNight\",\"Scrypt\",\"Scrypt\",\"Scrypt\",\"Scrypt\",\"NeoScrypt\",\"NeoScrypt\",\"X11\",\"Scrypt\",\"Quark\",\"Scrypt\",\"Scrypt\",\"X11\",\"NeoScrypt\",\"Scrypt\",\"Scrypt\",\"Scrypt\",\"Scrypt\",\"Quark\",\"Lyra2Z\",\"Scrypt\",\"Scrypt\",\"SHA-256\",\"X14\",\"Scrypt\",\"Scrypt\",\"Groestl\",\"Scrypt\",\"NeoScrypt\",\"X11\",\"Scrypt\",\"Quark\",\"Scrypt\",\"1GB AES Pattern Search\",\"X11\",\"X11\",\"X15\",\"Scrypt\",\"Lyra2RE\",\"X11\",\"Scrypt\",\"SHA-256\",\"Scrypt\",\"Scrypt\",\"Scrypt\",\"SHA-256\",\"Scrypt\",\"Scrypt\",\"X11\",\"X11\",\"NeoScrypt\",\"X11\",\"X11\",\"X11\",\"SHA-256\",\"Scrypt\",\"X11\",\"C11\",\"SHA-256\",\"Multiple\",\"X11\",\"NIST5\",\"SHA-512\",\"Tribus\",\"Scrypt\",\"POS 2.0\",\"PoS\",\"Scrypt\",\"Scrypt\",\"Quark\",\"Equihash\",\"X15\",\"X13\",\"CryptoNight\",\"Lyra2REv2\",\"Scrypt\",\"X11\",\"X11\",\"SHA-256D\",\"X11\",\"SHA-256 + Hive\",\"Scrypt\",\"Scrypt\",\"Scrypt\",\"Scrypt\",\"POS 3.0\",\"Blake\",\"Scrypt\",\"Scrypt\",\"CryptoNight Heavy\",\"Scrypt\",\"DPoS\",\"Scrypt\",\"Scrypt\",\"QuBit\",\"Scrypt\",\"CryptoNight-V7\",\"PHI1612\",\"Scrypt\",\"X11\",\"X11\",\"SHA3\",\"SHA-256\",\"PoS\",\"Ethash\",\"Scrypt\",\"HybridScryptHash256\",\"Scrypt\",\"Jump Consistent Hash\",\"Scrypt\",\"Scrypt\",\"Scrypt\",\"Scrypt\",\"X11\",\"Scrypt\",\"Scrypt\",\"X11\",\"Scrypt\",\"Scrypt\",\"X11\",\"X13\",\"SkunkHash\",\"DPoS\",\"SHA-256\",\"NIST5\",\"Blake2b\",\"Scrypt\",\"X13\",\"CryptoNight\",\"CryptoNight\",\"PoS\",\"SHA-256\",\"SHA-256\",\"Scrypt\",\"SHA-256\",\"Scrypt\",\"Scrypt\",\"Scrypt\",\"SHA-256\",\"SHA3\",\"PoS\",\"Scrypt\",\"Scrypt\",\"PoS\",\"Scrypt\",\"SHA-512\",\"SHA-256\",\"Scrypt\",\"Scrypt\",\"X13\",\"VBFT\",\"X11\",\"NeoScrypt\",\"Scrypt\",\"Scrypt\",\"DPoS\",\"X11\",\"Scrypt\",\"PoS\",\"X11\",\"X11\",\"BLAKE256\",\"PoS\",\"X11\",\"X11\",\"Equihash\",\"Dagger\",\"X11\",\"X11\",\"Scrypt\",\"CryptoNight\",\"CryptoNight\",\"HMQ1725\",\"Scrypt\",\"X11\",\"Scrypt\",\"Proof-of-Authority\",\"Scrypt\",\"Quark\",\"Scrypt\",\"SHA-256\",\"Scrypt\",\"SHA-256\",\"X16R\",\"Scrypt\",\"Scrypt\",\"Scrypt\",\"Scrypt\",\"X11\",\"X11\",\"Scrypt\",\"NIST5\",\"Scrypt\",\"Quark\",\"CryptoNight-V7\",\"Scrypt\",\"POS 3.0\",\"CryptoNight Heavy\",\"PoS\",\"X11\",\"Scrypt\",\"Scrypt\",\"Ethash\",\"Scrypt\",\"X11\",\"SHA-256\",\"Groestl\",\"Scrypt\",\"Scrypt\",\"X13\",\"Scrypt\",\"Lyra2REv2\",\"Scrypt\",\"Cryptonight-GPU\",\"Scrypt\",\"Scrypt\",\"Blake2b\",\"Scrypt\",\"Semux BFT consensus\",\"Scrypt\",\"X11GOST\",\"Scrypt\",\"SkunkHash v2 Raptor\",\"Counterparty\",\"QuBit\",\"Scrypt\",\"Keccak\",\"Scrypt\",\"Scrypt\",\"Scrypt\",\"Dagger\",\"Scrypt\",\"Scrypt\",\"SHA-256\",\"C11\",\"NeoScrypt\",\"X11\",\"Scrypt\",\"PoS\",\"PoS\",\"Quark\",\"X13\",\"X11\",\"CryptoNight\",\"X11\",\"SHA-256\",\"Scrypt\",\"X11\",\"SHA-256\",\"Blake2S\",\"DPoS\",\"SHA-256\",\"PoS\",\"Scrypt\",\"Multiple\",\"SHA-256\",\"X13\",\"X11\",\"POS 3.0\",\"Scrypt\",\"SHA-256\",\"Dagger\",\"X13\",\"X11\",\"Scrypt\",\"CryptoNight\",\"X16R\",\"Scrypt\",\"SHA-256D\",\"CryptoNight\",\"NeoScrypt\",\"X11\",\"SHA-256\",\"NeoScrypt\",\"Multiple\",\"Blake\",\"SHA-256\",\"Scrypt\",\"Scrypt\",\"SHA-256\",\"XEVAN\",\"X11\",\"SHA-256\",\"Scrypt\",\"Scrypt\",\"Scrypt\",\"VeChainThor Authority\",\"Scrypt\",\"SHA-256D\",\"NIST5\",\"Quark\",\"NeoScrypt\",\"X11\",\"Scrypt\",\"Equihash+Scrypt\",\"Scrypt\",\"Lyra2REv2\",\"Scrypt\",\"NIST5\",\"Quark\",\"Leased POS\",\"Scrypt\",\"Scrypt\",\"CryptoNight-V7\",\"Scrypt\",\"Scrypt\",\"XEVAN\",\"X11\",\"X16R\",\"CryptoNight\",\"M7 POW\",\"Multiple\",\"PoS\",\"Scrypt\",\"CryptoNight\",\"Keccak\",\"X11\",\"X11\",\"Scrypt\",\"SHA-256\",\"Scrypt\",\"SHA-256\",\"CryptoNight\",\"CryptoNight\",\"X11\",\"X16R\",\"CryptoNight-V7\",\"Multiple\",\"X11\",\"PoS\",\"SHA-256\",\"X11\",\"X13\",\"Multiple\",\"X11\",\"X13\",\"Scrypt\",\"CryptoNight\",\"Multiple\",\"X11\",\"Scrypt\",\"Lyra2Z\",\"Scrypt\",\"Scrypt\",\"Scrypt\",\"Equihash\",\"Equihash\",\"Scrypt\",\"Equihash\",\"SHA-256\",\"Equihash\",\"SHA-256\",\"Scrypt\",\"Scrypt\",\"Lyra2RE\",\"SHA-256\"],\"CoinName\":[\"EliteCoin\",\"1Credit\",\"42 Coin\",\"8BIT Coin\",\"Acute Angle Cloud\",\"Abjcoin\",\"Absolute Coin\",\"ArtByte\",\"AC3\",\"AdCoin\",\"Actinium\",\"Anarchists Prime\",\"Cardano\",\"AudioCoin\",\"Aidos Kuneen\",\"Adzcoin\",\"Alpenschillling\",\"ALAX\",\"ArcticCoin\",\"AquariusCoin\",\"ARENON\",\"Argentum\",\"ArgusCoin\",\"ARK\",\"Allsafe\",\"Atmos\",\"ArtexCoin\",\"Aurora Coin\",\"Award\",\"Axe\",\"Azart\",\"BiblePay\",\"BitConnect Coin\",\"Bitcoin Diamond\",\"BitcoinFast\",\"Bitcoin Cash\",\"ByteCoin\",\"Beldex\",\"Beam\",\"Beetle Coin\",\"BenjiRolls\",\"Bikercoins\",\"Bitcoin Green\",\"BitMoney\",\"BitstarCoin\",\"BLAST\",\"BlakeCoin\",\"BlackholeCoin\",\"BLOC.MONEY\",\"BillaryCoin\",\"Block-Logic\",\"BlueCoin\",\"BolivarCoin\",\"Briacoin\",\"BritCoin\",\"BowsCoin\",\"BitSend\",\"Bitcoin SV\",\"Bitspace\",\"Bata\",\"BitBar\",\"Bitcoin\",\"BitcoinDark\",\"BitCurrency\",\"BitcoinZ\",\"Bitcloud 2.0\",\"Bitcoin Gold\",\"Bithereum\",\"Bitrolium\",\"Bitcoin Planet\",\"Bitshares\",\"BitTorrent\",\"Bitcore\",\"Bettex coin\",\"BurstCoin\",\"BuzzCoin\",\"BeaverCoin\",\"Bulwark\",\"BitcoinWSpectrum\",\"BitTokens\",\"Carebit\",\"Catcoin\",\"CryptoBullion\",\"CannaCoin\",\"Canada eCoin\",\"Crypto Escudo\",\"CoffeeCoin\",\"ChanCoin\",\"OpenChat\",\"Crypto Improvement Fund\",\"Clockcoin\",\"Callisto Network\",\" ClubCoin\",\"Cash & Back Coin\",\"BitCoal\",\"Paycon\",\"Circuits of Value\",\"CapriCoin\",\"Creditbit \",\"Credit\",\"Cream\",\"Crown Coin\",\"CrypticCoin\",\"CryptCoin\",\"CasinoCoin\",\"Crypto Sports\",\"CarterCoin\",\"Citadel\",\"Crypto\",\"Coinonat\",\"CypherPunkCoin\",\"DAS\",\"Dash\",\"DaxxCoin\",\"DubaiCoin\",\"DubaiCoin\",\"Decred\",\"Dinastycoin\",\"Degas Coin\",\"iDealCash\",\"Deviant Coin\",\"Draftcoin\",\"DigiByte\",\"Digitalcoin \",\"CarpeDiemCoin\",\"Diggits\",\"Dekado\",\"DollarCoin\",\"Diamond\",\"Denarius\",\"DopeCoin\",\"DigitalPrice\",\"Droidz\",\"Dystem\",\"DevCoin\",\"Dynamic\",\"EarthCoin\",\"EB3coin\",\"eBoost\",\"Electra\",\"EDRCoin\",\"E-Gulden\",\"EverGreenCoin\",\"Elementrem\",\"Ellaism\",\"Elements\",\"Ellerium\",\"EmaratCoin\",\"EmberCoin\",\"Emercoin\",\"Einsteinium\",\"Emerald\",\"EnergyCoin\",\"Eternity\",\"EOS\",\"EquiTrader\",\"EuropeCoin\",\"Espers\",\"Ethereum Classic\",\"Ethereum\",\"Ethereum Dark\",\"Eurocoin\",\"EUNO\",\"Exclusive Coin\",\"Exosis\",\"Expanse\",\"FairCoin\",\"FindCoin\",\"Folding Coin\",\"BitFlip\",\"Flo\",\"FlutterCoin\",\"FrazCoin\",\"FreeCoin\",\"FREDEnergy\",\"Franko\",\"Francs\",\"FirstCoin\",\"Frankywillcoin\",\"FriendshipCoin\",\"FeatherCoin\",\"FuturoCoin\",\"GAKHcoin\",\"Galilel\",\"Gamecredits\",\"Gapcoin\",\"GoldBlocks\",\"GoByte\",\"gCn Coin\",\"GrandCoin\",\"Genstake\",\"GermanCoin\",\"Giant\",\"GINcoin\",\"GlobalCoin\",\"GoldCoin\",\"GlobalToken\",\"GanjaCoin V2\",\"GPU Coin\",\"GreenCoin\",\"Groestlcoin\",\"GrowthCoin\",\"GunCoin\",\"Halloween Coin\",\"HoboNickels\",\"HerbCoin\",\"HexCoin\",\"HOdlcoin\",\"HappyCoin\",\"Hitcoin\",\"HTML5 Coin\",\"HollyWoodCoin\",\"HexxCoin\",\"HyperStake\",\"HyperCoin\",\"I0coin\",\"iBankCoin\",\"Ignition\",\"Infinite Coin\",\"ILCoin\",\"Impeach\",\"Independent Money System\",\"Impact\",\"Influxcoin\",\"Innova\",\"InsaneCoin\",\"Insane Coin\",\"IOCoin\",\"Internet of People\",\"IrishCoin\",\"IslaCoin\",\"Interzone\",\"IXcoin\",\"JoinCoin\",\"Junson Ming Chan Coin\",\"Jumpcoin\",\"Kcash\",\"KEYCO\",\"Klingon Empire Darsek\",\"KekCoin\",\"Ketan\",\"KrugerCoin\",\"KiloCoin\",\"Kalkulus\",\"Komodo\",\"KoboCoin\",\"Kore\",\"Karbo\",\"KREDS\",\"Kronecoin\",\"Kurrent\",\"KushCoin\",\"LanaCoin\",\"Lutetium Coin\",\"LitecoinCash\",\"Litecoin Plus\",\"LiteDoge\",\"Linda\",\"Linx\",\"Let it Ride\",\"Lithium\",\"LuckyCoin\",\"LomoCoin\",\"Loki\",\"LottoCoin\",\"Lisk\",\"Litebar \",\"Litecoin\",\"LiteCreed\",\"LiteCoin Ultra\",\"Lethean\",\"LUXCoin\",\"Lynx\",\"Magnet\",\"MarsCoin \",\"MaxCoin\",\"Theresa May Coin\",\"MacronCoin\",\"1717 Masonic Commemorative Token\",\"MegaCoin\",\"MediterraneanCoin\",\"MedicCoin\",\"MassGrid\",\"XiaoMiCoin\",\"MinCoin\",\"MintCoin\",\"MMOCoin\",\"MindCoin\",\"MonaCoin\",\"MoneyCoin\",\"Monkey Project\",\"MoonCoin\",\"MasterCoin\",\"MustangCoin\",\"MudraCoin\",\"MUNcoin\",\"Muse\",\"MazaCoin\",\"NamoCoin\",\"Nano\",\"Nautilus Coin\",\"NavCoin\",\"Niobio Cash\",\"Newton Coin\",\"Nebuchadnezzar\",\"NeosCoin\",\"IncaKoin\",\"Gulden\",\"Namecoin\",\"NobleCoin\",\"Dnotes\",\"Nasdacoin\",\"Neutron\",\"Nexus\",\"Nxt\",\"NyanCoin\",\"NewYorkCoin\",\"Zealium\",\"OrangeCoin\",\"Obsidian\",\"OKCash\",\"OmniCron\",\"Omni\",\"DeepOnion\",\"Ontology\",\"Onix\",\"Orbitcoin\",\"OsmiumCoin\",\"Oduwa\",\"Oxycoin\",\"PacCoin\",\"Pakcoin\",\"Particl\",\"PAXEX\",\"Pioneer Coin\",\"Photon\",\"Phreak\",\"Piggy Coin\",\"PinkCoin\",\"PirateCash\",\"Pirl\",\"PizzaCoin\",\"Platinum\",\"PLNCoin\",\"PlatinCoin\",\"PluraCoin\",\"PlusOneCoin\",\"PandaCoin\",\"PhantomX\",\"Peony Coin\",\"Poa Network\",\"PopularCoin\",\"Poseidon Quark\",\"PotCoin\",\"Project Pai\",\"ProsperCoin\",\"ProCurrency\",\"Proton\",\"Printerium\",\"PesoBit\",\"Poseidon\",\"PesetaCoin\",\"Pura\",\"Pushi\",\"PutinCoin\",\"PWR Coin\",\"PhoenixCoin\",\"QuarkCoin\",\"Quantum Resistant Ledger\",\"Quatloo\",\"QTUM\",\"Qwertycoin\",\"Radium\",\"Condensate\",\"RubyCoin\",\"Russiacoin\",\"Reality Clash\",\"Reddcoin\",\"Regalcoin\",\"Revenu\",\"Riecoin\",\"RenosCoin\",\"RootCoin\",\"RoyalCoin\",\"RonPaulCoin\",\"Rupee\",\"Revolution VR\",\"Ryo\",\"SafeExchangeCoin\",\"StableCoin\",\"Siacoin\",\"Swiscoin\",\"Semux\",\"Shilling\",\"SibCoin\",\"Swisscoin\",\"Signatum\",\"StorjCoin\",\"SLICE\",\"SolarCoin\",\"SmartCash\",\"SmartCoin\",\"SmileyCoin\",\"SocialCoin\",\"SoilCoin\",\"Sojourn Coin\",\"Song Coin\",\"SoonCoin\",\"Stipend\",\"SparksPay\",\"Squall Coin\",\"ShareChain\",\"Stakecoin\",\"Steem\",\"STREAMIT COIN\",\"Sativa Coin\",\"Sucre\",\"Sumokoin\",\"SuperCoin\",\"SwingCoin\",\"SexCoin\",\"SyncCoin\",\"SysCoin\",\"TajCoin\",\"Lamden Tau\",\"TigerCash\",\"TeamUP\",\"TerraNovaCoin\",\"TeslaCoin\",\"TigerCoin\",\"Tokyo Coin\",\"TorCoin\",\"TokenPay\",\"TPCash\",\"TerraCoin\",\"Travelflex\",\"Triangles Coin\",\"TruckCoin\",\"Trollcoin\",\"TurtleCoin\",\"Trivechain\",\"ThunderStake\",\"Titan Coin\",\"BitTube\",\"TrezarCoin\",\"Ucoin\",\"UnitedBitcoin\",\"UFO Coin\",\"Unitus\",\"Universal Molecule\",\"UnbreakableCoin\",\"Unify\",\"GameUnits\",\"Unobtanium\",\"Urals Coin\",\"UroCoin\",\"Ultimate Secure Cash\",\"UnitaryStatus Dollar\",\"Unified Society USDEX\",\"UltraCoin\",\"Vechain\",\"ViaCoin\",\"TheVig\",\"VIP Tokens\",\"Vitae\",\"VIVO Coin\",\"VaultCoin\",\"Velox\",\"Vollar\",\"VeriCoin\",\"Vertcoin\",\"Vtorrent\",\"Virta Unique Coin\",\"Digiwage\",\"Waves\",\"Wild Beast Coin\",\"WorldCoin\",\"Webchain\",\"WomenCoin\",\"BitcoinPlus\",\"Bitcoin Incognito\",\"X11 Coin\",\"Xchange\",\"Cannabis Industry Coin\",\"Cryptonite\",\"Crypti\",\"Creatio\",\"CoinonatX\",\"DigitalNote \",\"XDNA\",\"XenixCoin\",\"GoldReserve\",\"HiCoin\",\"Infinity Economics\",\"Xios\",\"JouleCoin\",\"LeviarCoin\",\"Monero Classic\",\"Monoeci\",\"Motion\",\"Monero\",\"MyriadCoin\",\"Enigma\",\"Opair\",\"PayCoin\",\"Ratecoin\",\"Bitcoin Rhodium\",\"SHIELD\",\"Stakenet\",\"StealthCoin\",\"Xt3ch\",\"UltraNote\",\"Verge\",\"VirtacoinPlus\",\"WhiteCoin\",\"ZCoin\",\"YoCoin\",\"Zilbercoin\",\"ZCC Coin\",\"ZClassic\",\"ZCash\",\"ZeitCoin\",\"Horizen\",\"ZEPHYR\",\"Zero\",\"ZetaCoin\",\"ZoneCoin\",\"BitZeny\",\"Zoin\",\"ZayedCoin\"],\"ProofType\":[\"PoW/PoS\",\"PoW\",\"PoW/PoS\",\"PoW/PoS\",\"DPOS\",\"PoW/PoS\",\"PoW/PoS\",\"PoW\",\"PoW\",\"PoW\",\"PoW\",\"PoW\",\"PoS\",\"PoW/PoS\",\"PoW\",\"PoW\",\"PoW\",\"DPoS\",\"PoW\",\"PoW/PoS\",\"PoS\",\"PoW\",\"PoW/PoS\",\"DPoS\",\"PoS\",\"PoS\",\"PoW\",\"PoW/PoS\",\"PoW/PoS\",\"PoW\",\"PoW\",\"POBh\",\"PoW/PoS\",\"PoW/PoS\",\"PoW/PoS\",\"PoW\",\"PoW\",\"PoW\",\"PoW\",\"PoW/PoS\",\"PoW\",\"PoW\",\"PoS\",\"Pos\",\"PoW/PoS\",\"PoW\",\"PoW\",\"PoW/PoS\",\"PoW\",\"PoW/PoS\",\"PoW\",\"PoW/PoS\",\"PoW\",\"PoW/PoS\",\"PoW/PoS\",\"PoW\",\"PoW/PoS\",\"PoW\",\"PoW/PoS\",\"PoW\",\"PoW/PoS\",\"PoW\",\"PoW/PoS\",\"PoS\",\"PoW\",\"PoW/PoS\",\"PoW\",\"PoW\",\"PoW\",\"PoW/PoS\",\"PoS\",\"DPoS\",\"PoW\",\"PoS\",\"PoC\",\"PoW/PoS\",\"PoW\",\"PoS\",\"PoS\",\"PoW/PoS\",\"PoW/PoS\",\"PoW\",\"PoW/PoS\",\"PoW\",\"PoW\",\"PoW\",\"PoS\",\"PoW\",\"PoW/PoS\",\"PoW\",\"PoW/PoS\",\"PoW\",\"PoW/PoS\",\"PoW/PoS\",\"PoW\",\"PoW/PoS\",\"PoW\",\"PoW/PoS\",\"Proof of Trust\",\"PoW/PoS\",\"PoW/PoS\",\"PoS\",\"PoW\",\"PoW\",\"PoC\",\"PoS\",\"PoW/PoS\",\"PoW\",\"PoW\",\"PoW\",\"PoW\",\"PoW\",\"PoW/PoS\",\"PoW\",\"PoW/PoS\",\"PoW\",\"PoW/PoS\",\"PoW\",\"PoW/PoS\",\"PoW/PoS\",\"PoS\",\"PoS\",\"PoW\",\"PoW\",\"PoW\",\"PoS\",\"PoS\",\"PoW\",\"PoW/PoS\",\"PoW/PoS\",\"PoW\",\"PoW\",\"PoW/PoS\",\"PoS\",\"PoW\",\"PoW\",\"PoW\",\"PoW\",\"PoW\",\"PoW/PoS\",\"PoW/PoS\",\"PoW\",\"PoW/PoS\",\"PoW\",\"PoW\",\"PoW\",\"PoW/PoS\",\"PoW/PoS\",\"PoW/PoS\",\"PoW/PoS\",\"PoW\",\"PoW\",\"PoW/PoS\",\"PoW/PoS\",\"DPoS\",\"PoW\",\"PoW/PoS\",\"PoW/PoS\",\"PoW\",\"PoW\",\"PoW/PoS\",\"PoW/PoS\",\"PoW/PoS\",\"PoS\",\"PoW\",\"PoW\",\"PoW/PoS\",\"PoS\",\"PoW\",\"PoW\",\"PoW\",\"PoS/PoW/PoT\",\"PoW\",\"PoS\",\"PoW\",\"PoW\",\"PoW\",\"PoW/PoS \",\"PoW/PoS\",\"PoW/PoS\",\"PoW\",\"PoW\",\"PoW/PoS\",\"PoW/PoS\",\"PoW\",\"PoW/PoS\",\"PoW/PoS\",\"PoW\",\"PoW\",\"PoW\",\"PoW/PoS\",\"PoW/PoS\",\"PoW/PoS\",\"PoW\",\"PoW\",\"PoW\",\"PoW\",\"PoW/PoS\",\"PoS\",\"PoW\",\"PoW\",\"PoS\",\"PoW\",\"PoW/PoS\",\"PoW/PoS\",\"PoW/PoS\",\"PoW\",\"PoW\",\"PoW/PoS\",\"PoW/PoS\",\"PoW/PoS\",\"PoS\",\"PoW\",\"PoS\",\"PoW/PoS\",\"PoW\",\"PoW/PoS\",\"PoW/PoS\",\"PoW\",\"PoW\",\"PoW/PoS\",\"PoW/PoS\",\"PoW/PoS\",\"PoW/PoS\",\"PoW\",\"PoW/PoS\",\"PoW/PoS\",\"PoW/PoS\",\"PoW/PoS\",\"PoW\",\"PoW/PoS\",\"PoW\",\"PoW\",\"PoW\",\"PoS\",\"PoW\",\"Zero-Knowledge Proof\",\"PoW\",\"PoW/PoS\",\"PoS\",\"PoS\",\"PoW\",\"PoW\",\"PoS\",\"dPoW/PoW\",\"PoW/PoS\",\"PoW/PoS\",\"PoW\",\"PoW\",\"PoW\",\"PoW\",\"PoW/PoS\",\"PoW/PoS\",\"PoS\",\"PoW + Hive\",\"PoW/PoS\",\"PoW/PoS\",\"PoW/PoS\",\"PoW\",\"PoS\",\"PoW\",\"PoW\",\"PoW/PoS\",\"PoW\",\"PoW\",\"DPoS\",\"PoW\",\"PoW\",\"PoW/PoS\",\"PoW/PoS\",\"PoW\",\"PoW/PoS\",\"HPoW\",\"PoW/PoS\",\"PoW\",\"PoW/PoS\",\"PoW/PoS\",\"PoS\",\"PoS\",\"PoW\",\"PoW\",\"PoS\",\"PoW\",\"PoW/PoS\",\"PoW\",\"PoS\",\"PoS\",\"PoW\",\"PoW\",\"PoW/PoS\",\"PoS\",\"PoW\",\"PoW\",\"PoW/PoS\",\"PoS\",\"PoW\",\"PoS\",\"PoW/PoS\",\"PoW/PoS\",\"PoW\",\"PoS\",\"PoW/PoS\",\"PoW\",\"PoW\",\"PoS\",\"PoS\",\"PoW/PoS\",\"PoW\",\"PoW\",\"PoW\",\"PoS\",\"PoW/PoS\",\"PoW/PoS\",\"PoW/nPoS\",\"PoS/LPoS\",\"PoW\",\"PoW\",\"PoS\",\"PoW/PoS\",\"PoS\",\"PoW/PoS\",\"PoW\",\"PoW\",\"PoW/PoS\",\"PoS\",\"PoW\",\"PoW/PoS\",\"PoW\",\"PoW/PoS\",\"DPoS\",\"PoW\",\"PoW\",\"PoS\",\"PoS\",\"PoW\",\"PoW\",\"PoS\",\"PoW/PoS\",\"PoW/PoS\",\"PoS\",\"PoW\",\"PoW\",\"PoS\",\"PoW/PoS\",\"PoW\",\"PoW\",\"PoW\",\"PoS\",\"PoW/PoS\",\"PoS\",\"PoA\",\"PoW\",\"PoS\",\"PoW/PoS\",\"PoW\",\"PoW\",\"PoS\",\"PoS\",\"PoW/PoS\",\"PoW/PoS\",\"PoW\",\"PoW\",\"PoW\",\"PoW/PoS\",\"PoW/PoS\",\"PoW/PoS\",\"PoW/PoS\",\"PoW\",\"PoW\",\"PoW\",\"PoS\",\"PoW\",\"PoS\",\"PoW/PoS\",\"PoS\",\"PoW/PoS\",\"PoW\",\"PoW/PoS\",\"PoW/PoS\",\"PoW/PoS\",\"PoW\",\"PoS\",\"PoW/PoS\",\"PoS\",\"PoW\",\"PoS\",\"PoW\",\"PoW\",\"PoC\",\"PoW\",\"PoW\",\"PoW/PoW\",\"DPoS\",\"PoW\",\"PoW\",\"PoW/PoS\",\"PoS\",\"PoS\",\"PoW\",\"PoW\",\"PoW\",\"PoW\",\"PoW\",\"PoW\",\"PoW\",\"PoW\",\"PoW\",\"PoW\",\"PoW/PoS\",\"PoW\",\"PoS/PoW\",\"PoW\",\"PoS\",\"PoW\",\"PoS\",\"PoW/PoS\",\"PoW\",\"PoW\",\"PoS\",\"PoW/PoS\",\"PoW\",\"PoW/PoS\",\"PoW\",\"PoW/PoS\",\"DPoS\",\"PoS\",\"PoS\",\"PoW/PoS\",\"PoS\",\"PoW\",\"PoS\",\"PoW/PoS\",\"PoS\",\"PoW/PoS\",\"PoW\",\"PoW\",\"PoW/PoS\",\"PoW/PoS\",\"PoW/PoS\",\"PoW\",\"PoW/PoS\",\"PoW/PoS\",\"PoW/PoS\",\"PoW\",\"PoW/PoS\",\"PoS\",\"PoW\",\"PoW\",\"PoW\",\"PoW\",\"PoW\",\"PoW\",\"PoW/PoS\",\"PoW\",\"PoW\",\"PoW\",\"PoS\",\"PoW/PoS\",\"PoW/PoS\",\"PoW/PoS\",\"Proof of Authority\",\"PoW\",\"PoW/PoS\",\"PoW/PoS\",\"PoS\",\"PoW\",\"PoW\",\"PoS\",\"PoW\",\"PoST\",\"PoW\",\"PoW/PoS\",\"PoW/PoS\",\"PoS\",\"LPoS\",\"PoW\",\"PoW\",\"PoW\",\"PoW/PoS\",\"PoS\",\"PoS/PoW\",\"PoW/PoS\",\"PoW\",\"PoW\",\"PoW\",\"PoS\",\"PoS\",\"PoW/PoS\",\"PoW\",\"PoW/PoS\",\"PoW/PoS\",\"PoW/PoS\",\"PoS\",\"PoS\",\"PoW/PoS\",\"PoW\",\"PoW\",\"PoW\",\"PoW/PoS\",\"PoW\",\"PoW\",\"PoW\",\"PoW/PoS\",\"PoS\",\"PoS\",\"PoW/PoS\",\"PoW\",\"PoW\",\"TPoS\",\"PoW/PoS\",\"PoS\",\"PoW\",\"PoW\",\"PoW/PoS\",\"PoW/PoS\",\"PoW\",\"PoW\",\"PoS\",\"PoW/PoS\",\"PoW\",\"PoW\",\"PoS\",\"PoW\",\"DPoS\",\"PoW\",\"PoW\",\"PoW/PoS\",\"PoW\",\"PoW\",\"PoW\"],\"TotalCoinSupply\":{\"__ndarray__\":\"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\",\"dtype\":\"float64\",\"shape\":[530]},\"TotalCoinsMined\":{\"__ndarray__\":\"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\",\"dtype\":\"float64\",\"shape\":[530]},\"class\":{\"__ndarray__\":\"AgAAAAIAAAACAAAAAgAAAAEAAAAEAAAAAQAAAAIAAAAAAAAAAAAAAAAAAAACAAAAAQAAAAIAAAAAAAAAAgAAAAAAAAAFAAAAAAAAAAQAAAABAAAAAgAAAAQAAAAFAAAAAQAAAAQAAAAAAAAAAgAAAAEAAAAAAAAAAAAAAAEAAAAEAAAABAAAAAQAAAAAAAAAAAAAAAEAAAABAAAAAQAAAAAAAAAAAAAAAQAAAAEAAAACAAAAAQAAAAAAAAAEAAAAAQAAAAIAAAAAAAAAAgAAAAIAAAAEAAAABAAAAAIAAAAEAAAAAAAAAAEAAAACAAAAAgAAAAIAAAACAAAABAAAAAAAAAABAAAAAAAAAAEAAAAAAAAABAAAAAQAAAADAAAAAAAAAAEAAAACAAAABAAAAAIAAAABAAAAAQAAAAIAAAABAAAAAgAAAAIAAAACAAAAAgAAAAIAAAAEAAAAAAAAAAQAAAAAAAAAAgAAAAAAAAACAAAABAAAAAAAAAACAAAAAgAAAAIAAAACAAAAAQAAAAQAAAACAAAAAAAAAAIAAAACAAAAAQAAAAIAAAAAAAAAAgAAAAAAAAACAAAAAAAAAAIAAAAAAAAAAgAAAAAAAAACAAAAAAAAAAQAAAAEAAAAAQAAAAQAAAACAAAAAgAAAAIAAAAEAAAAAQAAAAIAAAACAAAABAAAAAIAAAAAAAAAAgAAAAEAAAACAAAAAAAAAAIAAAACAAAABAAAAAQAAAACAAAAAgAAAAQAAAAAAAAAAAAAAAAAAAABAAAABAAAAAQAAAACAAAAAgAAAAIAAAACAAAABAAAAAUAAAAAAAAABAAAAAQAAAACAAAAAgAAAAQAAAAEAAAAAQAAAAQAAAABAAAAAgAAAAIAAAAEAAAAAgAAAAAAAAACAAAAAgAAAAAAAAAEAAAAAAAAAAIAAAACAAAABAAAAAIAAAACAAAAAgAAAAAAAAAEAAAAAQAAAAIAAAACAAAABAAAAAAAAAAAAAAAAgAAAAIAAAAEAAAAAQAAAAAAAAACAAAAAgAAAAAAAAAEAAAABAAAAAIAAAACAAAABAAAAAAAAAAEAAAAAgAAAAEAAAAAAAAAAgAAAAQAAAAEAAAABAAAAAEAAAAAAAAABAAAAAIAAAACAAAAAgAAAAQAAAACAAAAAAAAAAQAAAAEAAAABAAAAAQAAAAAAAAABAAAAAQAAAACAAAABAAAAAAAAAACAAAAAAAAAAIAAAACAAAAAQAAAAAAAAABAAAAAAAAAAQAAAABAAAAAQAAAAIAAAACAAAAAQAAAAAAAAACAAAAAgAAAAAAAAAAAAAAAAAAAAAAAAAEAAAABAAAAAQAAAAAAAAABAAAAAIAAAAEAAAAAAAAAAQAAAABAAAAAgAAAAQAAAAAAAAAAAAAAAUAAAACAAAAAgAAAAQAAAAEAAAAAAAAAAQAAAAAAAAABAAAAAIAAAACAAAABAAAAAQAAAABAAAAAgAAAAIAAAABAAAAAAAAAAIAAAACAAAAAgAAAAEAAAACAAAAAgAAAAQAAAABAAAAAgAAAAIAAAAEAAAABAAAAAAAAAABAAAAAgAAAAQAAAAAAAAAAgAAAAIAAAAAAAAAAAAAAAQAAAAEAAAAAgAAAAIAAAACAAAAAgAAAAQAAAABAAAAAgAAAAIAAAAFAAAAAgAAAAAAAAABAAAAAgAAAAEAAAACAAAAAgAAAAIAAAAEAAAAAQAAAAAAAAACAAAAAgAAAAEAAAAFAAAAAAAAAAIAAAAEAAAAAQAAAAAAAAAAAAAABAAAAAIAAAACAAAAAQAAAAAAAAACAAAAAQAAAAQAAAABAAAAAAAAAAAAAAAEAAAABAAAAAEAAAAAAAAAAAAAAAEAAAACAAAAAAAAAAIAAAAEAAAAAQAAAAQAAAACAAAAAAAAAAIAAAAAAAAABAAAAAIAAAAEAAAAAgAAAAQAAAAAAAAAAgAAAAQAAAAGAAAABAAAAAQAAAAEAAAABAAAAAAAAAACAAAABAAAAAIAAAACAAAABAAAAAIAAAAEAAAAAgAAAAEAAAACAAAAAAAAAAIAAAACAAAAAAAAAAIAAAAFAAAAAgAAAAIAAAAEAAAAAQAAAAQAAAABAAAAAgAAAAAAAAACAAAAAgAAAAAAAAAAAAAAAAAAAAIAAAACAAAAAQAAAAAAAAAEAAAAAAAAAAQAAAAEAAAAAQAAAAIAAAAAAAAAAAAAAAQAAAACAAAAAgAAAAIAAAACAAAABAAAAAUAAAABAAAABAAAAAQAAAACAAAAAgAAAAEAAAACAAAAAQAAAAQAAAACAAAAAAAAAAIAAAACAAAABAAAAAYAAAABAAAABAAAAAEAAAAAAAAABAAAAAQAAAAAAAAAAgAAAAIAAAABAAAAAgAAAAAAAAAEAAAAAgAAAAEAAAACAAAABAAAAAIAAAAEAAAAAgAAAAUAAAACAAAAAQAAAAQAAAABAAAAAAAAAAAAAAAEAAAAAQAAAAIAAAACAAAAAgAAAAQAAAABAAAABQAAAAIAAAACAAAAAAAAAAQAAAAEAAAAAQAAAAIAAAABAAAAAAAAAAIAAAACAAAABAAAAAQAAAACAAAAAQAAAAQAAAAEAAAABAAAAAQAAAAEAAAAAgAAAAAAAAAAAAAABAAAAAEAAAACAAAAAgAAAAQAAAAEAAAAAgAAAAQAAAABAAAAAAAAAAQAAAACAAAAAQAAAAAAAAACAAAABAAAAAIAAAAAAAAAAgAAAAQAAAACAAAAAAAAAAAAAAAEAAAAAAAAAAUAAAAAAAAAAgAAAAIAAAACAAAAAAAAAAIAAAA=\",\"dtype\":\"int32\",\"shape\":[530]}},\"selected\":{\"id\":\"2434\",\"type\":\"Selection\"},\"selection_policy\":{\"id\":\"2467\",\"type\":\"UnionRenderers\"}},\"id\":\"2433\",\"type\":\"ColumnDataSource\"},{\"attributes\":{},\"id\":\"2441\",\"type\":\"StringEditor\"},{\"attributes\":{},\"id\":\"2456\",\"type\":\"NumberEditor\"},{\"attributes\":{\"editor\":{\"id\":\"2451\",\"type\":\"NumberEditor\"},\"field\":\"TotalCoinSupply\",\"formatter\":{\"id\":\"2450\",\"type\":\"NumberFormatter\"},\"title\":\"TotalCoinSupply\"},\"id\":\"2452\",\"type\":\"TableColumn\"},{\"attributes\":{},\"id\":\"2440\",\"type\":\"StringFormatter\"},{\"attributes\":{\"source\":{\"id\":\"2433\",\"type\":\"ColumnDataSource\"}},\"id\":\"2466\",\"type\":\"CDSView\"},{\"attributes\":{\"editor\":{\"id\":\"2456\",\"type\":\"NumberEditor\"},\"field\":\"TotalCoinsMined\",\"formatter\":{\"id\":\"2455\",\"type\":\"NumberFormatter\"},\"title\":\"TotalCoinsMined\"},\"id\":\"2457\",\"type\":\"TableColumn\"},{\"attributes\":{},\"id\":\"2461\",\"type\":\"IntEditor\"},{\"attributes\":{},\"id\":\"2445\",\"type\":\"StringFormatter\"},{\"attributes\":{\"format\":\"0,0.0[00000]\"},\"id\":\"2450\",\"type\":\"NumberFormatter\"},{\"attributes\":{},\"id\":\"2467\",\"type\":\"UnionRenderers\"},{\"attributes\":{},\"id\":\"2451\",\"type\":\"NumberEditor\"},{\"attributes\":{\"format\":\"0,0.0[00000]\"},\"id\":\"2455\",\"type\":\"NumberFormatter\"},{\"attributes\":{},\"id\":\"2436\",\"type\":\"StringEditor\"},{\"attributes\":{},\"id\":\"2435\",\"type\":\"StringFormatter\"},{\"attributes\":{},\"id\":\"2460\",\"type\":\"NumberFormatter\"}],\"root_ids\":[\"2465\"]},\"title\":\"Bokeh Application\",\"version\":\"1.2.0\"}};\n",
       "  var render_items = [{\"docid\":\"a562ab45-775e-4941-ad28-5f1e97218782\",\"roots\":{\"2465\":\"c9ae5e84-6b6d-4e5b-be8a-e80ac7d3e5b9\"}}];\n",
       "  root.Bokeh.embed.embed_items_notebook(docs_json, render_items);\n",
       "\n",
       "  }\n",
       "  if (root.Bokeh !== undefined) {\n",
       "    embed_document(root);\n",
       "  } else {\n",
       "    var attempts = 0;\n",
       "    var timer = setInterval(function(root) {\n",
       "      if (root.Bokeh !== undefined) {\n",
       "        embed_document(root);\n",
       "        clearInterval(timer);\n",
       "      }\n",
       "      attempts++;\n",
       "      if (attempts > 100) {\n",
       "        console.log(\"Bokeh: ERROR: Unable to run BokehJS code because BokehJS library is missing\");\n",
       "        clearInterval(timer);\n",
       "      }\n",
       "    }, 10, root)\n",
       "  }\n",
       "})(window);</script>"
      ],
      "text/plain": [
       ":Table   [CoinName,Algorithm,ProofType,TotalCoinSupply,TotalCoinsMined,class]"
      ]
     },
     "execution_count": 481,
     "metadata": {
      "application/vnd.holoviews_exec.v0+json": {
       "id": "2465"
      }
     },
     "output_type": "execute_result"
    }
   ],
   "source": [
    "# Table with tradable cryptos\n",
    "clustered_df[\"TotalCoinSupply\"] = pd.to_numeric(clustered_df[\"TotalCoinSupply\"])\n",
    "clustered_df.hvplot.table([\"CoinName\", \"Algorithm\", \"ProofType\", \"TotalCoinSupply\", \"TotalCoinsMined\", \"class\"], width=420)"
   ]
  },
  {
   "cell_type": "markdown",
   "metadata": {},
   "source": [
    "#### Scatter Plot with Tradable Cryptocurrencies"
   ]
  },
  {
   "cell_type": "code",
   "execution_count": 484,
   "metadata": {},
   "outputs": [
    {
     "data": {
      "application/vnd.holoviews_exec.v0+json": "",
      "text/html": [
       "<div id='2704' style='display: table; margin: 0 auto;'>\n",
       "\n",
       "\n",
       "\n",
       "\n",
       "\n",
       "  <div class=\"bk-root\" id=\"41b128a9-7085-4063-8adf-7031b038919a\" data-root-id=\"2704\"></div>\n",
       "</div>\n",
       "<script type=\"application/javascript\">(function(root) {\n",
       "  function embed_document(root) {\n",
       "    \n",
       "  var docs_json = {\"fb7a044d-70e4-4619-85af-be55319787be\":{\"roots\":{\"references\":[{\"attributes\":{\"below\":[{\"id\":\"2713\",\"type\":\"LinearAxis\"}],\"center\":[{\"id\":\"2717\",\"type\":\"Grid\"},{\"id\":\"2722\",\"type\":\"Grid\"}],\"left\":[{\"id\":\"2718\",\"type\":\"LinearAxis\"}],\"margin\":null,\"min_border_bottom\":10,\"min_border_left\":10,\"min_border_right\":10,\"min_border_top\":10,\"plot_height\":300,\"plot_width\":700,\"renderers\":[{\"id\":\"2741\",\"type\":\"GlyphRenderer\"}],\"sizing_mode\":\"fixed\",\"title\":{\"id\":\"2705\",\"type\":\"Title\"},\"toolbar\":{\"id\":\"2728\",\"type\":\"Toolbar\"},\"x_range\":{\"id\":\"2701\",\"type\":\"Range1d\"},\"x_scale\":{\"id\":\"2709\",\"type\":\"LinearScale\"},\"y_range\":{\"id\":\"2702\",\"type\":\"Range1d\"},\"y_scale\":{\"id\":\"2711\",\"type\":\"LinearScale\"}},\"id\":\"2704\",\"subtype\":\"Figure\",\"type\":\"Plot\"},{\"attributes\":{\"active_drag\":\"auto\",\"active_inspect\":\"auto\",\"active_multi\":null,\"active_scroll\":\"auto\",\"active_tap\":\"auto\",\"tools\":[{\"id\":\"2703\",\"type\":\"HoverTool\"},{\"id\":\"2723\",\"type\":\"SaveTool\"},{\"id\":\"2724\",\"type\":\"PanTool\"},{\"id\":\"2725\",\"type\":\"WheelZoomTool\"},{\"id\":\"2726\",\"type\":\"BoxZoomTool\"},{\"id\":\"2727\",\"type\":\"ResetTool\"}]},\"id\":\"2728\",\"type\":\"Toolbar\"},{\"attributes\":{},\"id\":\"2711\",\"type\":\"LinearScale\"},{\"attributes\":{\"fill_color\":{\"value\":\"#1f77b4\"},\"line_color\":{\"value\":\"#1f77b4\"},\"size\":{\"units\":\"screen\",\"value\":5.477225575051661},\"x\":{\"field\":\"TotalCoinsMined\"},\"y\":{\"field\":\"TotalCoinSupply\"}},\"id\":\"2738\",\"type\":\"Scatter\"},{\"attributes\":{},\"id\":\"2725\",\"type\":\"WheelZoomTool\"},{\"attributes\":{},\"id\":\"2724\",\"type\":\"PanTool\"},{\"attributes\":{},\"id\":\"2709\",\"type\":\"LinearScale\"},{\"attributes\":{\"callback\":null,\"end\":989988693687.423,\"reset_end\":989988693687.423,\"reset_start\":41.99995317,\"start\":41.99995317,\"tags\":[[[\"TotalCoinsMined\",\"TotalCoinsMined\",null]]]},\"id\":\"2701\",\"type\":\"Range1d\"},{\"attributes\":{},\"id\":\"2723\",\"type\":\"SaveTool\"},{\"attributes\":{\"callback\":null,\"end\":1000000000000.0,\"reset_end\":1000000000000.0,\"reset_start\":0.0,\"tags\":[[[\"TotalCoinSupply\",\"TotalCoinSupply\",null]]]},\"id\":\"2702\",\"type\":\"Range1d\"},{\"attributes\":{},\"id\":\"2727\",\"type\":\"ResetTool\"},{\"attributes\":{\"fill_alpha\":{\"value\":0.2},\"fill_color\":{\"value\":\"#1f77b4\"},\"line_alpha\":{\"value\":0.2},\"line_color\":{\"value\":\"#1f77b4\"},\"size\":{\"units\":\"screen\",\"value\":5.477225575051661},\"x\":{\"field\":\"TotalCoinsMined\"},\"y\":{\"field\":\"TotalCoinSupply\"}},\"id\":\"2740\",\"type\":\"Scatter\"},{\"attributes\":{\"text\":\"\",\"text_color\":{\"value\":\"black\"},\"text_font_size\":{\"value\":\"12pt\"}},\"id\":\"2705\",\"type\":\"Title\"},{\"attributes\":{\"axis_label\":\"TotalCoinSupply\",\"bounds\":\"auto\",\"formatter\":{\"id\":\"2745\",\"type\":\"BasicTickFormatter\"},\"major_label_orientation\":\"horizontal\",\"ticker\":{\"id\":\"2719\",\"type\":\"BasicTicker\"}},\"id\":\"2718\",\"type\":\"LinearAxis\"},{\"attributes\":{},\"id\":\"2743\",\"type\":\"BasicTickFormatter\"},{\"attributes\":{\"callback\":null,\"data\":{\"CoinName\":[\"EliteCoin\",\"1Credit\",\"42 Coin\",\"8BIT Coin\",\"Acute Angle Cloud\",\"Abjcoin\",\"Absolute Coin\",\"ArtByte\",\"AC3\",\"AdCoin\",\"Actinium\",\"Anarchists Prime\",\"Cardano\",\"AudioCoin\",\"Aidos Kuneen\",\"Adzcoin\",\"Alpenschillling\",\"ALAX\",\"ArcticCoin\",\"AquariusCoin\",\"ARENON\",\"Argentum\",\"ArgusCoin\",\"ARK\",\"Allsafe\",\"Atmos\",\"ArtexCoin\",\"Aurora Coin\",\"Award\",\"Axe\",\"Azart\",\"BiblePay\",\"BitConnect Coin\",\"Bitcoin Diamond\",\"BitcoinFast\",\"Bitcoin Cash\",\"ByteCoin\",\"Beldex\",\"Beam\",\"Beetle Coin\",\"BenjiRolls\",\"Bikercoins\",\"Bitcoin Green\",\"BitMoney\",\"BitstarCoin\",\"BLAST\",\"BlakeCoin\",\"BlackholeCoin\",\"BLOC.MONEY\",\"BillaryCoin\",\"Block-Logic\",\"BlueCoin\",\"BolivarCoin\",\"Briacoin\",\"BritCoin\",\"BowsCoin\",\"BitSend\",\"Bitcoin SV\",\"Bitspace\",\"Bata\",\"BitBar\",\"Bitcoin\",\"BitcoinDark\",\"BitCurrency\",\"BitcoinZ\",\"Bitcloud 2.0\",\"Bitcoin Gold\",\"Bithereum\",\"Bitrolium\",\"Bitcoin Planet\",\"Bitshares\",\"BitTorrent\",\"Bitcore\",\"Bettex coin\",\"BurstCoin\",\"BuzzCoin\",\"BeaverCoin\",\"Bulwark\",\"BitcoinWSpectrum\",\"BitTokens\",\"Carebit\",\"Catcoin\",\"CryptoBullion\",\"CannaCoin\",\"Canada eCoin\",\"Crypto Escudo\",\"CoffeeCoin\",\"ChanCoin\",\"OpenChat\",\"Crypto Improvement Fund\",\"Clockcoin\",\"Callisto Network\",\" ClubCoin\",\"Cash & Back Coin\",\"BitCoal\",\"Paycon\",\"Circuits of Value\",\"CapriCoin\",\"Creditbit \",\"Credit\",\"Cream\",\"Crown Coin\",\"CrypticCoin\",\"CryptCoin\",\"CasinoCoin\",\"Crypto Sports\",\"CarterCoin\",\"Citadel\",\"Crypto\",\"Coinonat\",\"CypherPunkCoin\",\"DAS\",\"Dash\",\"DaxxCoin\",\"DubaiCoin\",\"DubaiCoin\",\"Decred\",\"Dinastycoin\",\"Degas Coin\",\"iDealCash\",\"Deviant Coin\",\"Draftcoin\",\"DigiByte\",\"Digitalcoin \",\"CarpeDiemCoin\",\"Diggits\",\"Dekado\",\"DollarCoin\",\"Diamond\",\"Denarius\",\"DopeCoin\",\"DigitalPrice\",\"Droidz\",\"Dystem\",\"DevCoin\",\"Dynamic\",\"EarthCoin\",\"EB3coin\",\"eBoost\",\"Electra\",\"EDRCoin\",\"E-Gulden\",\"EverGreenCoin\",\"Elementrem\",\"Ellaism\",\"Elements\",\"Ellerium\",\"EmaratCoin\",\"EmberCoin\",\"Emercoin\",\"Einsteinium\",\"Emerald\",\"EnergyCoin\",\"Eternity\",\"EOS\",\"EquiTrader\",\"EuropeCoin\",\"Espers\",\"Ethereum Classic\",\"Ethereum\",\"Ethereum Dark\",\"Eurocoin\",\"EUNO\",\"Exclusive Coin\",\"Exosis\",\"Expanse\",\"FairCoin\",\"FindCoin\",\"Folding Coin\",\"BitFlip\",\"Flo\",\"FlutterCoin\",\"FrazCoin\",\"FreeCoin\",\"FREDEnergy\",\"Franko\",\"Francs\",\"FirstCoin\",\"Frankywillcoin\",\"FriendshipCoin\",\"FeatherCoin\",\"FuturoCoin\",\"GAKHcoin\",\"Galilel\",\"Gamecredits\",\"Gapcoin\",\"GoldBlocks\",\"GoByte\",\"gCn Coin\",\"GrandCoin\",\"Genstake\",\"GermanCoin\",\"Giant\",\"GINcoin\",\"GlobalCoin\",\"GoldCoin\",\"GlobalToken\",\"GanjaCoin V2\",\"GPU Coin\",\"GreenCoin\",\"Groestlcoin\",\"GrowthCoin\",\"GunCoin\",\"Halloween Coin\",\"HoboNickels\",\"HerbCoin\",\"HexCoin\",\"HOdlcoin\",\"HappyCoin\",\"Hitcoin\",\"HTML5 Coin\",\"HollyWoodCoin\",\"HexxCoin\",\"HyperStake\",\"HyperCoin\",\"I0coin\",\"iBankCoin\",\"Ignition\",\"Infinite Coin\",\"ILCoin\",\"Impeach\",\"Independent Money System\",\"Impact\",\"Influxcoin\",\"Innova\",\"InsaneCoin\",\"Insane Coin\",\"IOCoin\",\"Internet of People\",\"IrishCoin\",\"IslaCoin\",\"Interzone\",\"IXcoin\",\"JoinCoin\",\"Junson Ming Chan Coin\",\"Jumpcoin\",\"Kcash\",\"KEYCO\",\"Klingon Empire Darsek\",\"KekCoin\",\"Ketan\",\"KrugerCoin\",\"KiloCoin\",\"Kalkulus\",\"Komodo\",\"KoboCoin\",\"Kore\",\"Karbo\",\"KREDS\",\"Kronecoin\",\"Kurrent\",\"KushCoin\",\"LanaCoin\",\"Lutetium Coin\",\"LitecoinCash\",\"Litecoin Plus\",\"LiteDoge\",\"Linda\",\"Linx\",\"Let it Ride\",\"Lithium\",\"LuckyCoin\",\"LomoCoin\",\"Loki\",\"LottoCoin\",\"Lisk\",\"Litebar \",\"Litecoin\",\"LiteCreed\",\"LiteCoin Ultra\",\"Lethean\",\"LUXCoin\",\"Lynx\",\"Magnet\",\"MarsCoin \",\"MaxCoin\",\"Theresa May Coin\",\"MacronCoin\",\"1717 Masonic Commemorative Token\",\"MegaCoin\",\"MediterraneanCoin\",\"MedicCoin\",\"MassGrid\",\"XiaoMiCoin\",\"MinCoin\",\"MintCoin\",\"MMOCoin\",\"MindCoin\",\"MonaCoin\",\"MoneyCoin\",\"Monkey Project\",\"MoonCoin\",\"MasterCoin\",\"MustangCoin\",\"MudraCoin\",\"MUNcoin\",\"Muse\",\"MazaCoin\",\"NamoCoin\",\"Nano\",\"Nautilus Coin\",\"NavCoin\",\"Niobio Cash\",\"Newton Coin\",\"Nebuchadnezzar\",\"NeosCoin\",\"IncaKoin\",\"Gulden\",\"Namecoin\",\"NobleCoin\",\"Dnotes\",\"Nasdacoin\",\"Neutron\",\"Nexus\",\"Nxt\",\"NyanCoin\",\"NewYorkCoin\",\"Zealium\",\"OrangeCoin\",\"Obsidian\",\"OKCash\",\"OmniCron\",\"Omni\",\"DeepOnion\",\"Ontology\",\"Onix\",\"Orbitcoin\",\"OsmiumCoin\",\"Oduwa\",\"Oxycoin\",\"PacCoin\",\"Pakcoin\",\"Particl\",\"PAXEX\",\"Pioneer Coin\",\"Photon\",\"Phreak\",\"Piggy Coin\",\"PinkCoin\",\"PirateCash\",\"Pirl\",\"PizzaCoin\",\"Platinum\",\"PLNCoin\",\"PlatinCoin\",\"PluraCoin\",\"PlusOneCoin\",\"PandaCoin\",\"PhantomX\",\"Peony Coin\",\"Poa Network\",\"PopularCoin\",\"Poseidon Quark\",\"PotCoin\",\"Project Pai\",\"ProsperCoin\",\"ProCurrency\",\"Proton\",\"Printerium\",\"PesoBit\",\"Poseidon\",\"PesetaCoin\",\"Pura\",\"Pushi\",\"PutinCoin\",\"PWR Coin\",\"PhoenixCoin\",\"QuarkCoin\",\"Quantum Resistant Ledger\",\"Quatloo\",\"QTUM\",\"Qwertycoin\",\"Radium\",\"Condensate\",\"RubyCoin\",\"Russiacoin\",\"Reality Clash\",\"Reddcoin\",\"Regalcoin\",\"Revenu\",\"Riecoin\",\"RenosCoin\",\"RootCoin\",\"RoyalCoin\",\"RonPaulCoin\",\"Rupee\",\"Revolution VR\",\"Ryo\",\"SafeExchangeCoin\",\"StableCoin\",\"Siacoin\",\"Swiscoin\",\"Semux\",\"Shilling\",\"SibCoin\",\"Swisscoin\",\"Signatum\",\"StorjCoin\",\"SLICE\",\"SolarCoin\",\"SmartCash\",\"SmartCoin\",\"SmileyCoin\",\"SocialCoin\",\"SoilCoin\",\"Sojourn Coin\",\"Song Coin\",\"SoonCoin\",\"Stipend\",\"SparksPay\",\"Squall Coin\",\"ShareChain\",\"Stakecoin\",\"Steem\",\"STREAMIT COIN\",\"Sativa Coin\",\"Sucre\",\"Sumokoin\",\"SuperCoin\",\"SwingCoin\",\"SexCoin\",\"SyncCoin\",\"SysCoin\",\"TajCoin\",\"Lamden Tau\",\"TigerCash\",\"TeamUP\",\"TerraNovaCoin\",\"TeslaCoin\",\"TigerCoin\",\"Tokyo Coin\",\"TorCoin\",\"TokenPay\",\"TPCash\",\"TerraCoin\",\"Travelflex\",\"Triangles Coin\",\"TruckCoin\",\"Trollcoin\",\"TurtleCoin\",\"Trivechain\",\"ThunderStake\",\"Titan Coin\",\"BitTube\",\"TrezarCoin\",\"Ucoin\",\"UnitedBitcoin\",\"UFO Coin\",\"Unitus\",\"Universal Molecule\",\"UnbreakableCoin\",\"Unify\",\"GameUnits\",\"Unobtanium\",\"Urals Coin\",\"UroCoin\",\"Ultimate Secure Cash\",\"UnitaryStatus Dollar\",\"Unified Society USDEX\",\"UltraCoin\",\"Vechain\",\"ViaCoin\",\"TheVig\",\"VIP Tokens\",\"Vitae\",\"VIVO Coin\",\"VaultCoin\",\"Velox\",\"Vollar\",\"VeriCoin\",\"Vertcoin\",\"Vtorrent\",\"Virta Unique Coin\",\"Digiwage\",\"Waves\",\"Wild Beast Coin\",\"WorldCoin\",\"Webchain\",\"WomenCoin\",\"BitcoinPlus\",\"Bitcoin Incognito\",\"X11 Coin\",\"Xchange\",\"Cannabis Industry Coin\",\"Cryptonite\",\"Crypti\",\"Creatio\",\"CoinonatX\",\"DigitalNote \",\"XDNA\",\"XenixCoin\",\"GoldReserve\",\"HiCoin\",\"Infinity Economics\",\"Xios\",\"JouleCoin\",\"LeviarCoin\",\"Monero Classic\",\"Monoeci\",\"Motion\",\"Monero\",\"MyriadCoin\",\"Enigma\",\"Opair\",\"PayCoin\",\"Ratecoin\",\"Bitcoin Rhodium\",\"SHIELD\",\"Stakenet\",\"StealthCoin\",\"Xt3ch\",\"UltraNote\",\"Verge\",\"VirtacoinPlus\",\"WhiteCoin\",\"ZCoin\",\"YoCoin\",\"Zilbercoin\",\"ZCC Coin\",\"ZClassic\",\"ZCash\",\"ZeitCoin\",\"Horizen\",\"ZEPHYR\",\"Zero\",\"ZetaCoin\",\"ZoneCoin\",\"BitZeny\",\"Zoin\",\"ZayedCoin\"],\"TotalCoinSupply\":{\"__ndarray__\":\"AMCTfVZJUkIAAACYoGs1QgAAAAAAAEVAAAAAAAAAAAAAAAAAZc3NQQAAAAA4nHxBAAAAALEIiUEAAAAAZc3NQQAAAMAqZMBBAAAAAITXl0EAAAAA9AaUQQAAAACAoolBAAAABGv0JEIAAABIyo4DQgAAAACE13dBAAAAAPQGlEEAAAAAo+GxQQAAAABlzc1BAAAAADicjEEAAAAA9AaEQQAAAADeOYpBAAAAAICEjkEAAAAAbEZ7QQAAAABlzZ1BAAAAADicbEEAAAC4kUuaQQAAAABlzb1BAAAAAMn7b0EAAAAAsQi5QQAAAAD0BnRBAAAAAITXd0EAAABAG1/zQQAAAADws3pBAAAAALEIqUEAAAAApHh/QQAAAAD0BnRBAIAv4o55RUIAAIDkbN3UQQAAAAAFVK9BAAAAAGXNvUEAAACA/O+AQQAAAACE13dBAAAAAPQGdEEAAAA8U0wwQgAAALgP34lBAAAAAICEjkEAAABguBP6QaFFtn/WNGxBAAAAAITXh0EAAAAA9AaEQQAAAAA4nJxBAAAAAAAAAAAAAAAAhNd3QQAAAABg40ZBAAAAADicfEEAAAAA9AZ0QQAAAIDxkaBBAAAAAPQGdEEAAAAAhNeHQQAAAADQElNBAAAAAICEHkEAAAAA9AZ0QQAAAAAY+3RBAAAAAAAAAAAAAABIyo4TQgAAAACE16dBAAAAAPQGdEEAAAAAh3R9QQAAAAB2sJBBAAAAAITXl0EAAMAQi9PqQQAAgCUT0GxCAAAAAPQGdEEAAAAAhNeHQQAAANCbFeBBAAAAIF+gEkIAAAAAgKJJQQAAAJChbnpBAAAA9ITnl0EAAAAA9AZ0QQAAAACE16dBAAAAAPQGdEEAAAAAgIQuQQAAAAAEEGlBAAAAAITXl0EAAAAAZc3NQQAAANDMEoNBAAAAADicfEEAAAAAZc3NQQAAAABlzb1BAAAAQN1Kv0EAAAAQ4jb4QQAAAADQEqNBAAAAALEIqUEAAAAAhNdnQQAAAACE14dBAAAAAKPh0UEAAAAAqMuoQQAAAKDBem9BAAAAbG1qMUIAAAAAhNeXQQAAAAD0BoRBAAAAwOxP/EEAAAAAiCpxQQAAACBfoCJCAAAAAFKAaUEAAAAAKnWVQQAAAIDADaZBAAAAYOVej0EAAAAAIwKHQQAAAAAAAAAAAAAAAEIGckEAAAAAGPt0QQAAACBfoAJCAAAAAPQGZEEAAACAIglBQQAAAAD0BnRBAAAAAGXN3UEAAAAAsQiZQQAAQF+sFPNBAAAAABj7lEEXNCczfJlwQQAAAEjKjhNCAAAAgKP3hkEAAABhGyQUQgAAAACE15dBAAAAACp1lUEAAABAe0pkQQAAAABYtVBBAAAAANASY0EAAAAAhNenQQAAAACE15dBAAAAAGhNU0EAAAAA9AZ0QQAAAEjKjhNCAAAAAAAAAAAAAAA4TSUJQgAAAABlze1BAAAAAITXl0EAAACwjvAbQgAAAAAY+3RBAAAAAPQGdEEAAAAAaRR5QQAAADDW/XhBAAAAAHawsEEAAACAdNLaQQAAAAA4nIxBAAAAAPQGlEEAAABA/FTJQQAAAABlzc1BAAAASnjesUEAAAAAgIR+QQAAAAAAAAAAAAAAADicjEEAAAAAAAAAAAAAAACIKpFBAAAAAGDjtkEAAADodkgnQgAAAACxCKlBAAAAAAAAAAAAAAAAkAVQQQAAAADQEnNBAAAAAITXh0EAAAAAAAAAAAAAAAD0BnRBAAAA0IkfcEEAAAAAAAAAAEVHcm82tGtBAAAAAGXNzUEAAAAA0BKDQQAAAADQEqNBAAAAAAAAAAAAAAAA0BJzQQAAAACE14dBAAAAQLAZ/kEAAACgPG5lQQAAAADQEnNBAAAAAN45mkEAAAAAhNeXQQAAAIi+sIxBAAAAAPQGtEEAAAAAhNeXQQAAAIAmTElBAAAAAAAAAAAAAAAA9AaUQQAAAABlza1BAAAAAITXh0EAAAAArFN+QQAAAOh2SEdCAACAEzIr1UEAAAAAOJxsQQAAAOh2SCdCAAAAAEamU0EAAAAA9AZkQQAAAAB2sJBBAAAAEIc5kUEAAAAA9AakQQAAAACE15dBAAAAsP1ZqkEAAAAgX6ACQgAAAACxCJlBAAAAAGXN3UEAAAAAZc29QQAAAMALWtZBAAAAADicnEEAAAAAzL+JQQAAAPDKFHVBAAAA0JGKk0EAAAAAhNeXQQAAAGYDuhhCAAAABGv0NEIAAAAAqMt4QQAAAODPEmNBAAAAAAAAAAAAAAAAAAAAAAAAAAD0BnRBAAAAqMgjhUEAAAAA0BJTQQAAAEouGDVCAAAAIF+g4kEAAABQ0ep0QQAAAJC9OnRBAAAAAN45mkEAAAAAYONmQQAAAAAqdYVBAAAAADicfEEAAAAAOJx8QQAAAAAY+3RBAAAAAPQGdEEAAAAAgISOQQAAAAAAAAAAAAAAADzvdUEAAAAA9AZ0QQAAAADAXEVBAAAAAAAAAAAAAAAA9AZ0QQAAAABlzc1BAAAAAIgqcUEAAAAAZc29QQAAAAD0BnRBAAAAALEIqUEAAAAAAKSvQQAAACBfoAJCAAAAANASc0EAAAAAhNenQQAAAICT3LRBAAAAAGDjZkEAAAAA0BJjQQAAAMAqZNBBAAAAAPQGlEEAAAAAAi6rQQAAAABi12FBAAAAiEf2+0EAAAAgg5TDQQAAAACxCMlBAAAAAICETkEAAAA8U0wgQgAAAOh2SCdCAAAAAITXl0EAAAAAtvJ/QQAAAABgD3hBAAAAANASc0EAAAAAZc3NQQAAAACj4aFBAAAA5JAkEUIAAACAUhCjQQAAAABwmTRBAAAAAPQGlEEAAAAAuMuSQQAAAACj4aFBAAAAVnDJzUEAAAAAOJyMQQAAAJigazVCAAAAAIgqoUEAAAAApHh/QQAAAACE15dBAAAAAITXl0EAAAAAhNe3QQAAAABxsDhBAAAAAPQGhEEAAAAAhNenQQAAAABlzb1BAAAAAPQGpEEAAAAAhNe3QQAAAADQEmNBAAAAAAAAAAAAAAAAkv6uQQAAAACAhG5BAAAAAAQQmUEAAID8I2TDQQAAAAD0BnRBAAAAwAtaVkIAAAAArOciQQAAAABg40ZBAAAAAITXp0EAAAAAeKlvQQAAAOCAPnFBAAAAAEIG4kEAAAAAo+HRQQAAAP9LSLRBAAAAAGTcbkEAAAAAAAAAAAAAAAD0BrRBAAAAmKBrRUIAAAAA0BJzQQAAAAD0BnRBAAAAAFempkEAAAAAsQjZQQAAAAD0BnRBAAAAsI7wC0IAAAAAZc29QQAAAAD0BpRBAAAAAGQ2kEEAAAAAvpiSQQAAAABlzc1BAAAAQDYWtEEAAAAAAAAAAAAAAADQEpNBAAAAAITXp0EAAABI8MmVQQAAAACxCJlBAAAAgKS4SUEAAAAAANAiQflP8rnQBXJBAAAAAGXNzUEAAADAKmTQQQAAAABIw0xBAAAAAFe1REEAAAAA9AZ0QQAAAAAAAAAAAAAA6HZIN0IAAAAAM7KlQQAAAIDjd2BBAAAAAITXl0EAAAAAPO91QQAAAARr9DRCAAAAADicfEEAAAAAZc3NQQAAAABlzb1BAAAAALEImUEfhWtZGqKiQQAAAACE13dBAAAAAJLJckEAAAAAl2CCQQAAAAOk4cFBAAAAAGXNzUEAAAAA9AZ0QQAAiAgpSB5CAAAAAITXh0EAAADgAnEPQgAAAAB+GK5BAADwH1+g8kEAAABAG1/DQQAAAACxCLlBAAAAQN1K30EAAAAA9AZ0QQAAAC5ZdjFCAAAAACp1hUEAAAAA0BJzQQAAAAAAAAAAAAAAAPQGdEEAAACgstWjQQAAAICT3LRBAAAAAITXd0EAAAAAZc3dQQAAAAAAAAAAAAAAAHJdl0EAAACA13GtQQAAAACxCJlBAAAAAITXl0EAAAAAhNeXQQAAwGiieUVCAAAAAIgqYUEAAAAAZc29QQAAAAAAAAAAAAAAAIgqoUEAAACAgFp3QQAAAAAAAAAAAAAAAMy/eUEAAAAQB42qQQAAAAD0BpRBAAAAuHFqgEEAAAAAAAAAAAAAAAAOE0NBAAAAAPQGdEEAAAAAYON2QQAAAACxCKlBAAAAYJ8GlUEAAMD////fQQAAAABlza1BAAAAAAAAAAAAAADgxxjnQQAAAACE15dBAAAAADicfEEAAAAAYON2QQAAADC9/wJCAAAAwCpkoEEAAAAAZc29QQAAAACE15dBAAAANTfXNkIAAAAgX6DyQQAAAAAAaohBAAAA6HZIJ0IAAAAAo+GRQQAAAAA4nHxBAAAASMqOA0IAAAAABBCpQQAAAAD0BnRBAAAAINNxckEAAAAA9AZ0QQAAAAAAAAAAAAAAIF+gAkIAAADohl+NQQAAAHi5xJdBAAAAALEIyUEAAAAA0BJjQQAAAAD84XJBAAAA4FgxlUEAAAAAAAAAAAAAAADQEoNBAAAAAGXNrUEAAAAAAECPQAAAAADndspBAAAAAGWYgUEAAAAAZc29QQAAAABlzc1BAAAAQOXwsUEAAACgSgJuQQAAAACE15dBAAAAAMRqhkEAAAAAhNfHQQAAAADQEmNBAAAAAITXd0EAAAAAZc3NQQAAAAD0BoRBAAAAAITXl0EAAAAAAEz9QAAAAAAAAAAAAAAAgHTSykEAAACilBptQgAAABA+rpNBAAAA0IjDEEIAAAAgX6DyQQAAAABlzc1BAAAAAITXt0EAAAAA0BJzQQAAAABXO3NBAAAAAGXN7UEAAAAAAAAAAFyPwgUEEJlBAAAAANASk0EAAAAAQGJyQQAAAACoy2hBAAAAAICEDkEAAAAAsQipQQAAAAAAAAAAAAAA0BXap0EAAAAAhNfXQQAAAAAUqKtBAAAAAITXl0EAAGLMeTA0QgAAAAA873VBAAAAAITXl0EAAAAAKnWVQQAAAACE15dBAAAAAMy/eUEAAAAAZc3NQQAAAABckJ1BAAAAQN1K30EAAAAAAAAAAAAAAAD0BpRBAAAAANASc0EAAAAAOJycQQAAAAA4nJxBAAAAAITXl0EAAAAA0AxEQQAAAAAApK9BAAAAYLgT2kEAAADodkgXQgAAAACAhC5BAAAAAPQGdEEAAAAAGPtUQQAAAACE15dBAAAAAPQGdEEAAAAAC2vbQQAAAAAAAAAAAAAAANASc0EAAAAAIwKHQQAAACBfoAJCAAAAgLfQtUH1IXdjB2ZNQQAAAADQEoNBAACYsZWkAkIAAADQiMMAQgAAAAD0BnRBAAAAACp1hUEAAAAAzL+JQQAAAAAwjHFBAAAA4DgiYkEAAABAkw11QQAAAAAAAAAAAAAAAGXN3UEAAAAA0BJTQQAAAACapJFBAAAAAITXZ0EAAAAAo+GRQQAAAACQBUBBAAAAgGarw0EAAACAMD2SQQAAAAAAAAAAAAAAABj7hEEAAAASZcozQgAAAAYK1g5CAAAAAITXl0EAAAAAo+GxQQAAAACcaHRBAAAAiKwRpEEAAAAA3jmKQQAAAABlzc1BAAAAAPQGdEEAAAAA9AZ0QQAAAB7cDDdCAAAAAPQGdEEAAAAAZc3dQQAAAABkNnBBAAAACMA9pEEAAAAA9AZ0QQAAAABlza1BAAAAAPQGdEEAAAAA6JFiQQ==\",\"dtype\":\"float64\",\"shape\":[530]},\"TotalCoinsMined\":{\"__ndarray__\":\"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\",\"dtype\":\"float64\",\"shape\":[530]}},\"selected\":{\"id\":\"2736\",\"type\":\"Selection\"},\"selection_policy\":{\"id\":\"2753\",\"type\":\"UnionRenderers\"}},\"id\":\"2735\",\"type\":\"ColumnDataSource\"},{\"attributes\":{\"bottom_units\":\"screen\",\"fill_alpha\":{\"value\":0.5},\"fill_color\":{\"value\":\"lightgrey\"},\"left_units\":\"screen\",\"level\":\"overlay\",\"line_alpha\":{\"value\":1.0},\"line_color\":{\"value\":\"black\"},\"line_dash\":[4,4],\"line_width\":{\"value\":2},\"render_mode\":\"css\",\"right_units\":\"screen\",\"top_units\":\"screen\"},\"id\":\"2752\",\"type\":\"BoxAnnotation\"},{\"attributes\":{\"grid_line_color\":null,\"ticker\":{\"id\":\"2714\",\"type\":\"BasicTicker\"}},\"id\":\"2717\",\"type\":\"Grid\"},{\"attributes\":{},\"id\":\"2753\",\"type\":\"UnionRenderers\"},{\"attributes\":{},\"id\":\"2745\",\"type\":\"BasicTickFormatter\"},{\"attributes\":{\"dimension\":1,\"grid_line_color\":null,\"ticker\":{\"id\":\"2719\",\"type\":\"BasicTicker\"}},\"id\":\"2722\",\"type\":\"Grid\"},{\"attributes\":{\"fill_alpha\":{\"value\":0.1},\"fill_color\":{\"value\":\"#1f77b4\"},\"line_alpha\":{\"value\":0.1},\"line_color\":{\"value\":\"#1f77b4\"},\"size\":{\"units\":\"screen\",\"value\":5.477225575051661},\"x\":{\"field\":\"TotalCoinsMined\"},\"y\":{\"field\":\"TotalCoinSupply\"}},\"id\":\"2739\",\"type\":\"Scatter\"},{\"attributes\":{\"data_source\":{\"id\":\"2735\",\"type\":\"ColumnDataSource\"},\"glyph\":{\"id\":\"2738\",\"type\":\"Scatter\"},\"hover_glyph\":null,\"muted_glyph\":{\"id\":\"2740\",\"type\":\"Scatter\"},\"nonselection_glyph\":{\"id\":\"2739\",\"type\":\"Scatter\"},\"selection_glyph\":null,\"view\":{\"id\":\"2742\",\"type\":\"CDSView\"}},\"id\":\"2741\",\"type\":\"GlyphRenderer\"},{\"attributes\":{},\"id\":\"2736\",\"type\":\"Selection\"},{\"attributes\":{},\"id\":\"2719\",\"type\":\"BasicTicker\"},{\"attributes\":{\"axis_label\":\"TotalCoinsMined\",\"bounds\":\"auto\",\"formatter\":{\"id\":\"2743\",\"type\":\"BasicTickFormatter\"},\"major_label_orientation\":\"horizontal\",\"ticker\":{\"id\":\"2714\",\"type\":\"BasicTicker\"}},\"id\":\"2713\",\"type\":\"LinearAxis\"},{\"attributes\":{},\"id\":\"2714\",\"type\":\"BasicTicker\"},{\"attributes\":{\"source\":{\"id\":\"2735\",\"type\":\"ColumnDataSource\"}},\"id\":\"2742\",\"type\":\"CDSView\"},{\"attributes\":{\"callback\":null,\"renderers\":[{\"id\":\"2741\",\"type\":\"GlyphRenderer\"}],\"tags\":[\"hv_created\"],\"tooltips\":[[\"TotalCoinsMined\",\"@{TotalCoinsMined}\"],[\"TotalCoinSupply\",\"@{TotalCoinSupply}\"],[\"CoinName\",\"@{CoinName}\"]]},\"id\":\"2703\",\"type\":\"HoverTool\"},{\"attributes\":{\"overlay\":{\"id\":\"2752\",\"type\":\"BoxAnnotation\"}},\"id\":\"2726\",\"type\":\"BoxZoomTool\"}],\"root_ids\":[\"2704\"]},\"title\":\"Bokeh Application\",\"version\":\"1.2.0\"}};\n",
       "  var render_items = [{\"docid\":\"fb7a044d-70e4-4619-85af-be55319787be\",\"roots\":{\"2704\":\"41b128a9-7085-4063-8adf-7031b038919a\"}}];\n",
       "  root.Bokeh.embed.embed_items_notebook(docs_json, render_items);\n",
       "\n",
       "  }\n",
       "  if (root.Bokeh !== undefined) {\n",
       "    embed_document(root);\n",
       "  } else {\n",
       "    var attempts = 0;\n",
       "    var timer = setInterval(function(root) {\n",
       "      if (root.Bokeh !== undefined) {\n",
       "        embed_document(root);\n",
       "        clearInterval(timer);\n",
       "      }\n",
       "      attempts++;\n",
       "      if (attempts > 100) {\n",
       "        console.log(\"Bokeh: ERROR: Unable to run BokehJS code because BokehJS library is missing\");\n",
       "        clearInterval(timer);\n",
       "      }\n",
       "    }, 10, root)\n",
       "  }\n",
       "})(window);</script>"
      ],
      "text/plain": [
       ":Scatter   [TotalCoinsMined]   (TotalCoinSupply,CoinName)"
      ]
     },
     "execution_count": 484,
     "metadata": {
      "application/vnd.holoviews_exec.v0+json": {
       "id": "2704"
      }
     },
     "output_type": "execute_result"
    }
   ],
   "source": [
    "# Scaling data to create the scatter plot\n",
    "clustered_df.hvplot.scatter(x='TotalCoinsMined', y=\"TotalCoinSupply\", hover_cols=[\"CoinName\"])\n",
    "# Plot the scatter with x=\"TotalCoinsMined\" and y=\"TotalCoinSupply\""
   ]
  }
 ],
 "metadata": {
  "file_extension": ".py",
  "kernelspec": {
   "display_name": "Python 3",
   "language": "python",
   "name": "python3"
  },
  "language_info": {
   "codemirror_mode": {
    "name": "ipython",
    "version": 3
   },
   "file_extension": ".py",
   "mimetype": "text/x-python",
   "name": "python",
   "nbconvert_exporter": "python",
   "pygments_lexer": "ipython3",
   "version": "3.7.3"
  },
  "mimetype": "text/x-python",
  "name": "python",
  "npconvert_exporter": "python",
  "pygments_lexer": "ipython3",
  "version": 3
 },
 "nbformat": 4,
 "nbformat_minor": 4
}
